{
 "cells": [
  {
   "cell_type": "markdown",
   "metadata": {
    "application/vnd.databricks.v1+cell": {
     "inputWidgets": {},
     "nuid": "3575bb43-3bb6-4f8a-ae18-63ef3f7bde5f",
     "showTitle": false,
     "title": ""
    }
   },
   "source": [
    "# Demo: preprocesamiento y feature engineering de datos continuos y categóricos"
   ]
  },
  {
   "cell_type": "code",
   "execution_count": 0,
   "metadata": {
    "application/vnd.databricks.v1+cell": {
     "inputWidgets": {},
     "nuid": "2ef1b0cb-0a5f-4cda-acca-4e896f8c30c2",
     "showTitle": false,
     "title": ""
    }
   },
   "outputs": [],
   "source": [
    "import findspark\n",
    "findspark.init('/usr/local/spark') #Especificar la ruta del Apache Spark\n",
    "\n",
    "import pyspark.sql.functions as f\n",
    "import pyspark.sql.types as t\n",
    "from pyspark.sql.window import Window\n",
    "\n",
    "# Iniciar SparkSession\n",
    "spark = SparkSession \\\n",
    "        .builder \\\n",
    "        .getOrCreate()"
   ]
  },
  {
   "cell_type": "markdown",
   "metadata": {
    "application/vnd.databricks.v1+cell": {
     "inputWidgets": {},
     "nuid": "0c3b9ed2-8a85-477c-bae8-c33bf94e469b",
     "showTitle": false,
     "title": ""
    }
   },
   "source": [
    "## Ejemplo 1: Análisis de Churn Rate de clientes de tarjetas de crédito\n",
    "\n",
    "### 1. El problema\n",
    "Un gerente del banco está molesto porque cada vez más clientes abandonan sus servicios de tarjeta de crédito. Ellos apreciarían si se pudiera diseñar un modelo de clasificación de clientes que podrían potencialmente migrarse a un otro banco. La idea es dirigirse de manera proactiva al cliente para brindarle mejores servicios y cambiar sus decisiones en la dirección opuesta.\n",
    "\n",
    "### 2. El conjunto de datos\n",
    "Los datos de entrada disponibilizados están compuestos por las variables relacionadas al cliente (edad, género, nivel de educación, rango de ingresos anuales, etc.) y por las variables relacionadas con los movimientos de su cuenta bancaria (total de transacciones, límite de crédito, grado de utilización de la tarjeta, etc.).\n",
    "\n",
    "Los datos de salida están representadas por la columna `Attrition_Flag`, que clasifica cada cliente en retenido (**Existing Customer**) y perdido (**Attrited Customer**)."
   ]
  },
  {
   "cell_type": "code",
   "execution_count": 0,
   "metadata": {
    "application/vnd.databricks.v1+cell": {
     "inputWidgets": {},
     "nuid": "4a3093a7-f20d-46ef-b35c-fb8dc6a81002",
     "showTitle": false,
     "title": ""
    }
   },
   "outputs": [
    {
     "data": {
      "text/plain": [
       "(10127, 23)\n"
      ]
     },
     "metadata": {
      "application/vnd.databricks.v1+output": {
       "addedWidgets": {},
       "arguments": {},
       "data": "(10127, 23)\n",
       "datasetInfos": [],
       "metadata": {},
       "removedWidgets": [],
       "type": "ansi"
      }
     },
     "output_type": "display_data"
    },
    {
     "data": {
      "text/html": [
       "<div>\n",
       "<style scoped>\n",
       "    .dataframe tbody tr th:only-of-type {\n",
       "        vertical-align: middle;\n",
       "    }\n",
       "\n",
       "    .dataframe tbody tr th {\n",
       "        vertical-align: top;\n",
       "    }\n",
       "\n",
       "    .dataframe thead th {\n",
       "        text-align: right;\n",
       "    }\n",
       "</style>\n",
       "<table border=\"1\" class=\"dataframe\">\n",
       "  <thead>\n",
       "    <tr style=\"text-align: right;\">\n",
       "      <th></th>\n",
       "      <th>CLIENTNUM</th>\n",
       "      <th>Attrition_Flag</th>\n",
       "      <th>Customer_Age</th>\n",
       "      <th>Gender</th>\n",
       "      <th>Dependent_count</th>\n",
       "      <th>Education_Level</th>\n",
       "      <th>Marital_Status</th>\n",
       "      <th>Income_Category</th>\n",
       "      <th>Card_Category</th>\n",
       "      <th>Months_on_book</th>\n",
       "      <th>...</th>\n",
       "      <th>Credit_Limit</th>\n",
       "      <th>Total_Revolving_Bal</th>\n",
       "      <th>Avg_Open_To_Buy</th>\n",
       "      <th>Total_Amt_Chng_Q4_Q1</th>\n",
       "      <th>Total_Trans_Amt</th>\n",
       "      <th>Total_Trans_Ct</th>\n",
       "      <th>Total_Ct_Chng_Q4_Q1</th>\n",
       "      <th>Avg_Utilization_Ratio</th>\n",
       "      <th>Naive_Bayes_Classifier_Attrition_Flag_Card_Category_Contacts_Count_12_mon_Dependent_count_Education_Level_Months_Inactive_12_mon_1</th>\n",
       "      <th>Naive_Bayes_Classifier_Attrition_Flag_Card_Category_Contacts_Count_12_mon_Dependent_count_Education_Level_Months_Inactive_12_mon_2</th>\n",
       "    </tr>\n",
       "  </thead>\n",
       "  <tbody>\n",
       "    <tr>\n",
       "      <th>0</th>\n",
       "      <td>768805383</td>\n",
       "      <td>Existing Customer</td>\n",
       "      <td>45</td>\n",
       "      <td>M</td>\n",
       "      <td>3</td>\n",
       "      <td>High School</td>\n",
       "      <td>Married</td>\n",
       "      <td>$60K - $80K</td>\n",
       "      <td>Blue</td>\n",
       "      <td>39</td>\n",
       "      <td>...</td>\n",
       "      <td>12691.0</td>\n",
       "      <td>777</td>\n",
       "      <td>11914.0</td>\n",
       "      <td>1.335</td>\n",
       "      <td>1144</td>\n",
       "      <td>42</td>\n",
       "      <td>1.625</td>\n",
       "      <td>0.061</td>\n",
       "      <td>0.000093</td>\n",
       "      <td>0.99991</td>\n",
       "    </tr>\n",
       "    <tr>\n",
       "      <th>1</th>\n",
       "      <td>818770008</td>\n",
       "      <td>Existing Customer</td>\n",
       "      <td>49</td>\n",
       "      <td>F</td>\n",
       "      <td>5</td>\n",
       "      <td>Graduate</td>\n",
       "      <td>Single</td>\n",
       "      <td>Less than $40K</td>\n",
       "      <td>Blue</td>\n",
       "      <td>44</td>\n",
       "      <td>...</td>\n",
       "      <td>8256.0</td>\n",
       "      <td>864</td>\n",
       "      <td>7392.0</td>\n",
       "      <td>1.541</td>\n",
       "      <td>1291</td>\n",
       "      <td>33</td>\n",
       "      <td>3.714</td>\n",
       "      <td>0.105</td>\n",
       "      <td>0.000057</td>\n",
       "      <td>0.99994</td>\n",
       "    </tr>\n",
       "    <tr>\n",
       "      <th>2</th>\n",
       "      <td>713982108</td>\n",
       "      <td>Existing Customer</td>\n",
       "      <td>51</td>\n",
       "      <td>M</td>\n",
       "      <td>3</td>\n",
       "      <td>Graduate</td>\n",
       "      <td>Married</td>\n",
       "      <td>$80K - $120K</td>\n",
       "      <td>Blue</td>\n",
       "      <td>36</td>\n",
       "      <td>...</td>\n",
       "      <td>3418.0</td>\n",
       "      <td>0</td>\n",
       "      <td>3418.0</td>\n",
       "      <td>2.594</td>\n",
       "      <td>1887</td>\n",
       "      <td>20</td>\n",
       "      <td>2.333</td>\n",
       "      <td>0.000</td>\n",
       "      <td>0.000021</td>\n",
       "      <td>0.99998</td>\n",
       "    </tr>\n",
       "    <tr>\n",
       "      <th>3</th>\n",
       "      <td>769911858</td>\n",
       "      <td>Existing Customer</td>\n",
       "      <td>40</td>\n",
       "      <td>F</td>\n",
       "      <td>4</td>\n",
       "      <td>High School</td>\n",
       "      <td>Unknown</td>\n",
       "      <td>Less than $40K</td>\n",
       "      <td>Blue</td>\n",
       "      <td>34</td>\n",
       "      <td>...</td>\n",
       "      <td>3313.0</td>\n",
       "      <td>2517</td>\n",
       "      <td>796.0</td>\n",
       "      <td>1.405</td>\n",
       "      <td>1171</td>\n",
       "      <td>20</td>\n",
       "      <td>2.333</td>\n",
       "      <td>0.760</td>\n",
       "      <td>0.000134</td>\n",
       "      <td>0.99987</td>\n",
       "    </tr>\n",
       "    <tr>\n",
       "      <th>4</th>\n",
       "      <td>709106358</td>\n",
       "      <td>Existing Customer</td>\n",
       "      <td>40</td>\n",
       "      <td>M</td>\n",
       "      <td>3</td>\n",
       "      <td>Uneducated</td>\n",
       "      <td>Married</td>\n",
       "      <td>$60K - $80K</td>\n",
       "      <td>Blue</td>\n",
       "      <td>21</td>\n",
       "      <td>...</td>\n",
       "      <td>4716.0</td>\n",
       "      <td>0</td>\n",
       "      <td>4716.0</td>\n",
       "      <td>2.175</td>\n",
       "      <td>816</td>\n",
       "      <td>28</td>\n",
       "      <td>2.500</td>\n",
       "      <td>0.000</td>\n",
       "      <td>0.000022</td>\n",
       "      <td>0.99998</td>\n",
       "    </tr>\n",
       "    <tr>\n",
       "      <th>5</th>\n",
       "      <td>713061558</td>\n",
       "      <td>Existing Customer</td>\n",
       "      <td>44</td>\n",
       "      <td>M</td>\n",
       "      <td>2</td>\n",
       "      <td>Graduate</td>\n",
       "      <td>Married</td>\n",
       "      <td>$40K - $60K</td>\n",
       "      <td>Blue</td>\n",
       "      <td>36</td>\n",
       "      <td>...</td>\n",
       "      <td>4010.0</td>\n",
       "      <td>1247</td>\n",
       "      <td>2763.0</td>\n",
       "      <td>1.376</td>\n",
       "      <td>1088</td>\n",
       "      <td>24</td>\n",
       "      <td>0.846</td>\n",
       "      <td>0.311</td>\n",
       "      <td>0.000055</td>\n",
       "      <td>0.99994</td>\n",
       "    </tr>\n",
       "    <tr>\n",
       "      <th>6</th>\n",
       "      <td>810347208</td>\n",
       "      <td>Existing Customer</td>\n",
       "      <td>51</td>\n",
       "      <td>M</td>\n",
       "      <td>4</td>\n",
       "      <td>Unknown</td>\n",
       "      <td>Married</td>\n",
       "      <td>$120K +</td>\n",
       "      <td>Gold</td>\n",
       "      <td>46</td>\n",
       "      <td>...</td>\n",
       "      <td>34516.0</td>\n",
       "      <td>2264</td>\n",
       "      <td>32252.0</td>\n",
       "      <td>1.975</td>\n",
       "      <td>1330</td>\n",
       "      <td>31</td>\n",
       "      <td>0.722</td>\n",
       "      <td>0.066</td>\n",
       "      <td>0.000123</td>\n",
       "      <td>0.99988</td>\n",
       "    </tr>\n",
       "    <tr>\n",
       "      <th>7</th>\n",
       "      <td>818906208</td>\n",
       "      <td>Existing Customer</td>\n",
       "      <td>32</td>\n",
       "      <td>M</td>\n",
       "      <td>0</td>\n",
       "      <td>High School</td>\n",
       "      <td>Unknown</td>\n",
       "      <td>$60K - $80K</td>\n",
       "      <td>Silver</td>\n",
       "      <td>27</td>\n",
       "      <td>...</td>\n",
       "      <td>29081.0</td>\n",
       "      <td>1396</td>\n",
       "      <td>27685.0</td>\n",
       "      <td>2.204</td>\n",
       "      <td>1538</td>\n",
       "      <td>36</td>\n",
       "      <td>0.714</td>\n",
       "      <td>0.048</td>\n",
       "      <td>0.000086</td>\n",
       "      <td>0.99991</td>\n",
       "    </tr>\n",
       "    <tr>\n",
       "      <th>8</th>\n",
       "      <td>710930508</td>\n",
       "      <td>Existing Customer</td>\n",
       "      <td>37</td>\n",
       "      <td>M</td>\n",
       "      <td>3</td>\n",
       "      <td>Uneducated</td>\n",
       "      <td>Single</td>\n",
       "      <td>$60K - $80K</td>\n",
       "      <td>Blue</td>\n",
       "      <td>36</td>\n",
       "      <td>...</td>\n",
       "      <td>22352.0</td>\n",
       "      <td>2517</td>\n",
       "      <td>19835.0</td>\n",
       "      <td>3.355</td>\n",
       "      <td>1350</td>\n",
       "      <td>24</td>\n",
       "      <td>1.182</td>\n",
       "      <td>0.113</td>\n",
       "      <td>0.000045</td>\n",
       "      <td>0.99996</td>\n",
       "    </tr>\n",
       "    <tr>\n",
       "      <th>9</th>\n",
       "      <td>719661558</td>\n",
       "      <td>Existing Customer</td>\n",
       "      <td>48</td>\n",
       "      <td>M</td>\n",
       "      <td>2</td>\n",
       "      <td>Graduate</td>\n",
       "      <td>Single</td>\n",
       "      <td>$80K - $120K</td>\n",
       "      <td>Blue</td>\n",
       "      <td>36</td>\n",
       "      <td>...</td>\n",
       "      <td>11656.0</td>\n",
       "      <td>1677</td>\n",
       "      <td>9979.0</td>\n",
       "      <td>1.524</td>\n",
       "      <td>1441</td>\n",
       "      <td>32</td>\n",
       "      <td>0.882</td>\n",
       "      <td>0.144</td>\n",
       "      <td>0.000303</td>\n",
       "      <td>0.99970</td>\n",
       "    </tr>\n",
       "  </tbody>\n",
       "</table>\n",
       "<p>10 rows × 23 columns</p>\n",
       "</div>"
      ]
     },
     "metadata": {
      "application/vnd.databricks.v1+output": {
       "addedWidgets": {},
       "arguments": {},
       "data": "<div>\n<style scoped>\n    .dataframe tbody tr th:only-of-type {\n        vertical-align: middle;\n    }\n\n    .dataframe tbody tr th {\n        vertical-align: top;\n    }\n\n    .dataframe thead th {\n        text-align: right;\n    }\n</style>\n<table border=\"1\" class=\"dataframe\">\n  <thead>\n    <tr style=\"text-align: right;\">\n      <th></th>\n      <th>CLIENTNUM</th>\n      <th>Attrition_Flag</th>\n      <th>Customer_Age</th>\n      <th>Gender</th>\n      <th>Dependent_count</th>\n      <th>Education_Level</th>\n      <th>Marital_Status</th>\n      <th>Income_Category</th>\n      <th>Card_Category</th>\n      <th>Months_on_book</th>\n      <th>...</th>\n      <th>Credit_Limit</th>\n      <th>Total_Revolving_Bal</th>\n      <th>Avg_Open_To_Buy</th>\n      <th>Total_Amt_Chng_Q4_Q1</th>\n      <th>Total_Trans_Amt</th>\n      <th>Total_Trans_Ct</th>\n      <th>Total_Ct_Chng_Q4_Q1</th>\n      <th>Avg_Utilization_Ratio</th>\n      <th>Naive_Bayes_Classifier_Attrition_Flag_Card_Category_Contacts_Count_12_mon_Dependent_count_Education_Level_Months_Inactive_12_mon_1</th>\n      <th>Naive_Bayes_Classifier_Attrition_Flag_Card_Category_Contacts_Count_12_mon_Dependent_count_Education_Level_Months_Inactive_12_mon_2</th>\n    </tr>\n  </thead>\n  <tbody>\n    <tr>\n      <th>0</th>\n      <td>768805383</td>\n      <td>Existing Customer</td>\n      <td>45</td>\n      <td>M</td>\n      <td>3</td>\n      <td>High School</td>\n      <td>Married</td>\n      <td>$60K - $80K</td>\n      <td>Blue</td>\n      <td>39</td>\n      <td>...</td>\n      <td>12691.0</td>\n      <td>777</td>\n      <td>11914.0</td>\n      <td>1.335</td>\n      <td>1144</td>\n      <td>42</td>\n      <td>1.625</td>\n      <td>0.061</td>\n      <td>0.000093</td>\n      <td>0.99991</td>\n    </tr>\n    <tr>\n      <th>1</th>\n      <td>818770008</td>\n      <td>Existing Customer</td>\n      <td>49</td>\n      <td>F</td>\n      <td>5</td>\n      <td>Graduate</td>\n      <td>Single</td>\n      <td>Less than $40K</td>\n      <td>Blue</td>\n      <td>44</td>\n      <td>...</td>\n      <td>8256.0</td>\n      <td>864</td>\n      <td>7392.0</td>\n      <td>1.541</td>\n      <td>1291</td>\n      <td>33</td>\n      <td>3.714</td>\n      <td>0.105</td>\n      <td>0.000057</td>\n      <td>0.99994</td>\n    </tr>\n    <tr>\n      <th>2</th>\n      <td>713982108</td>\n      <td>Existing Customer</td>\n      <td>51</td>\n      <td>M</td>\n      <td>3</td>\n      <td>Graduate</td>\n      <td>Married</td>\n      <td>$80K - $120K</td>\n      <td>Blue</td>\n      <td>36</td>\n      <td>...</td>\n      <td>3418.0</td>\n      <td>0</td>\n      <td>3418.0</td>\n      <td>2.594</td>\n      <td>1887</td>\n      <td>20</td>\n      <td>2.333</td>\n      <td>0.000</td>\n      <td>0.000021</td>\n      <td>0.99998</td>\n    </tr>\n    <tr>\n      <th>3</th>\n      <td>769911858</td>\n      <td>Existing Customer</td>\n      <td>40</td>\n      <td>F</td>\n      <td>4</td>\n      <td>High School</td>\n      <td>Unknown</td>\n      <td>Less than $40K</td>\n      <td>Blue</td>\n      <td>34</td>\n      <td>...</td>\n      <td>3313.0</td>\n      <td>2517</td>\n      <td>796.0</td>\n      <td>1.405</td>\n      <td>1171</td>\n      <td>20</td>\n      <td>2.333</td>\n      <td>0.760</td>\n      <td>0.000134</td>\n      <td>0.99987</td>\n    </tr>\n    <tr>\n      <th>4</th>\n      <td>709106358</td>\n      <td>Existing Customer</td>\n      <td>40</td>\n      <td>M</td>\n      <td>3</td>\n      <td>Uneducated</td>\n      <td>Married</td>\n      <td>$60K - $80K</td>\n      <td>Blue</td>\n      <td>21</td>\n      <td>...</td>\n      <td>4716.0</td>\n      <td>0</td>\n      <td>4716.0</td>\n      <td>2.175</td>\n      <td>816</td>\n      <td>28</td>\n      <td>2.500</td>\n      <td>0.000</td>\n      <td>0.000022</td>\n      <td>0.99998</td>\n    </tr>\n    <tr>\n      <th>5</th>\n      <td>713061558</td>\n      <td>Existing Customer</td>\n      <td>44</td>\n      <td>M</td>\n      <td>2</td>\n      <td>Graduate</td>\n      <td>Married</td>\n      <td>$40K - $60K</td>\n      <td>Blue</td>\n      <td>36</td>\n      <td>...</td>\n      <td>4010.0</td>\n      <td>1247</td>\n      <td>2763.0</td>\n      <td>1.376</td>\n      <td>1088</td>\n      <td>24</td>\n      <td>0.846</td>\n      <td>0.311</td>\n      <td>0.000055</td>\n      <td>0.99994</td>\n    </tr>\n    <tr>\n      <th>6</th>\n      <td>810347208</td>\n      <td>Existing Customer</td>\n      <td>51</td>\n      <td>M</td>\n      <td>4</td>\n      <td>Unknown</td>\n      <td>Married</td>\n      <td>$120K +</td>\n      <td>Gold</td>\n      <td>46</td>\n      <td>...</td>\n      <td>34516.0</td>\n      <td>2264</td>\n      <td>32252.0</td>\n      <td>1.975</td>\n      <td>1330</td>\n      <td>31</td>\n      <td>0.722</td>\n      <td>0.066</td>\n      <td>0.000123</td>\n      <td>0.99988</td>\n    </tr>\n    <tr>\n      <th>7</th>\n      <td>818906208</td>\n      <td>Existing Customer</td>\n      <td>32</td>\n      <td>M</td>\n      <td>0</td>\n      <td>High School</td>\n      <td>Unknown</td>\n      <td>$60K - $80K</td>\n      <td>Silver</td>\n      <td>27</td>\n      <td>...</td>\n      <td>29081.0</td>\n      <td>1396</td>\n      <td>27685.0</td>\n      <td>2.204</td>\n      <td>1538</td>\n      <td>36</td>\n      <td>0.714</td>\n      <td>0.048</td>\n      <td>0.000086</td>\n      <td>0.99991</td>\n    </tr>\n    <tr>\n      <th>8</th>\n      <td>710930508</td>\n      <td>Existing Customer</td>\n      <td>37</td>\n      <td>M</td>\n      <td>3</td>\n      <td>Uneducated</td>\n      <td>Single</td>\n      <td>$60K - $80K</td>\n      <td>Blue</td>\n      <td>36</td>\n      <td>...</td>\n      <td>22352.0</td>\n      <td>2517</td>\n      <td>19835.0</td>\n      <td>3.355</td>\n      <td>1350</td>\n      <td>24</td>\n      <td>1.182</td>\n      <td>0.113</td>\n      <td>0.000045</td>\n      <td>0.99996</td>\n    </tr>\n    <tr>\n      <th>9</th>\n      <td>719661558</td>\n      <td>Existing Customer</td>\n      <td>48</td>\n      <td>M</td>\n      <td>2</td>\n      <td>Graduate</td>\n      <td>Single</td>\n      <td>$80K - $120K</td>\n      <td>Blue</td>\n      <td>36</td>\n      <td>...</td>\n      <td>11656.0</td>\n      <td>1677</td>\n      <td>9979.0</td>\n      <td>1.524</td>\n      <td>1441</td>\n      <td>32</td>\n      <td>0.882</td>\n      <td>0.144</td>\n      <td>0.000303</td>\n      <td>0.99970</td>\n    </tr>\n  </tbody>\n</table>\n<p>10 rows × 23 columns</p>\n</div>",
       "datasetInfos": [],
       "metadata": {},
       "removedWidgets": [],
       "textData": null,
       "type": "htmlSandbox"
      }
     },
     "output_type": "display_data"
    }
   ],
   "source": [
    "# Cargar la tabla\n",
    "transactions = spark.read.option(\"header\",True).option(\"inferSchema\",True).csv(\"BankChurners.csv\")\n",
    "print((transactions.count(), len(transactions.columns)))\n",
    "transactions.cache()\n",
    "\n",
    "# Visualizar la tabla\n",
    "transactions.limit(10).toPandas()"
   ]
  },
  {
   "cell_type": "markdown",
   "metadata": {
    "application/vnd.databricks.v1+cell": {
     "inputWidgets": {},
     "nuid": "8d1116de-94c6-42c3-b5d9-aaee7b458abb",
     "showTitle": false,
     "title": ""
    }
   },
   "source": [
    "### 3. Limpieza de los datos\n",
    "\n",
    "#### 3.1. Hacer recuento de los datos faltantes\n",
    "\n",
    "Se hace un recuento de datos faltantes o nulos en todas las columnas del conjunto de datos. Es importante que identifiquemos y filtremos los valores nulos aquí. MLlib no siempre funciona bien con valores faltantes. Esta es una causa frecuente de problemas y errores y un gran primer paso cuando estás depurando."
   ]
  },
  {
   "cell_type": "code",
   "execution_count": 0,
   "metadata": {
    "application/vnd.databricks.v1+cell": {
     "inputWidgets": {},
     "nuid": "84976359-3962-4d77-a18f-7b88ee2389ad",
     "showTitle": false,
     "title": ""
    }
   },
   "outputs": [
    {
     "data": {
      "text/html": [
       "<div>\n",
       "<style scoped>\n",
       "    .dataframe tbody tr th:only-of-type {\n",
       "        vertical-align: middle;\n",
       "    }\n",
       "\n",
       "    .dataframe tbody tr th {\n",
       "        vertical-align: top;\n",
       "    }\n",
       "\n",
       "    .dataframe thead th {\n",
       "        text-align: right;\n",
       "    }\n",
       "</style>\n",
       "<table border=\"1\" class=\"dataframe\">\n",
       "  <thead>\n",
       "    <tr style=\"text-align: right;\">\n",
       "      <th></th>\n",
       "      <th>0</th>\n",
       "    </tr>\n",
       "  </thead>\n",
       "  <tbody>\n",
       "    <tr>\n",
       "      <th>CLIENTNUM</th>\n",
       "      <td>0</td>\n",
       "    </tr>\n",
       "    <tr>\n",
       "      <th>Attrition_Flag</th>\n",
       "      <td>0</td>\n",
       "    </tr>\n",
       "    <tr>\n",
       "      <th>Customer_Age</th>\n",
       "      <td>0</td>\n",
       "    </tr>\n",
       "    <tr>\n",
       "      <th>Gender</th>\n",
       "      <td>0</td>\n",
       "    </tr>\n",
       "    <tr>\n",
       "      <th>Dependent_count</th>\n",
       "      <td>0</td>\n",
       "    </tr>\n",
       "    <tr>\n",
       "      <th>Education_Level</th>\n",
       "      <td>0</td>\n",
       "    </tr>\n",
       "    <tr>\n",
       "      <th>Marital_Status</th>\n",
       "      <td>0</td>\n",
       "    </tr>\n",
       "    <tr>\n",
       "      <th>Income_Category</th>\n",
       "      <td>0</td>\n",
       "    </tr>\n",
       "    <tr>\n",
       "      <th>Card_Category</th>\n",
       "      <td>0</td>\n",
       "    </tr>\n",
       "    <tr>\n",
       "      <th>Months_on_book</th>\n",
       "      <td>0</td>\n",
       "    </tr>\n",
       "    <tr>\n",
       "      <th>Total_Relationship_Count</th>\n",
       "      <td>0</td>\n",
       "    </tr>\n",
       "    <tr>\n",
       "      <th>Months_Inactive_12_mon</th>\n",
       "      <td>0</td>\n",
       "    </tr>\n",
       "    <tr>\n",
       "      <th>Contacts_Count_12_mon</th>\n",
       "      <td>0</td>\n",
       "    </tr>\n",
       "    <tr>\n",
       "      <th>Credit_Limit</th>\n",
       "      <td>0</td>\n",
       "    </tr>\n",
       "    <tr>\n",
       "      <th>Total_Revolving_Bal</th>\n",
       "      <td>0</td>\n",
       "    </tr>\n",
       "    <tr>\n",
       "      <th>Avg_Open_To_Buy</th>\n",
       "      <td>0</td>\n",
       "    </tr>\n",
       "    <tr>\n",
       "      <th>Total_Amt_Chng_Q4_Q1</th>\n",
       "      <td>0</td>\n",
       "    </tr>\n",
       "    <tr>\n",
       "      <th>Total_Trans_Amt</th>\n",
       "      <td>0</td>\n",
       "    </tr>\n",
       "    <tr>\n",
       "      <th>Total_Trans_Ct</th>\n",
       "      <td>0</td>\n",
       "    </tr>\n",
       "    <tr>\n",
       "      <th>Total_Ct_Chng_Q4_Q1</th>\n",
       "      <td>0</td>\n",
       "    </tr>\n",
       "    <tr>\n",
       "      <th>Avg_Utilization_Ratio</th>\n",
       "      <td>0</td>\n",
       "    </tr>\n",
       "    <tr>\n",
       "      <th>Naive_Bayes_Classifier_Attrition_Flag_Card_Category_Contacts_Count_12_mon_Dependent_count_Education_Level_Months_Inactive_12_mon_1</th>\n",
       "      <td>0</td>\n",
       "    </tr>\n",
       "    <tr>\n",
       "      <th>Naive_Bayes_Classifier_Attrition_Flag_Card_Category_Contacts_Count_12_mon_Dependent_count_Education_Level_Months_Inactive_12_mon_2</th>\n",
       "      <td>0</td>\n",
       "    </tr>\n",
       "  </tbody>\n",
       "</table>\n",
       "</div>"
      ]
     },
     "metadata": {
      "application/vnd.databricks.v1+output": {
       "addedWidgets": {},
       "arguments": {},
       "data": "<div>\n<style scoped>\n    .dataframe tbody tr th:only-of-type {\n        vertical-align: middle;\n    }\n\n    .dataframe tbody tr th {\n        vertical-align: top;\n    }\n\n    .dataframe thead th {\n        text-align: right;\n    }\n</style>\n<table border=\"1\" class=\"dataframe\">\n  <thead>\n    <tr style=\"text-align: right;\">\n      <th></th>\n      <th>0</th>\n    </tr>\n  </thead>\n  <tbody>\n    <tr>\n      <th>CLIENTNUM</th>\n      <td>0</td>\n    </tr>\n    <tr>\n      <th>Attrition_Flag</th>\n      <td>0</td>\n    </tr>\n    <tr>\n      <th>Customer_Age</th>\n      <td>0</td>\n    </tr>\n    <tr>\n      <th>Gender</th>\n      <td>0</td>\n    </tr>\n    <tr>\n      <th>Dependent_count</th>\n      <td>0</td>\n    </tr>\n    <tr>\n      <th>Education_Level</th>\n      <td>0</td>\n    </tr>\n    <tr>\n      <th>Marital_Status</th>\n      <td>0</td>\n    </tr>\n    <tr>\n      <th>Income_Category</th>\n      <td>0</td>\n    </tr>\n    <tr>\n      <th>Card_Category</th>\n      <td>0</td>\n    </tr>\n    <tr>\n      <th>Months_on_book</th>\n      <td>0</td>\n    </tr>\n    <tr>\n      <th>Total_Relationship_Count</th>\n      <td>0</td>\n    </tr>\n    <tr>\n      <th>Months_Inactive_12_mon</th>\n      <td>0</td>\n    </tr>\n    <tr>\n      <th>Contacts_Count_12_mon</th>\n      <td>0</td>\n    </tr>\n    <tr>\n      <th>Credit_Limit</th>\n      <td>0</td>\n    </tr>\n    <tr>\n      <th>Total_Revolving_Bal</th>\n      <td>0</td>\n    </tr>\n    <tr>\n      <th>Avg_Open_To_Buy</th>\n      <td>0</td>\n    </tr>\n    <tr>\n      <th>Total_Amt_Chng_Q4_Q1</th>\n      <td>0</td>\n    </tr>\n    <tr>\n      <th>Total_Trans_Amt</th>\n      <td>0</td>\n    </tr>\n    <tr>\n      <th>Total_Trans_Ct</th>\n      <td>0</td>\n    </tr>\n    <tr>\n      <th>Total_Ct_Chng_Q4_Q1</th>\n      <td>0</td>\n    </tr>\n    <tr>\n      <th>Avg_Utilization_Ratio</th>\n      <td>0</td>\n    </tr>\n    <tr>\n      <th>Naive_Bayes_Classifier_Attrition_Flag_Card_Category_Contacts_Count_12_mon_Dependent_count_Education_Level_Months_Inactive_12_mon_1</th>\n      <td>0</td>\n    </tr>\n    <tr>\n      <th>Naive_Bayes_Classifier_Attrition_Flag_Card_Category_Contacts_Count_12_mon_Dependent_count_Education_Level_Months_Inactive_12_mon_2</th>\n      <td>0</td>\n    </tr>\n  </tbody>\n</table>\n</div>",
       "datasetInfos": [],
       "metadata": {},
       "removedWidgets": [],
       "textData": null,
       "type": "htmlSandbox"
      }
     },
     "output_type": "display_data"
    }
   ],
   "source": [
    "transactions.select([f.count(f.when(f.isnan(c), c)).alias(c) for c in transactions.columns]).toPandas().transpose()"
   ]
  },
  {
   "cell_type": "markdown",
   "metadata": {
    "application/vnd.databricks.v1+cell": {
     "inputWidgets": {},
     "nuid": "0fdaf3eb-47b5-4b01-9c65-888e6fb99b46",
     "showTitle": false,
     "title": ""
    }
   },
   "source": [
    "#### 3.2. Remover la primera y las dos últimas columnas\n",
    "\n",
    "Algunas de los atributos en el dataset no aportan significado al análisis. La primera columna hace referencia al ID de los distintos clientes, así que será limitado. También serán eliminados las dos últimas columnas, ya que fueron introducidas por error."
   ]
  },
  {
   "cell_type": "code",
   "execution_count": 0,
   "metadata": {
    "application/vnd.databricks.v1+cell": {
     "inputWidgets": {},
     "nuid": "853ef552-e8b7-48c9-bbaf-fb85284d9ab1",
     "showTitle": false,
     "title": ""
    }
   },
   "outputs": [],
   "source": [
    "transactions = transactions.drop(\"CLIENTNUM\", transactions.columns[-1], transactions.columns[-2])"
   ]
  },
  {
   "cell_type": "markdown",
   "metadata": {
    "application/vnd.databricks.v1+cell": {
     "inputWidgets": {},
     "nuid": "c5d5a96a-eb01-42ee-9c4a-1e244ffa1d2f",
     "showTitle": false,
     "title": ""
    }
   },
   "source": [
    "### 4. Exploración de los datos\n",
    "\n",
    "#### 4.1. Examinando el balance entre las categorías en los datos de salida\n",
    "En problemas de clasificación binária, la falta del balance entre las categorías es un problema frecuente en machine learning. Si detectamos una categoría que está desproporcionalmente representada en el dataset, tenemos varias opciones antes de crear nuestro modelo.\n",
    "* Sobremuestreo de la categoría subrepresentada (**oversampling**): soluciona el desbalance, pero aumenta significativamente el tamaño del conjunto de datos.\n",
    "* Submuestreo de la categoría sobrerepresentada (**undersampling**): también soluciona el desbalance, pero disminuye el tamaño del conjunto de datos y se pierde información.\n",
    "* Asignar un peso en cada categoría: por sí sólo no soluciona el desbalance, pero es posibile que un algoritmo de machine learning sea capaz de ajustar las precisiones en base a los pesos asignados. No realiza cambios en el tamaño del conjunto de datos.\n",
    "\n",
    "Cómo pueden ver, cada opción tiene sus propias limitaciones. A seguir, vamos a visualizar la representación de las diferentes categorías de nuestra variable de salida."
   ]
  },
  {
   "cell_type": "code",
   "execution_count": 0,
   "metadata": {
    "application/vnd.databricks.v1+cell": {
     "inputWidgets": {},
     "nuid": "517743e6-1f12-4fb8-8da0-0962023ec2ed",
     "showTitle": false,
     "title": ""
    }
   },
   "outputs": [
    {
     "data": {
      "image/png": "[encoded data removed]"
     },
     "metadata": {
      "application/vnd.databricks.v1+output": {
       "addedWidgets": {},
       "arguments": {},
       "data": "data:image/png;base64,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\n",
       "datasetInfos": [],
       "metadata": {},
       "removedWidgets": [],
       "type": "image"
      }
     },
     "output_type": "display_data"
    }
   ],
   "source": [
    "import seaborn as sns\n",
    "import matplotlib.pyplot as plt\n",
    "\n",
    "transactions_df = transactions.select(\"Attrition_Flag\").toPandas()\n",
    "colors = ['#39008E', '#008823']\n",
    "sns.set_palette(sns.color_palette(colors))\n",
    "sns.countplot(x=\"Attrition_Flag\", data=transactions_df)\n",
    "plt.title(\"Cantidad de clientes retenidos versus clientes perdidos\")\n",
    "plt.ylabel(\"Cantidad de clientes\")\n",
    "plt.xlabel(\"Clientes retenidos vs clientes perdidos\");"
   ]
  },
  {
   "cell_type": "markdown",
   "metadata": {
    "application/vnd.databricks.v1+cell": {
     "inputWidgets": {},
     "nuid": "153d005e-8426-4c04-96f7-6cfc8802b1e4",
     "showTitle": false,
     "title": ""
    }
   },
   "source": [
    "#### 4.2. Agregando una variable representando el peso de cada categoría\n",
    "\n",
    "A seguir, vamos a computar los pesos de cada categoría de la variable de salida y colocarlos en una nueva columna denominada `weight`"
   ]
  },
  {
   "cell_type": "code",
   "execution_count": 0,
   "metadata": {
    "application/vnd.databricks.v1+cell": {
     "inputWidgets": {},
     "nuid": "26033a76-00c7-4e2a-99f4-02652e2b5382",
     "showTitle": false,
     "title": ""
    }
   },
   "outputs": [
    {
     "data": {
      "text/html": [
       "<div>\n",
       "<style scoped>\n",
       "    .dataframe tbody tr th:only-of-type {\n",
       "        vertical-align: middle;\n",
       "    }\n",
       "\n",
       "    .dataframe tbody tr th {\n",
       "        vertical-align: top;\n",
       "    }\n",
       "\n",
       "    .dataframe thead th {\n",
       "        text-align: right;\n",
       "    }\n",
       "</style>\n",
       "<table border=\"1\" class=\"dataframe\">\n",
       "  <thead>\n",
       "    <tr style=\"text-align: right;\">\n",
       "      <th></th>\n",
       "      <th>Attrition_Flag</th>\n",
       "      <th>weight</th>\n",
       "    </tr>\n",
       "  </thead>\n",
       "  <tbody>\n",
       "    <tr>\n",
       "      <th>0</th>\n",
       "      <td>Attrited Customer</td>\n",
       "      <td>3.112170</td>\n",
       "    </tr>\n",
       "    <tr>\n",
       "      <th>1</th>\n",
       "      <td>Existing Customer</td>\n",
       "      <td>0.595706</td>\n",
       "    </tr>\n",
       "  </tbody>\n",
       "</table>\n",
       "</div>"
      ]
     },
     "metadata": {
      "application/vnd.databricks.v1+output": {
       "addedWidgets": {},
       "arguments": {},
       "data": "<div>\n<style scoped>\n    .dataframe tbody tr th:only-of-type {\n        vertical-align: middle;\n    }\n\n    .dataframe tbody tr th {\n        vertical-align: top;\n    }\n\n    .dataframe thead th {\n        text-align: right;\n    }\n</style>\n<table border=\"1\" class=\"dataframe\">\n  <thead>\n    <tr style=\"text-align: right;\">\n      <th></th>\n      <th>Attrition_Flag</th>\n      <th>weight</th>\n    </tr>\n  </thead>\n  <tbody>\n    <tr>\n      <th>0</th>\n      <td>Attrited Customer</td>\n      <td>3.112170</td>\n    </tr>\n    <tr>\n      <th>1</th>\n      <td>Existing Customer</td>\n      <td>0.595706</td>\n    </tr>\n  </tbody>\n</table>\n</div>",
       "datasetInfos": [],
       "metadata": {},
       "removedWidgets": [],
       "textData": null,
       "type": "htmlSandbox"
      }
     },
     "output_type": "display_data"
    }
   ],
   "source": [
    "import numpy as np\n",
    "from itertools import chain\n",
    "\n",
    "# Computar los pesos\n",
    "y_collect = transactions.select(\"Attrition_Flag\").groupBy(\"Attrition_Flag\").count().collect()\n",
    "unique_y = [x[\"Attrition_Flag\"] for x in y_collect]\n",
    "total_y = sum([x[\"count\"] for x in y_collect])\n",
    "unique_y_count = len(y_collect)\n",
    "bin_count = [x[\"count\"] for x in y_collect]\n",
    "class_weights_spark = {i: ii for i, ii in zip(unique_y, total_y / (unique_y_count * np.array(bin_count)))}\n",
    "\n",
    "# Crear la nueva columna de pesos\n",
    "mapping_expr = f.create_map([f.lit(x) for x in chain(*class_weights_spark.items())])\n",
    "transactions = transactions.withColumn(\"weight\", mapping_expr[f.col(\"Attrition_Flag\")])\n",
    "\n",
    "# Mostrar el resultado con la nueva columna\n",
    "transactions.select(\"Attrition_Flag\", \"weight\").distinct().toPandas()"
   ]
  },
  {
   "cell_type": "markdown",
   "metadata": {
    "application/vnd.databricks.v1+cell": {
     "inputWidgets": {},
     "nuid": "a0f03e47-f185-4a07-8fa5-3c46407260de",
     "showTitle": false,
     "title": ""
    }
   },
   "source": [
    "#### 4.3. Explorando las variables categóricas\n",
    "\n",
    "Examinaremos las variable categóricas para detectar presencia de valores desconocidos, y la proporción de estos en la variable de salida."
   ]
  },
  {
   "cell_type": "code",
   "execution_count": 0,
   "metadata": {
    "application/vnd.databricks.v1+cell": {
     "inputWidgets": {},
     "nuid": "6891d6b8-c59e-48d8-bba9-f40df10fc989",
     "showTitle": false,
     "title": ""
    }
   },
   "outputs": [
    {
     "data": {
      "text/plain": [
       "Categorias de Attrition_Flag: ['Existing Customer', 'Attrited Customer']\n",
       "Categorias de Gender: ['F', 'M']\n",
       "Categorias de Education_Level: ['High School', 'Unknown', 'Uneducated', 'Post-Graduate', 'Doctorate', 'Graduate', 'College']\n",
       "Categorias de Marital_Status: ['Unknown', 'Married', 'Divorced', 'Single']\n",
       "Categorias de Income_Category: ['$120K +', '$60K - $80K', '$80K - $120K', 'Unknown', '$40K - $60K', 'Less than $40K']\n",
       "Categorias de Card_Category: ['Platinum', 'Silver', 'Blue', 'Gold']\n"
      ]
     },
     "metadata": {
      "application/vnd.databricks.v1+output": {
       "addedWidgets": {},
       "arguments": {},
       "data": "Categorias de Attrition_Flag: ['Existing Customer', 'Attrited Customer']\nCategorias de Gender: ['F', 'M']\nCategorias de Education_Level: ['High School', 'Unknown', 'Uneducated', 'Post-Graduate', 'Doctorate', 'Graduate', 'College']\nCategorias de Marital_Status: ['Unknown', 'Married', 'Divorced', 'Single']\nCategorias de Income_Category: ['$120K +', '$60K - $80K', '$80K - $120K', 'Unknown', '$40K - $60K', 'Less than $40K']\nCategorias de Card_Category: ['Platinum', 'Silver', 'Blue', 'Gold']\n",
       "datasetInfos": [],
       "metadata": {},
       "removedWidgets": [],
       "type": "ansi"
      }
     },
     "output_type": "display_data"
    }
   ],
   "source": [
    "# Seleccionar las columnas categóricas\n",
    "meta = transactions.schema.fields\n",
    "columnList = [field.name for field in transactions.schema.fields \n",
    "              if isinstance(field.dataType, t.StringType)]\n",
    "\n",
    "# Seleccionar valores únicos en cada columna\n",
    "for column in columnList:\n",
    "    print(\"Categorias de {}: {}\".format(column, transactions.select(column).distinct().rdd.flatMap(lambda x: x).collect()))"
   ]
  },
  {
   "cell_type": "code",
   "execution_count": 0,
   "metadata": {
    "application/vnd.databricks.v1+cell": {
     "inputWidgets": {},
     "nuid": "2a4dc0e4-37d9-4519-8d13-3ba31d5368e4",
     "showTitle": false,
     "title": ""
    }
   },
   "outputs": [
    {
     "data": {
      "text/plain": [
       "Clientes con la variable Education_Level desconocida representan el 14.86% de los clientes perdidos y el 15.73% de los clientes existentes\n",
       "Clientes con la variable Marital_Status desconocida representan el 7.29% de los clientes perdidos y el 7.93% de los clientes existentes\n",
       "Clientes con la variable Income_Category desconocida representan el 10.88% de los clientes perdidos y el 11.49% de los clientes existentes\n"
      ]
     },
     "metadata": {
      "application/vnd.databricks.v1+output": {
       "addedWidgets": {},
       "arguments": {},
       "data": "Clientes con la variable Education_Level desconocida representan el 14.86% de los clientes perdidos y el 15.73% de los clientes existentes\nClientes con la variable Marital_Status desconocida representan el 7.29% de los clientes perdidos y el 7.93% de los clientes existentes\nClientes con la variable Income_Category desconocida representan el 10.88% de los clientes perdidos y el 11.49% de los clientes existentes\n",
       "datasetInfos": [],
       "metadata": {},
       "removedWidgets": [],
       "type": "ansi"
      }
     },
     "output_type": "display_data"
    }
   ],
   "source": [
    "total_existing = transactions.filter(transactions[\"Attrition_Flag\"] == \"Existing Customer\").count()\n",
    "total_attrited = transactions.filter(transactions[\"Attrition_Flag\"] == \"Attrited Customer\").count()\n",
    "\n",
    "for column in columnList:\n",
    "    if transactions.select(column).filter(transactions[column] == \"Unknown\").count() == 0:\n",
    "        pass\n",
    "    else:\n",
    "        print(\"Clientes con la variable {} desconocida representan el {:.2f}% de los clientes perdidos y el {:.2f}% de los clientes existentes\".format(column, transactions.select(column).filter((transactions[\"Attrition_Flag\"] == \"Existing Customer\") & (transactions[column] == \"Unknown\")).count() / total_existing * 100, transactions.select(column).filter((transactions[\"Attrition_Flag\"] == \"Attrited Customer\") & (transactions[column] == \"Unknown\")).count() / total_attrited * 100))"
   ]
  },
  {
   "cell_type": "markdown",
   "metadata": {
    "application/vnd.databricks.v1+cell": {
     "inputWidgets": {},
     "nuid": "6a8ec5b2-bd13-441e-83b8-6aafeefe90bd",
     "showTitle": false,
     "title": ""
    }
   },
   "source": [
    "### 5. Ingeniería de características (feature engineering)"
   ]
  },
  {
   "cell_type": "markdown",
   "metadata": {
    "application/vnd.databricks.v1+cell": {
     "inputWidgets": {},
     "nuid": "dc24dc41-8bdd-4ba3-a056-4c5c23b4d37f",
     "showTitle": false,
     "title": ""
    }
   },
   "source": [
    "#### 5.1. Codificación de variables categóricas ordinales con StringIndexer\n",
    "\n",
    "La codificación es el proceso de transformar una variable categórica que no sea numérica, con el objetivo de sea reconocido por el algoritmo de machine learning.\n",
    "\n",
    "El **StringIndexer** es la única opción para codificar variable categóricas ordinales. El transformador puede ordenar la variable de dos formas:\n",
    "* Por frecuencia, y\n",
    "* Por order alfabética.\n",
    "\n",
    "La forma de ordenar las categorías está definida por el atributo \"stringOrderType\". Si quisieramos transformar las variables `Education_Level`, `Income_Category` y `Card_Category`, y que estén ordenadas por la frecuencia (descendientes), lo haríamos de la siguiente manera:"
   ]
  },
  {
   "cell_type": "code",
   "execution_count": 0,
   "metadata": {
    "application/vnd.databricks.v1+cell": {
     "inputWidgets": {},
     "nuid": "ac9cfd3b-65ad-43e6-bbec-156616c73251",
     "showTitle": false,
     "title": ""
    }
   },
   "outputs": [
    {
     "data": {
      "text/html": [
       "<div>\n",
       "<style scoped>\n",
       "    .dataframe tbody tr th:only-of-type {\n",
       "        vertical-align: middle;\n",
       "    }\n",
       "\n",
       "    .dataframe tbody tr th {\n",
       "        vertical-align: top;\n",
       "    }\n",
       "\n",
       "    .dataframe thead th {\n",
       "        text-align: right;\n",
       "    }\n",
       "</style>\n",
       "<table border=\"1\" class=\"dataframe\">\n",
       "  <thead>\n",
       "    <tr style=\"text-align: right;\">\n",
       "      <th></th>\n",
       "      <th>Education_Level_cod</th>\n",
       "    </tr>\n",
       "  </thead>\n",
       "  <tbody>\n",
       "    <tr>\n",
       "      <th>0</th>\n",
       "      <td>1.0</td>\n",
       "    </tr>\n",
       "    <tr>\n",
       "      <th>1</th>\n",
       "      <td>0.0</td>\n",
       "    </tr>\n",
       "    <tr>\n",
       "      <th>2</th>\n",
       "      <td>0.0</td>\n",
       "    </tr>\n",
       "    <tr>\n",
       "      <th>3</th>\n",
       "      <td>1.0</td>\n",
       "    </tr>\n",
       "    <tr>\n",
       "      <th>4</th>\n",
       "      <td>3.0</td>\n",
       "    </tr>\n",
       "    <tr>\n",
       "      <th>5</th>\n",
       "      <td>0.0</td>\n",
       "    </tr>\n",
       "    <tr>\n",
       "      <th>6</th>\n",
       "      <td>2.0</td>\n",
       "    </tr>\n",
       "    <tr>\n",
       "      <th>7</th>\n",
       "      <td>1.0</td>\n",
       "    </tr>\n",
       "    <tr>\n",
       "      <th>8</th>\n",
       "      <td>3.0</td>\n",
       "    </tr>\n",
       "    <tr>\n",
       "      <th>9</th>\n",
       "      <td>0.0</td>\n",
       "    </tr>\n",
       "  </tbody>\n",
       "</table>\n",
       "</div>"
      ]
     },
     "metadata": {
      "application/vnd.databricks.v1+output": {
       "addedWidgets": {},
       "arguments": {},
       "data": "<div>\n<style scoped>\n    .dataframe tbody tr th:only-of-type {\n        vertical-align: middle;\n    }\n\n    .dataframe tbody tr th {\n        vertical-align: top;\n    }\n\n    .dataframe thead th {\n        text-align: right;\n    }\n</style>\n<table border=\"1\" class=\"dataframe\">\n  <thead>\n    <tr style=\"text-align: right;\">\n      <th></th>\n      <th>Education_Level_cod</th>\n    </tr>\n  </thead>\n  <tbody>\n    <tr>\n      <th>0</th>\n      <td>1.0</td>\n    </tr>\n    <tr>\n      <th>1</th>\n      <td>0.0</td>\n    </tr>\n    <tr>\n      <th>2</th>\n      <td>0.0</td>\n    </tr>\n    <tr>\n      <th>3</th>\n      <td>1.0</td>\n    </tr>\n    <tr>\n      <th>4</th>\n      <td>3.0</td>\n    </tr>\n    <tr>\n      <th>5</th>\n      <td>0.0</td>\n    </tr>\n    <tr>\n      <th>6</th>\n      <td>2.0</td>\n    </tr>\n    <tr>\n      <th>7</th>\n      <td>1.0</td>\n    </tr>\n    <tr>\n      <th>8</th>\n      <td>3.0</td>\n    </tr>\n    <tr>\n      <th>9</th>\n      <td>0.0</td>\n    </tr>\n  </tbody>\n</table>\n</div>",
       "datasetInfos": [],
       "metadata": {},
       "removedWidgets": [],
       "textData": null,
       "type": "htmlSandbox"
      }
     },
     "output_type": "display_data"
    }
   ],
   "source": [
    "from pyspark.ml.feature import StringIndexer\n",
    "\n",
    "# Definir las columnas de entrada y de salida\n",
    "inputcols = ['Education_Level', 'Income_Category', 'Card_Category']\n",
    "outputcols=['Education_Level_cod', 'Income_Category_cod', 'Card_Category_cod']\n",
    "\n",
    "# Aplicar el StringIndexer\n",
    "indexer = StringIndexer(inputCols=inputcols, outputCols=outputcols, handleInvalid='error', stringOrderType='frequencyDesc')\n",
    "transactions = indexer.fit(transactions).transform(transactions).drop('Education_Level', 'Income_Category', 'Card_Category')\n",
    "\n",
    "# Visualizar el resultado\n",
    "transactions.select(\"Education_Level_cod\").limit(10).toPandas()"
   ]
  },
  {
   "cell_type": "markdown",
   "metadata": {
    "application/vnd.databricks.v1+cell": {
     "inputWidgets": {},
     "nuid": "beb33f34-f7c2-42be-a5c6-5b8a32f7906a",
     "showTitle": false,
     "title": ""
    }
   },
   "source": [
    "#### 5.2. Codificación de variables categóricas nominales con OneHotEncoder\n",
    "\n",
    "El **One Hot Encoder** es un método de codificación que mapea los índices a un vector de representación binaria. Sirve para representar variables nominales de manera adecuada para la mayoría de los algoritmos de machine learning.\n",
    "\n",
    "El OneHotEncoder del Spark ML es particularmente diferente de los transformadores de otras librerías de machine learning, ya que trabaja con índices y se utiliza del resultado del StringIndexer para crear los vectores, lo que diferencia del tradicional estilo de creación de columnas *dummies* en otras librerías.\n",
    "\n",
    "El resultado del OneHotEncoder es una matriz de vectores escasos o dispersos. Esto suele ser poco intuitivo, ya que transforma los atributos en lugar de mantenerlos a diferencia del Scikit-Learn.\n",
    "\n",
    "La transformación por OneHotEncoder se realiza de la siguiente manera:"
   ]
  },
  {
   "cell_type": "code",
   "execution_count": 0,
   "metadata": {
    "application/vnd.databricks.v1+cell": {
     "inputWidgets": {},
     "nuid": "8033941f-63a9-4f92-acad-39922bb27152",
     "showTitle": false,
     "title": ""
    }
   },
   "outputs": [
    {
     "data": {
      "text/plain": [
       "+-------------+------------------+\n",
       "|   Gender_cod|Marital_Status_cod|\n",
       "+-------------+------------------+\n",
       "|    (1,[],[])|     (3,[0],[1.0])|\n",
       "|(1,[0],[1.0])|     (3,[1],[1.0])|\n",
       "|    (1,[],[])|     (3,[0],[1.0])|\n",
       "|(1,[0],[1.0])|     (3,[2],[1.0])|\n",
       "|    (1,[],[])|     (3,[0],[1.0])|\n",
       "|    (1,[],[])|     (3,[0],[1.0])|\n",
       "|    (1,[],[])|     (3,[0],[1.0])|\n",
       "|    (1,[],[])|     (3,[2],[1.0])|\n",
       "|    (1,[],[])|     (3,[1],[1.0])|\n",
       "|    (1,[],[])|     (3,[1],[1.0])|\n",
       "+-------------+------------------+\n",
       "only showing top 10 rows\n",
       "\n"
      ]
     },
     "metadata": {
      "application/vnd.databricks.v1+output": {
       "addedWidgets": {},
       "arguments": {},
       "data": "+-------------+------------------+\n|   Gender_cod|Marital_Status_cod|\n+-------------+------------------+\n|    (1,[],[])|     (3,[0],[1.0])|\n|(1,[0],[1.0])|     (3,[1],[1.0])|\n|    (1,[],[])|     (3,[0],[1.0])|\n|(1,[0],[1.0])|     (3,[2],[1.0])|\n|    (1,[],[])|     (3,[0],[1.0])|\n|    (1,[],[])|     (3,[0],[1.0])|\n|    (1,[],[])|     (3,[0],[1.0])|\n|    (1,[],[])|     (3,[2],[1.0])|\n|    (1,[],[])|     (3,[1],[1.0])|\n|    (1,[],[])|     (3,[1],[1.0])|\n+-------------+------------------+\nonly showing top 10 rows\n\n",
       "datasetInfos": [],
       "metadata": {},
       "removedWidgets": [],
       "type": "ansi"
      }
     },
     "output_type": "display_data"
    }
   ],
   "source": [
    "from pyspark.ml.feature import OneHotEncoder\n",
    "\n",
    "inputcols = ['Gender', 'Marital_Status']\n",
    "outputcolsindexer = ['Gender_idx', 'Marital_Status_idx']\n",
    "outputcolsonehot = ['Gender_cod', 'Marital_Status_cod']\n",
    "\n",
    "# Aplicar el StringIndexer\n",
    "indexer = StringIndexer(inputCols=inputcols, outputCols=outputcolsindexer, handleInvalid='error', stringOrderType='frequencyDesc')\n",
    "transactions = indexer.fit(transactions).transform(transactions).drop('Gender', 'Marital_Status')\n",
    "\n",
    "# Aplicar el OneHotEncoder\n",
    "onehot = OneHotEncoder(inputCols=outputcolsindexer, outputCols = outputcolsonehot)\n",
    "transactions = onehot.fit(transactions).transform(transactions).drop('Gender_idx', 'Marital_Status_idx')\n",
    "\n",
    "# Visualizar el resultado\n",
    "transactions.select(outputcolsonehot).show(10)"
   ]
  },
  {
   "cell_type": "markdown",
   "metadata": {
    "application/vnd.databricks.v1+cell": {
     "inputWidgets": {},
     "nuid": "43f1cd7f-b321-4ff0-b47a-d16415143d93",
     "showTitle": false,
     "title": ""
    }
   },
   "source": [
    "#### 5.3. Codificación de la variable de salida\n",
    "\n",
    "Se codificará la variable de salida mediante el StringIndexer:"
   ]
  },
  {
   "cell_type": "code",
   "execution_count": 0,
   "metadata": {
    "application/vnd.databricks.v1+cell": {
     "inputWidgets": {},
     "nuid": "2d6de672-bfad-4114-beff-6461990b6892",
     "showTitle": false,
     "title": ""
    }
   },
   "outputs": [],
   "source": [
    "# Definir las variables de entrada y de salida\n",
    "inputcol = \"Attrition_Flag\"\n",
    "outputcol = \"label\"\n",
    "\n",
    "# Aplicar el StringIndexer\n",
    "indexer = StringIndexer(inputCol=inputcol, outputCol=outputcol, handleInvalid='error', stringOrderType='frequencyDesc')\n",
    "transactions = indexer.fit(transactions).transform(transactions).drop('Attrition_Flag')"
   ]
  },
  {
   "cell_type": "markdown",
   "metadata": {
    "application/vnd.databricks.v1+cell": {
     "inputWidgets": {},
     "nuid": "9d6442e1-e6a4-423b-8216-d0f9d87d870b",
     "showTitle": false,
     "title": ""
    }
   },
   "source": [
    "#### 5.4. Concatenación de los atributos mediante VectorAssembler"
   ]
  },
  {
   "cell_type": "code",
   "execution_count": 0,
   "metadata": {
    "application/vnd.databricks.v1+cell": {
     "inputWidgets": {},
     "nuid": "4b057328-47f4-4d51-8edc-32be25152b7d",
     "showTitle": false,
     "title": ""
    }
   },
   "outputs": [
    {
     "data": {
      "text/plain": [
       "+-----------------------------------------------------------------------------------------------------------+\n",
       "|features_raw                                                                                               |\n",
       "+-----------------------------------------------------------------------------------------------------------+\n",
       "|[45.0,3.0,39.0,5.0,1.0,3.0,12691.0,777.0,11914.0,1.335,1144.0,42.0,1.625,0.061,1.0,3.0,0.0,0.0,1.0,0.0,0.0]|\n",
       "|[49.0,5.0,44.0,6.0,1.0,2.0,8256.0,864.0,7392.0,1.541,1291.0,33.0,3.714,0.105,0.0,0.0,0.0,1.0,0.0,1.0,0.0]  |\n",
       "|[51.0,3.0,36.0,4.0,1.0,0.0,3418.0,0.0,3418.0,2.594,1887.0,20.0,2.333,0.0,0.0,2.0,0.0,0.0,1.0,0.0,0.0]      |\n",
       "|[40.0,4.0,34.0,3.0,4.0,1.0,3313.0,2517.0,796.0,1.405,1171.0,20.0,2.333,0.76,1.0,0.0,0.0,1.0,0.0,0.0,1.0]   |\n",
       "|[40.0,3.0,21.0,5.0,1.0,0.0,4716.0,0.0,4716.0,2.175,816.0,28.0,2.5,0.0,3.0,3.0,0.0,0.0,1.0,0.0,0.0]         |\n",
       "+-----------------------------------------------------------------------------------------------------------+\n",
       "only showing top 5 rows\n",
       "\n"
      ]
     },
     "metadata": {
      "application/vnd.databricks.v1+output": {
       "addedWidgets": {},
       "arguments": {},
       "data": "+-----------------------------------------------------------------------------------------------------------+\n|features_raw                                                                                               |\n+-----------------------------------------------------------------------------------------------------------+\n|[45.0,3.0,39.0,5.0,1.0,3.0,12691.0,777.0,11914.0,1.335,1144.0,42.0,1.625,0.061,1.0,3.0,0.0,0.0,1.0,0.0,0.0]|\n|[49.0,5.0,44.0,6.0,1.0,2.0,8256.0,864.0,7392.0,1.541,1291.0,33.0,3.714,0.105,0.0,0.0,0.0,1.0,0.0,1.0,0.0]  |\n|[51.0,3.0,36.0,4.0,1.0,0.0,3418.0,0.0,3418.0,2.594,1887.0,20.0,2.333,0.0,0.0,2.0,0.0,0.0,1.0,0.0,0.0]      |\n|[40.0,4.0,34.0,3.0,4.0,1.0,3313.0,2517.0,796.0,1.405,1171.0,20.0,2.333,0.76,1.0,0.0,0.0,1.0,0.0,0.0,1.0]   |\n|[40.0,3.0,21.0,5.0,1.0,0.0,4716.0,0.0,4716.0,2.175,816.0,28.0,2.5,0.0,3.0,3.0,0.0,0.0,1.0,0.0,0.0]         |\n+-----------------------------------------------------------------------------------------------------------+\nonly showing top 5 rows\n\n",
       "datasetInfos": [],
       "metadata": {},
       "removedWidgets": [],
       "type": "ansi"
      }
     },
     "output_type": "display_data"
    }
   ],
   "source": [
    "from pyspark.ml.feature import VectorAssembler\n",
    "\n",
    "# Definir las variables de entrada y de salida\n",
    "inputcols = transactions.drop(\"label\", \"weight\").columns\n",
    "outputcol = \"features_raw\"\n",
    "\n",
    "# Aplicar el VectorAssembler\n",
    "assembler = VectorAssembler(inputCols = inputcols, outputCol=outputcol)\n",
    "transactions = assembler.transform(transactions)\n",
    "\n",
    "# Eliminar las otras columnas\n",
    "for column in inputcols:\n",
    "    transactions = transactions.drop(column)\n",
    "    \n",
    "# Visualizar el resultado\n",
    "transactions.select(\"features_raw\").show(5, False)"
   ]
  },
  {
   "cell_type": "markdown",
   "metadata": {
    "application/vnd.databricks.v1+cell": {
     "inputWidgets": {},
     "nuid": "2f765fb9-a49d-4f32-932e-b171a30180d6",
     "showTitle": false,
     "title": ""
    }
   },
   "source": [
    "#### 5.5. Standarización de las variables con MinMaxScaler"
   ]
  },
  {
   "cell_type": "code",
   "execution_count": 0,
   "metadata": {
    "application/vnd.databricks.v1+cell": {
     "inputWidgets": {},
     "nuid": "0b6687b9-f84c-4626-af34-467afbb648dc",
     "showTitle": false,
     "title": ""
    }
   },
   "outputs": [
    {
     "data": {
      "text/plain": [
       "+-----------------------------------------------------------------------------------------------------------------------------------------------------------------------------------------------------------------------------------------------------------------------------------------------------------------+\n",
       "|features                                                                                                                                                                                                                                                                                                         |\n",
       "+-----------------------------------------------------------------------------------------------------------------------------------------------------------------------------------------------------------------------------------------------------------------------------------------------------------------+\n",
       "|[0.40425531914893614,0.6000000000000001,0.6046511627906976,0.8,0.16666666666666666,0.5,0.3401899164694039,0.30870083432657924,0.3451163329759801,0.39299381807477185,0.03527317236007566,0.24806201550387597,0.43753365643511044,0.061061061061061066,0.16666666666666666,0.6000000000000001,0.0,0.0,1.0,0.0,0.0]|\n",
       "|[0.48936170212765956,1.0,0.7209302325581395,1.0,0.16666666666666666,0.3333333333333333,0.2061116704002999,0.3432657926102503,0.21409324022831977,0.4536355607889314,0.043451652386780906,0.17829457364341084,1.0,0.10510510510510511,0.0,0.0,0.0,1.0,0.0,1.0,0.0]                                                |\n",
       "|[0.5319148936170213,0.6000000000000001,0.5348837209302325,0.6000000000000001,0.16666666666666666,0.0,0.05984998957001243,0.0,0.09894822240894735,0.7636149543715043,0.07661065984199399,0.07751937984496124,0.6281637049003771,0.0,0.0,0.4,0.0,0.0,1.0,0.0,0.0]                                                  |\n",
       "|[0.2978723404255319,0.8,0.4883720930232558,0.4,0.6666666666666666,0.16666666666666666,0.056675645525535334,1.0,0.02297684930316113,0.41360023550191344,0.036775342160899074,0.07751937984496124,0.6281637049003771,0.7607607607607608,0.16666666666666666,0.0,0.0,1.0,0.0,0.0,1.0]                               |\n",
       "|[0.2978723404255319,0.6000000000000001,0.18604651162790697,0.8,0.16666666666666666,0.0,0.09909092832935784,0.0,0.13655723930113292,0.6402708272004709,0.017024591075998664,0.13953488372093023,0.6731287022078623,0.0,0.5,0.6000000000000001,0.0,0.0,1.0,0.0,0.0]                                                |\n",
       "+-----------------------------------------------------------------------------------------------------------------------------------------------------------------------------------------------------------------------------------------------------------------------------------------------------------------+\n",
       "only showing top 5 rows\n",
       "\n"
      ]
     },
     "metadata": {
      "application/vnd.databricks.v1+output": {
       "addedWidgets": {},
       "arguments": {},
       "data": "+-----------------------------------------------------------------------------------------------------------------------------------------------------------------------------------------------------------------------------------------------------------------------------------------------------------------+\n|features                                                                                                                                                                                                                                                                                                         |\n+-----------------------------------------------------------------------------------------------------------------------------------------------------------------------------------------------------------------------------------------------------------------------------------------------------------------+\n|[0.40425531914893614,0.6000000000000001,0.6046511627906976,0.8,0.16666666666666666,0.5,0.3401899164694039,0.30870083432657924,0.3451163329759801,0.39299381807477185,0.03527317236007566,0.24806201550387597,0.43753365643511044,0.061061061061061066,0.16666666666666666,0.6000000000000001,0.0,0.0,1.0,0.0,0.0]|\n|[0.48936170212765956,1.0,0.7209302325581395,1.0,0.16666666666666666,0.3333333333333333,0.2061116704002999,0.3432657926102503,0.21409324022831977,0.4536355607889314,0.043451652386780906,0.17829457364341084,1.0,0.10510510510510511,0.0,0.0,0.0,1.0,0.0,1.0,0.0]                                                |\n|[0.5319148936170213,0.6000000000000001,0.5348837209302325,0.6000000000000001,0.16666666666666666,0.0,0.05984998957001243,0.0,0.09894822240894735,0.7636149543715043,0.07661065984199399,0.07751937984496124,0.6281637049003771,0.0,0.0,0.4,0.0,0.0,1.0,0.0,0.0]                                                  |\n|[0.2978723404255319,0.8,0.4883720930232558,0.4,0.6666666666666666,0.16666666666666666,0.056675645525535334,1.0,0.02297684930316113,0.41360023550191344,0.036775342160899074,0.07751937984496124,0.6281637049003771,0.7607607607607608,0.16666666666666666,0.0,0.0,1.0,0.0,0.0,1.0]                               |\n|[0.2978723404255319,0.6000000000000001,0.18604651162790697,0.8,0.16666666666666666,0.0,0.09909092832935784,0.0,0.13655723930113292,0.6402708272004709,0.017024591075998664,0.13953488372093023,0.6731287022078623,0.0,0.5,0.6000000000000001,0.0,0.0,1.0,0.0,0.0]                                                |\n+-----------------------------------------------------------------------------------------------------------------------------------------------------------------------------------------------------------------------------------------------------------------------------------------------------------------+\nonly showing top 5 rows\n\n",
       "datasetInfos": [],
       "metadata": {},
       "removedWidgets": [],
       "type": "ansi"
      }
     },
     "output_type": "display_data"
    }
   ],
   "source": [
    "from pyspark.ml.feature import MinMaxScaler\n",
    "\n",
    "# Definir las variables de entrada y salida\n",
    "inputcol = \"features_raw\"\n",
    "output = \"features\"\n",
    "\n",
    "# Definir el MinMaxScaler\n",
    "minmaxscaler = MinMaxScaler(min=0.0, max=1.0, inputCol=inputcol, outputCol=output)\n",
    "\n",
    "# Aplicar el MinMaxScaler\n",
    "transactions = minmaxscaler.fit(transactions).transform(transactions).drop(\"features_raw\")\n",
    "\n",
    "# Visualizar el resultado\n",
    "transactions.select(\"features\").show(5, False)"
   ]
  },
  {
   "cell_type": "code",
   "execution_count": 0,
   "metadata": {
    "application/vnd.databricks.v1+cell": {
     "inputWidgets": {},
     "nuid": "9d6f3d98-aef5-44b8-8298-2c947b6a1e62",
     "showTitle": false,
     "title": ""
    }
   },
   "outputs": [
    {
     "data": {
      "text/plain": [
       "+------------------+-----+--------------------+\n",
       "|            weight|label|            features|\n",
       "+------------------+-----+--------------------+\n",
       "|0.5957058823529412|  0.0|[0.40425531914893...|\n",
       "|0.5957058823529412|  0.0|[0.48936170212765...|\n",
       "|0.5957058823529412|  0.0|[0.53191489361702...|\n",
       "|0.5957058823529412|  0.0|[0.29787234042553...|\n",
       "|0.5957058823529412|  0.0|[0.29787234042553...|\n",
       "|0.5957058823529412|  0.0|[0.38297872340425...|\n",
       "|0.5957058823529412|  0.0|[0.53191489361702...|\n",
       "|0.5957058823529412|  0.0|[0.12765957446808...|\n",
       "|0.5957058823529412|  0.0|[0.23404255319148...|\n",
       "|0.5957058823529412|  0.0|[0.46808510638297...|\n",
       "+------------------+-----+--------------------+\n",
       "only showing top 10 rows\n",
       "\n"
      ]
     },
     "metadata": {
      "application/vnd.databricks.v1+output": {
       "addedWidgets": {},
       "arguments": {},
       "data": "+------------------+-----+--------------------+\n|            weight|label|            features|\n+------------------+-----+--------------------+\n|0.5957058823529412|  0.0|[0.40425531914893...|\n|0.5957058823529412|  0.0|[0.48936170212765...|\n|0.5957058823529412|  0.0|[0.53191489361702...|\n|0.5957058823529412|  0.0|[0.29787234042553...|\n|0.5957058823529412|  0.0|[0.29787234042553...|\n|0.5957058823529412|  0.0|[0.38297872340425...|\n|0.5957058823529412|  0.0|[0.53191489361702...|\n|0.5957058823529412|  0.0|[0.12765957446808...|\n|0.5957058823529412|  0.0|[0.23404255319148...|\n|0.5957058823529412|  0.0|[0.46808510638297...|\n+------------------+-----+--------------------+\nonly showing top 10 rows\n\n",
       "datasetInfos": [],
       "metadata": {},
       "removedWidgets": [],
       "type": "ansi"
      }
     },
     "output_type": "display_data"
    }
   ],
   "source": [
    "transactions.show(10)"
   ]
  },
  {
   "cell_type": "markdown",
   "metadata": {
    "application/vnd.databricks.v1+cell": {
     "inputWidgets": {},
     "nuid": "fe16f66f-665e-4d8e-bcea-80ec27c9fc16",
     "showTitle": false,
     "title": ""
    }
   },
   "source": [
    "### 6. Aplicando un modelo sencillo de regresión logística"
   ]
  },
  {
   "cell_type": "code",
   "execution_count": 0,
   "metadata": {
    "application/vnd.databricks.v1+cell": {
     "inputWidgets": {},
     "nuid": "2779b213-6a81-4bdb-b3d9-1beb127d08dd",
     "showTitle": false,
     "title": ""
    }
   },
   "outputs": [
    {
     "data": {
      "text/plain": [
       "Out[16]: ['weight', 'label', 'features', 'rawPrediction', 'probability', 'prediction']"
      ]
     },
     "metadata": {
      "application/vnd.databricks.v1+output": {
       "addedWidgets": {},
       "arguments": {},
       "data": "Out[16]: ['weight', 'label', 'features', 'rawPrediction', 'probability', 'prediction']",
       "datasetInfos": [],
       "metadata": {},
       "removedWidgets": [],
       "type": "ansi"
      }
     },
     "output_type": "display_data"
    }
   ],
   "source": [
    "from pyspark.ml.classification import LogisticRegression\n",
    "\n",
    "# Definir la columna de pesos\n",
    "weight = \"weight\"\n",
    "\n",
    "# Creación del modelo\n",
    "lr = LogisticRegression(maxIter=20, regParam=0.3, elasticNetParam=0, weightCol=weight)\n",
    "\n",
    "# Aplicación del modelo\n",
    "predictions = lr.fit(transactions).transform(transactions)\n",
    "\n",
    "# Ver las columnas de predictions\n",
    "predictions.columns"
   ]
  },
  {
   "cell_type": "code",
   "execution_count": 0,
   "metadata": {
    "application/vnd.databricks.v1+cell": {
     "inputWidgets": {},
     "nuid": "cc9db4a0-d28d-40e5-b257-e531d820262a",
     "showTitle": false,
     "title": ""
    }
   },
   "outputs": [
    {
     "data": {
      "text/plain": [
       "La precisión del modelo es del 89.21%\n"
      ]
     },
     "metadata": {
      "application/vnd.databricks.v1+output": {
       "addedWidgets": {},
       "arguments": {},
       "data": "La precisión del modelo es del 89.21%\n",
       "datasetInfos": [],
       "metadata": {},
       "removedWidgets": [],
       "type": "ansi"
      }
     },
     "output_type": "display_data"
    }
   ],
   "source": [
    "from pyspark.ml.evaluation import BinaryClassificationEvaluator\n",
    "\n",
    "# Definir las columnas de predicciones y de labels\n",
    "rawprediction = \"rawPrediction\"\n",
    "label = \"label\"\n",
    "\n",
    "# Evaluar con MulticlassClassificationEvaluator\n",
    "evaluator = BinaryClassificationEvaluator(rawPredictionCol=rawprediction, labelCol=label, weightCol=weight, metricName=\"areaUnderROC\")\n",
    "print(\"La precisión del modelo es del {:0.2f}%\".format(evaluator.evaluate(predictions)*100))"
   ]
  },
  {
   "cell_type": "code",
   "execution_count": 0,
   "metadata": {
    "application/vnd.databricks.v1+cell": {
     "inputWidgets": {},
     "nuid": "8ba8fbac-f1dd-4643-9fd2-8d4e2f81d4ed",
     "showTitle": false,
     "title": ""
    }
   },
   "outputs": [],
   "source": [
    "# Liberar memoria para el siguiente ejemplo\n",
    "transactions.unpersist()\n",
    "del transactions\n",
    "spark.catalog.clearCache()"
   ]
  },
  {
   "cell_type": "markdown",
   "metadata": {
    "application/vnd.databricks.v1+cell": {
     "inputWidgets": {},
     "nuid": "4fd56527-d775-464c-a683-2f548dec8c94",
     "showTitle": false,
     "title": ""
    }
   },
   "source": [
    "# Ejemplo 2: preprocesando datos de Optiver para predecir la volatilidad de las opciones financieras\n",
    "\n",
    "#### 1. Sobre el problema\n",
    "Como líder mundial en creación de mercados electrónicos, Optiver se dedica a mejorar continuamente los mercados financieros, creando un mejor acceso y mejores precios para opciones, ETF, acciones en efectivo, bonos y divisas extranjeras en numerosas bolsas de todo el mundo, a través de sus modelos predictivos. Optiver desea ver maneras de mejorar sus modelos de predicción de los precios antes de evaluarlos con datos del mercado en tiempo real.\n",
    "\n",
    "En este desafio, es necesario crear un modelo que logre capturar los diversos aspectos que afectan a la volatilidad de corto plazo de los precios. El gran problema en este caso no está en la construcción de un mejor algoritmo para el modelo de predicción, sino en la etapa del **procesamiento de los datos** y en el **feature engineering**."
   ]
  },
  {
   "cell_type": "code",
   "execution_count": 0,
   "metadata": {
    "application/vnd.databricks.v1+cell": {
     "inputWidgets": {},
     "nuid": "bebd6e41-2085-4a17-8336-36561c88b762",
     "showTitle": false,
     "title": ""
    }
   },
   "outputs": [],
   "source": [
    "# access_key = \"your_access_key\"\n",
    "# secret_key = \"your_secret_key\"\n",
    "\n",
    "# # Mount \"optiver-realized-volatility-pyspark\" bucket on databricks\n",
    "# encoded_secret_key = secret_key.replace(\"/\", \"%2F\")\n",
    "# aws_bucket_name = \"optiver-realized-volatility-pyspark\"\n",
    "# mount_name = \"data\"\n",
    "# dbutils.fs.mount(\"s3a://%s:%s@%s\" % (access_key, encoded_secret_key, aws_bucket_name), \"/mnt/%s\" % mount_name)\n",
    "# display(dbutils.fs.ls(\"/mnt/%s\" % mount_name))"
   ]
  },
  {
   "cell_type": "markdown",
   "metadata": {
    "application/vnd.databricks.v1+cell": {
     "inputWidgets": {},
     "nuid": "d0584f3c-5873-4238-8384-2fb41d8f4183",
     "showTitle": false,
     "title": ""
    }
   },
   "source": [
    "#### 2. Sobre los datos\n",
    "Los datos del **book** y **trade** fueron proporcionados como archivos en formato parquet y consistieron en observaciones que contenían precios y volúmenes de oferta y demanda. Los datos de cada *book* y *trade* se particionaron por **stock_id**, y cada bucket en una partición representaba el *timestamp* de los datos del respectivo *stock* como **time_id**.\n",
    "\n",
    "Los datos del **book** consistían en variables que representaban la intención del mercado en un momento dado. Entre estas variables, se encontraban los precios de las intenciones de compras y los precios de intenciones de venta, junto con los respectivos volúmenes."
   ]
  },
  {
   "cell_type": "code",
   "execution_count": 0,
   "metadata": {
    "application/vnd.databricks.v1+cell": {
     "inputWidgets": {},
     "nuid": "78626b51-b2a4-4f3e-b8ed-2f10cae5b5fc",
     "showTitle": false,
     "title": ""
    }
   },
   "outputs": [
    {
     "data": {
      "text/html": [
       "<div>\n",
       "<style scoped>\n",
       "    .dataframe tbody tr th:only-of-type {\n",
       "        vertical-align: middle;\n",
       "    }\n",
       "\n",
       "    .dataframe tbody tr th {\n",
       "        vertical-align: top;\n",
       "    }\n",
       "\n",
       "    .dataframe thead th {\n",
       "        text-align: right;\n",
       "    }\n",
       "</style>\n",
       "<table border=\"1\" class=\"dataframe\">\n",
       "  <thead>\n",
       "    <tr style=\"text-align: right;\">\n",
       "      <th></th>\n",
       "      <th>time_id</th>\n",
       "      <th>seconds_in_bucket</th>\n",
       "      <th>bid_price1</th>\n",
       "      <th>ask_price1</th>\n",
       "      <th>bid_price2</th>\n",
       "      <th>ask_price2</th>\n",
       "      <th>bid_size1</th>\n",
       "      <th>ask_size1</th>\n",
       "      <th>bid_size2</th>\n",
       "      <th>ask_size2</th>\n",
       "      <th>stock_id</th>\n",
       "    </tr>\n",
       "  </thead>\n",
       "  <tbody>\n",
       "    <tr>\n",
       "      <th>0</th>\n",
       "      <td>5</td>\n",
       "      <td>0</td>\n",
       "      <td>1.000607</td>\n",
       "      <td>1.000769</td>\n",
       "      <td>1.000526</td>\n",
       "      <td>1.00085</td>\n",
       "      <td>100</td>\n",
       "      <td>200</td>\n",
       "      <td>1</td>\n",
       "      <td>1</td>\n",
       "      <td>2</td>\n",
       "    </tr>\n",
       "    <tr>\n",
       "      <th>1</th>\n",
       "      <td>5</td>\n",
       "      <td>1</td>\n",
       "      <td>1.000526</td>\n",
       "      <td>1.000769</td>\n",
       "      <td>1.000445</td>\n",
       "      <td>1.00085</td>\n",
       "      <td>1</td>\n",
       "      <td>200</td>\n",
       "      <td>100</td>\n",
       "      <td>101</td>\n",
       "      <td>2</td>\n",
       "    </tr>\n",
       "    <tr>\n",
       "      <th>2</th>\n",
       "      <td>5</td>\n",
       "      <td>2</td>\n",
       "      <td>1.000526</td>\n",
       "      <td>1.000769</td>\n",
       "      <td>1.000364</td>\n",
       "      <td>1.00085</td>\n",
       "      <td>1</td>\n",
       "      <td>300</td>\n",
       "      <td>112</td>\n",
       "      <td>101</td>\n",
       "      <td>2</td>\n",
       "    </tr>\n",
       "    <tr>\n",
       "      <th>3</th>\n",
       "      <td>5</td>\n",
       "      <td>3</td>\n",
       "      <td>1.000607</td>\n",
       "      <td>1.000769</td>\n",
       "      <td>1.000526</td>\n",
       "      <td>1.00085</td>\n",
       "      <td>100</td>\n",
       "      <td>300</td>\n",
       "      <td>1</td>\n",
       "      <td>1</td>\n",
       "      <td>2</td>\n",
       "    </tr>\n",
       "    <tr>\n",
       "      <th>4</th>\n",
       "      <td>5</td>\n",
       "      <td>4</td>\n",
       "      <td>1.000526</td>\n",
       "      <td>1.000769</td>\n",
       "      <td>1.000445</td>\n",
       "      <td>1.00085</td>\n",
       "      <td>1</td>\n",
       "      <td>300</td>\n",
       "      <td>300</td>\n",
       "      <td>101</td>\n",
       "      <td>2</td>\n",
       "    </tr>\n",
       "  </tbody>\n",
       "</table>\n",
       "</div>"
      ]
     },
     "metadata": {
      "application/vnd.databricks.v1+output": {
       "addedWidgets": {},
       "arguments": {},
       "data": "<div>\n<style scoped>\n    .dataframe tbody tr th:only-of-type {\n        vertical-align: middle;\n    }\n\n    .dataframe tbody tr th {\n        vertical-align: top;\n    }\n\n    .dataframe thead th {\n        text-align: right;\n    }\n</style>\n<table border=\"1\" class=\"dataframe\">\n  <thead>\n    <tr style=\"text-align: right;\">\n      <th></th>\n      <th>time_id</th>\n      <th>seconds_in_bucket</th>\n      <th>bid_price1</th>\n      <th>ask_price1</th>\n      <th>bid_price2</th>\n      <th>ask_price2</th>\n      <th>bid_size1</th>\n      <th>ask_size1</th>\n      <th>bid_size2</th>\n      <th>ask_size2</th>\n      <th>stock_id</th>\n    </tr>\n  </thead>\n  <tbody>\n    <tr>\n      <th>0</th>\n      <td>5</td>\n      <td>0</td>\n      <td>1.000607</td>\n      <td>1.000769</td>\n      <td>1.000526</td>\n      <td>1.00085</td>\n      <td>100</td>\n      <td>200</td>\n      <td>1</td>\n      <td>1</td>\n      <td>2</td>\n    </tr>\n    <tr>\n      <th>1</th>\n      <td>5</td>\n      <td>1</td>\n      <td>1.000526</td>\n      <td>1.000769</td>\n      <td>1.000445</td>\n      <td>1.00085</td>\n      <td>1</td>\n      <td>200</td>\n      <td>100</td>\n      <td>101</td>\n      <td>2</td>\n    </tr>\n    <tr>\n      <th>2</th>\n      <td>5</td>\n      <td>2</td>\n      <td>1.000526</td>\n      <td>1.000769</td>\n      <td>1.000364</td>\n      <td>1.00085</td>\n      <td>1</td>\n      <td>300</td>\n      <td>112</td>\n      <td>101</td>\n      <td>2</td>\n    </tr>\n    <tr>\n      <th>3</th>\n      <td>5</td>\n      <td>3</td>\n      <td>1.000607</td>\n      <td>1.000769</td>\n      <td>1.000526</td>\n      <td>1.00085</td>\n      <td>100</td>\n      <td>300</td>\n      <td>1</td>\n      <td>1</td>\n      <td>2</td>\n    </tr>\n    <tr>\n      <th>4</th>\n      <td>5</td>\n      <td>4</td>\n      <td>1.000526</td>\n      <td>1.000769</td>\n      <td>1.000445</td>\n      <td>1.00085</td>\n      <td>1</td>\n      <td>300</td>\n      <td>300</td>\n      <td>101</td>\n      <td>2</td>\n    </tr>\n  </tbody>\n</table>\n</div>",
       "datasetInfos": [],
       "metadata": {},
       "removedWidgets": [],
       "textData": null,
       "type": "htmlSandbox"
      }
     },
     "output_type": "display_data"
    }
   ],
   "source": [
    "df_book_train = spark.read.parquet(\"book_train.parquet\").filter(f.col(\"stock_id\").between(0, 2))\n",
    "df_book_train.limit(5).toPandas()"
   ]
  },
  {
   "cell_type": "markdown",
   "metadata": {
    "application/vnd.databricks.v1+cell": {
     "inputWidgets": {},
     "nuid": "a4095c28-7947-482d-ac78-c95bf4192756",
     "showTitle": false,
     "title": ""
    }
   },
   "source": [
    "Los datos del **trade** consistían en variables que representaban las ejecuciones de las intenciones en un determinado periodo. Las diferencias en segundos entre la orden de compra/venta y su ejecución estaban representadas por la variable `seconds_in_bucket` en los datos."
   ]
  },
  {
   "cell_type": "code",
   "execution_count": 0,
   "metadata": {
    "application/vnd.databricks.v1+cell": {
     "inputWidgets": {},
     "nuid": "cbb3fe30-82ef-4a5b-9cd7-b8c9a4a4727a",
     "showTitle": false,
     "title": ""
    }
   },
   "outputs": [
    {
     "data": {
      "text/html": [
       "<div>\n",
       "<style scoped>\n",
       "    .dataframe tbody tr th:only-of-type {\n",
       "        vertical-align: middle;\n",
       "    }\n",
       "\n",
       "    .dataframe tbody tr th {\n",
       "        vertical-align: top;\n",
       "    }\n",
       "\n",
       "    .dataframe thead th {\n",
       "        text-align: right;\n",
       "    }\n",
       "</style>\n",
       "<table border=\"1\" class=\"dataframe\">\n",
       "  <thead>\n",
       "    <tr style=\"text-align: right;\">\n",
       "      <th></th>\n",
       "      <th>time_id</th>\n",
       "      <th>seconds_in_bucket</th>\n",
       "      <th>price</th>\n",
       "      <th>size</th>\n",
       "      <th>order_count</th>\n",
       "      <th>stock_id</th>\n",
       "    </tr>\n",
       "  </thead>\n",
       "  <tbody>\n",
       "    <tr>\n",
       "      <th>0</th>\n",
       "      <td>5</td>\n",
       "      <td>0</td>\n",
       "      <td>1.000688</td>\n",
       "      <td>101</td>\n",
       "      <td>2</td>\n",
       "      <td>2</td>\n",
       "    </tr>\n",
       "    <tr>\n",
       "      <th>1</th>\n",
       "      <td>5</td>\n",
       "      <td>5</td>\n",
       "      <td>1.000607</td>\n",
       "      <td>3</td>\n",
       "      <td>2</td>\n",
       "      <td>2</td>\n",
       "    </tr>\n",
       "    <tr>\n",
       "      <th>2</th>\n",
       "      <td>5</td>\n",
       "      <td>8</td>\n",
       "      <td>1.000526</td>\n",
       "      <td>100</td>\n",
       "      <td>1</td>\n",
       "      <td>2</td>\n",
       "    </tr>\n",
       "    <tr>\n",
       "      <th>3</th>\n",
       "      <td>5</td>\n",
       "      <td>10</td>\n",
       "      <td>1.000526</td>\n",
       "      <td>2</td>\n",
       "      <td>2</td>\n",
       "      <td>2</td>\n",
       "    </tr>\n",
       "    <tr>\n",
       "      <th>4</th>\n",
       "      <td>5</td>\n",
       "      <td>13</td>\n",
       "      <td>1.000526</td>\n",
       "      <td>1</td>\n",
       "      <td>1</td>\n",
       "      <td>2</td>\n",
       "    </tr>\n",
       "  </tbody>\n",
       "</table>\n",
       "</div>"
      ]
     },
     "metadata": {
      "application/vnd.databricks.v1+output": {
       "addedWidgets": {},
       "arguments": {},
       "data": "<div>\n<style scoped>\n    .dataframe tbody tr th:only-of-type {\n        vertical-align: middle;\n    }\n\n    .dataframe tbody tr th {\n        vertical-align: top;\n    }\n\n    .dataframe thead th {\n        text-align: right;\n    }\n</style>\n<table border=\"1\" class=\"dataframe\">\n  <thead>\n    <tr style=\"text-align: right;\">\n      <th></th>\n      <th>time_id</th>\n      <th>seconds_in_bucket</th>\n      <th>price</th>\n      <th>size</th>\n      <th>order_count</th>\n      <th>stock_id</th>\n    </tr>\n  </thead>\n  <tbody>\n    <tr>\n      <th>0</th>\n      <td>5</td>\n      <td>0</td>\n      <td>1.000688</td>\n      <td>101</td>\n      <td>2</td>\n      <td>2</td>\n    </tr>\n    <tr>\n      <th>1</th>\n      <td>5</td>\n      <td>5</td>\n      <td>1.000607</td>\n      <td>3</td>\n      <td>2</td>\n      <td>2</td>\n    </tr>\n    <tr>\n      <th>2</th>\n      <td>5</td>\n      <td>8</td>\n      <td>1.000526</td>\n      <td>100</td>\n      <td>1</td>\n      <td>2</td>\n    </tr>\n    <tr>\n      <th>3</th>\n      <td>5</td>\n      <td>10</td>\n      <td>1.000526</td>\n      <td>2</td>\n      <td>2</td>\n      <td>2</td>\n    </tr>\n    <tr>\n      <th>4</th>\n      <td>5</td>\n      <td>13</td>\n      <td>1.000526</td>\n      <td>1</td>\n      <td>1</td>\n      <td>2</td>\n    </tr>\n  </tbody>\n</table>\n</div>",
       "datasetInfos": [],
       "metadata": {},
       "removedWidgets": [],
       "textData": null,
       "type": "htmlSandbox"
      }
     },
     "output_type": "display_data"
    }
   ],
   "source": [
    "df_trade_train = spark.read.parquet(\"trade_train.parquet\").filter(f.col(\"stock_id\").between(0, 2))\n",
    "df_trade_train.limit(5).toPandas()"
   ]
  },
  {
   "cell_type": "markdown",
   "metadata": {
    "application/vnd.databricks.v1+cell": {
     "inputWidgets": {},
     "nuid": "87cf79cf-cea1-4be8-af77-a3840e4efe55",
     "showTitle": false,
     "title": ""
    }
   },
   "source": [
    "Asimismo, se proporcionaron los datos de entrenamiento, que consistían de valores de verdad fundamentales (*ground truth*) de la volatilidad realizada en cada time_id y row_id. Utilizaremos estos valores como variables de salida."
   ]
  },
  {
   "cell_type": "code",
   "execution_count": 0,
   "metadata": {
    "application/vnd.databricks.v1+cell": {
     "inputWidgets": {},
     "nuid": "7aa029dc-527b-421f-8094-573c268a4a6f",
     "showTitle": false,
     "title": ""
    }
   },
   "outputs": [
    {
     "data": {
      "text/html": [
       "<div>\n",
       "<style scoped>\n",
       "    .dataframe tbody tr th:only-of-type {\n",
       "        vertical-align: middle;\n",
       "    }\n",
       "\n",
       "    .dataframe tbody tr th {\n",
       "        vertical-align: top;\n",
       "    }\n",
       "\n",
       "    .dataframe thead th {\n",
       "        text-align: right;\n",
       "    }\n",
       "</style>\n",
       "<table border=\"1\" class=\"dataframe\">\n",
       "  <thead>\n",
       "    <tr style=\"text-align: right;\">\n",
       "      <th></th>\n",
       "      <th>stock_id</th>\n",
       "      <th>time_id</th>\n",
       "      <th>target</th>\n",
       "    </tr>\n",
       "  </thead>\n",
       "  <tbody>\n",
       "    <tr>\n",
       "      <th>0</th>\n",
       "      <td>0</td>\n",
       "      <td>5</td>\n",
       "      <td>0.004136</td>\n",
       "    </tr>\n",
       "    <tr>\n",
       "      <th>1</th>\n",
       "      <td>0</td>\n",
       "      <td>11</td>\n",
       "      <td>0.001445</td>\n",
       "    </tr>\n",
       "    <tr>\n",
       "      <th>2</th>\n",
       "      <td>0</td>\n",
       "      <td>16</td>\n",
       "      <td>0.002168</td>\n",
       "    </tr>\n",
       "    <tr>\n",
       "      <th>3</th>\n",
       "      <td>0</td>\n",
       "      <td>31</td>\n",
       "      <td>0.002195</td>\n",
       "    </tr>\n",
       "    <tr>\n",
       "      <th>4</th>\n",
       "      <td>0</td>\n",
       "      <td>62</td>\n",
       "      <td>0.001747</td>\n",
       "    </tr>\n",
       "  </tbody>\n",
       "</table>\n",
       "</div>"
      ]
     },
     "metadata": {
      "application/vnd.databricks.v1+output": {
       "addedWidgets": {},
       "arguments": {},
       "data": "<div>\n<style scoped>\n    .dataframe tbody tr th:only-of-type {\n        vertical-align: middle;\n    }\n\n    .dataframe tbody tr th {\n        vertical-align: top;\n    }\n\n    .dataframe thead th {\n        text-align: right;\n    }\n</style>\n<table border=\"1\" class=\"dataframe\">\n  <thead>\n    <tr style=\"text-align: right;\">\n      <th></th>\n      <th>stock_id</th>\n      <th>time_id</th>\n      <th>target</th>\n    </tr>\n  </thead>\n  <tbody>\n    <tr>\n      <th>0</th>\n      <td>0</td>\n      <td>5</td>\n      <td>0.004136</td>\n    </tr>\n    <tr>\n      <th>1</th>\n      <td>0</td>\n      <td>11</td>\n      <td>0.001445</td>\n    </tr>\n    <tr>\n      <th>2</th>\n      <td>0</td>\n      <td>16</td>\n      <td>0.002168</td>\n    </tr>\n    <tr>\n      <th>3</th>\n      <td>0</td>\n      <td>31</td>\n      <td>0.002195</td>\n    </tr>\n    <tr>\n      <th>4</th>\n      <td>0</td>\n      <td>62</td>\n      <td>0.001747</td>\n    </tr>\n  </tbody>\n</table>\n</div>",
       "datasetInfos": [],
       "metadata": {},
       "removedWidgets": [],
       "textData": null,
       "type": "htmlSandbox"
      }
     },
     "output_type": "display_data"
    }
   ],
   "source": [
    "train = spark.read.option(\"header\", True).option(\"inferSchema\", True).csv(\"train.csv\").filter(f.col(\"stock_id\").between(0, 2))\n",
    "train.limit(5).toPandas()"
   ]
  },
  {
   "cell_type": "markdown",
   "metadata": {
    "application/vnd.databricks.v1+cell": {
     "inputWidgets": {},
     "nuid": "242ae1a5-9bd8-46ff-8aa6-f5d91ff98851",
     "showTitle": false,
     "title": ""
    }
   },
   "source": [
    "### 3. Preprocesamiento y feature engineering\n",
    "La **feature engineering** resulta ser fundamental para generar datos de entrada que serían de gran utilidad para nuestro modelo predictivo. \n",
    "La idea aquí es modelar las señales del mercado a partir de los datos del *book* y *trade*, utilizando técnicas y herramientas de preprocesamiento y feature engineering que nos ofrece Spark SQL y Spark ML."
   ]
  },
  {
   "cell_type": "markdown",
   "metadata": {
    "application/vnd.databricks.v1+cell": {
     "inputWidgets": {},
     "nuid": "451cd05f-442a-48e1-8072-4c1a5ed74ac2",
     "showTitle": false,
     "title": ""
    }
   },
   "source": [
    "#### 3.1 Generación de las variables de salida\n",
    "Antes de proceder, vamos a generar los datos de la variable de salida, que representa la volatilidad realizada (realized volatility), cuya fórmula es la siguiente: $$\n",
    "\\sigma = \\sqrt{\\sum_{t}r_{t-1, t}^2}\n",
    "$$\n",
    "\n",
    "Donde:\n",
    "* *t* es un periodo de tiempo determinado (en ventanas de 10 minutos)\n",
    "* *r* es el rendimiento logarítmico de las opciones financieras entre los periodos"
   ]
  },
  {
   "cell_type": "code",
   "execution_count": 0,
   "metadata": {
    "application/vnd.databricks.v1+cell": {
     "inputWidgets": {},
     "nuid": "715d29ba-b865-4a8b-8068-c3ba1d915614",
     "showTitle": false,
     "title": ""
    }
   },
   "outputs": [
    {
     "data": {
      "text/html": [
       "<div>\n",
       "<style scoped>\n",
       "    .dataframe tbody tr th:only-of-type {\n",
       "        vertical-align: middle;\n",
       "    }\n",
       "\n",
       "    .dataframe tbody tr th {\n",
       "        vertical-align: top;\n",
       "    }\n",
       "\n",
       "    .dataframe thead th {\n",
       "        text-align: right;\n",
       "    }\n",
       "</style>\n",
       "<table border=\"1\" class=\"dataframe\">\n",
       "  <thead>\n",
       "    <tr style=\"text-align: right;\">\n",
       "      <th></th>\n",
       "      <th>time_id</th>\n",
       "      <th>seconds_in_bucket</th>\n",
       "      <th>bid_price1</th>\n",
       "      <th>ask_price1</th>\n",
       "      <th>bid_price2</th>\n",
       "      <th>ask_price2</th>\n",
       "      <th>bid_size1</th>\n",
       "      <th>ask_size1</th>\n",
       "      <th>bid_size2</th>\n",
       "      <th>ask_size2</th>\n",
       "      <th>stock_id</th>\n",
       "      <th>wap</th>\n",
       "      <th>log_return</th>\n",
       "      <th>realized_volatility</th>\n",
       "    </tr>\n",
       "  </thead>\n",
       "  <tbody>\n",
       "    <tr>\n",
       "      <th>0</th>\n",
       "      <td>31</td>\n",
       "      <td>0</td>\n",
       "      <td>0.999815</td>\n",
       "      <td>1.000463</td>\n",
       "      <td>0.999722</td>\n",
       "      <td>1.000509</td>\n",
       "      <td>343</td>\n",
       "      <td>100</td>\n",
       "      <td>5</td>\n",
       "      <td>242</td>\n",
       "      <td>0</td>\n",
       "      <td>1.000316</td>\n",
       "      <td>NaN</td>\n",
       "      <td>0.002574</td>\n",
       "    </tr>\n",
       "    <tr>\n",
       "      <th>1</th>\n",
       "      <td>31</td>\n",
       "      <td>3</td>\n",
       "      <td>0.999815</td>\n",
       "      <td>1.000463</td>\n",
       "      <td>0.999769</td>\n",
       "      <td>1.000509</td>\n",
       "      <td>343</td>\n",
       "      <td>100</td>\n",
       "      <td>5</td>\n",
       "      <td>142</td>\n",
       "      <td>0</td>\n",
       "      <td>1.000316</td>\n",
       "      <td>0.000000</td>\n",
       "      <td>0.002574</td>\n",
       "    </tr>\n",
       "    <tr>\n",
       "      <th>2</th>\n",
       "      <td>31</td>\n",
       "      <td>11</td>\n",
       "      <td>0.999815</td>\n",
       "      <td>1.000509</td>\n",
       "      <td>0.999769</td>\n",
       "      <td>1.000601</td>\n",
       "      <td>343</td>\n",
       "      <td>142</td>\n",
       "      <td>5</td>\n",
       "      <td>100</td>\n",
       "      <td>0</td>\n",
       "      <td>1.000306</td>\n",
       "      <td>-0.000011</td>\n",
       "      <td>0.002574</td>\n",
       "    </tr>\n",
       "    <tr>\n",
       "      <th>3</th>\n",
       "      <td>31</td>\n",
       "      <td>27</td>\n",
       "      <td>0.999815</td>\n",
       "      <td>1.000509</td>\n",
       "      <td>0.999769</td>\n",
       "      <td>1.000601</td>\n",
       "      <td>243</td>\n",
       "      <td>142</td>\n",
       "      <td>5</td>\n",
       "      <td>100</td>\n",
       "      <td>0</td>\n",
       "      <td>1.000253</td>\n",
       "      <td>-0.000053</td>\n",
       "      <td>0.002574</td>\n",
       "    </tr>\n",
       "    <tr>\n",
       "      <th>4</th>\n",
       "      <td>31</td>\n",
       "      <td>31</td>\n",
       "      <td>0.999815</td>\n",
       "      <td>1.000509</td>\n",
       "      <td>0.999769</td>\n",
       "      <td>1.000601</td>\n",
       "      <td>243</td>\n",
       "      <td>142</td>\n",
       "      <td>5</td>\n",
       "      <td>125</td>\n",
       "      <td>0</td>\n",
       "      <td>1.000253</td>\n",
       "      <td>0.000000</td>\n",
       "      <td>0.002574</td>\n",
       "    </tr>\n",
       "  </tbody>\n",
       "</table>\n",
       "</div>"
      ]
     },
     "metadata": {
      "application/vnd.databricks.v1+output": {
       "addedWidgets": {},
       "arguments": {},
       "data": "<div>\n<style scoped>\n    .dataframe tbody tr th:only-of-type {\n        vertical-align: middle;\n    }\n\n    .dataframe tbody tr th {\n        vertical-align: top;\n    }\n\n    .dataframe thead th {\n        text-align: right;\n    }\n</style>\n<table border=\"1\" class=\"dataframe\">\n  <thead>\n    <tr style=\"text-align: right;\">\n      <th></th>\n      <th>time_id</th>\n      <th>seconds_in_bucket</th>\n      <th>bid_price1</th>\n      <th>ask_price1</th>\n      <th>bid_price2</th>\n      <th>ask_price2</th>\n      <th>bid_size1</th>\n      <th>ask_size1</th>\n      <th>bid_size2</th>\n      <th>ask_size2</th>\n      <th>stock_id</th>\n      <th>wap</th>\n      <th>log_return</th>\n      <th>realized_volatility</th>\n    </tr>\n  </thead>\n  <tbody>\n    <tr>\n      <th>0</th>\n      <td>31</td>\n      <td>0</td>\n      <td>0.999815</td>\n      <td>1.000463</td>\n      <td>0.999722</td>\n      <td>1.000509</td>\n      <td>343</td>\n      <td>100</td>\n      <td>5</td>\n      <td>242</td>\n      <td>0</td>\n      <td>1.000316</td>\n      <td>NaN</td>\n      <td>0.002574</td>\n    </tr>\n    <tr>\n      <th>1</th>\n      <td>31</td>\n      <td>3</td>\n      <td>0.999815</td>\n      <td>1.000463</td>\n      <td>0.999769</td>\n      <td>1.000509</td>\n      <td>343</td>\n      <td>100</td>\n      <td>5</td>\n      <td>142</td>\n      <td>0</td>\n      <td>1.000316</td>\n      <td>0.000000</td>\n      <td>0.002574</td>\n    </tr>\n    <tr>\n      <th>2</th>\n      <td>31</td>\n      <td>11</td>\n      <td>0.999815</td>\n      <td>1.000509</td>\n      <td>0.999769</td>\n      <td>1.000601</td>\n      <td>343</td>\n      <td>142</td>\n      <td>5</td>\n      <td>100</td>\n      <td>0</td>\n      <td>1.000306</td>\n      <td>-0.000011</td>\n      <td>0.002574</td>\n    </tr>\n    <tr>\n      <th>3</th>\n      <td>31</td>\n      <td>27</td>\n      <td>0.999815</td>\n      <td>1.000509</td>\n      <td>0.999769</td>\n      <td>1.000601</td>\n      <td>243</td>\n      <td>142</td>\n      <td>5</td>\n      <td>100</td>\n      <td>0</td>\n      <td>1.000253</td>\n      <td>-0.000053</td>\n      <td>0.002574</td>\n    </tr>\n    <tr>\n      <th>4</th>\n      <td>31</td>\n      <td>31</td>\n      <td>0.999815</td>\n      <td>1.000509</td>\n      <td>0.999769</td>\n      <td>1.000601</td>\n      <td>243</td>\n      <td>142</td>\n      <td>5</td>\n      <td>125</td>\n      <td>0</td>\n      <td>1.000253</td>\n      <td>0.000000</td>\n      <td>0.002574</td>\n    </tr>\n  </tbody>\n</table>\n</div>",
       "datasetInfos": [],
       "metadata": {},
       "removedWidgets": [],
       "textData": null,
       "type": "htmlSandbox"
      }
     },
     "output_type": "display_data"
    }
   ],
   "source": [
    "# Especificar una función de ventana\n",
    "windowSpec = Window.partitionBy(\"time_id\").orderBy(\"stock_id\")\n",
    "\n",
    "# Calcular el WAP\n",
    "df_book_train = df_book_train.withColumn(\"wap\", (f.col(\"bid_price1\") * f.col(\"ask_size1\") + f.col(\"ask_price1\") * f.col(\"bid_size1\"))/(f.col(\"bid_size1\") + f.col(\"ask_size1\")))\n",
    "\n",
    "# Calcular los retornos logaritmicos\n",
    "df_book_train = df_book_train \\\n",
    "                .withColumn('prev_return', f.lag(f.col(\"wap\")).over(windowSpec)) \\\n",
    "                .withColumn('log_return', f.log(f.col(\"wap\") / f.col(\"prev_return\"))) \\\n",
    "                .drop(\"prev_return\")\n",
    "\n",
    "# Calcular la volatilidad realizada de cada time_id\n",
    "df_book_train = df_book_train\\\n",
    "    .withColumn(\"realized_volatility1\", f.pow(f.col(\"log_return\"),2)) \\\n",
    "    .withColumn(\"realized_volatility2\", f.sum(f.col(\"realized_volatility1\")).over(windowSpec)) \\\n",
    "    .withColumn(\"realized_volatility\", f.sqrt(f.col(\"realized_volatility2\"))) \\\n",
    "    .drop(\"realized_volatility2\",\"realized_volatility1\")\n",
    "\n",
    "df_book_train.limit(5).toPandas()"
   ]
  },
  {
   "cell_type": "markdown",
   "metadata": {
    "application/vnd.databricks.v1+cell": {
     "inputWidgets": {},
     "nuid": "299875e5-9dc8-4bed-af98-8aea7de0e3e3",
     "showTitle": false,
     "title": ""
    }
   },
   "source": [
    "Los primeros valores de cada time_id serian nulos, ya que no existen valores anteriores en la ventana. Así que los eliminaremos:"
   ]
  },
  {
   "cell_type": "code",
   "execution_count": 0,
   "metadata": {
    "application/vnd.databricks.v1+cell": {
     "inputWidgets": {},
     "nuid": "b6260326-166f-43e3-8b52-b4e57e93d9da",
     "showTitle": false,
     "title": ""
    }
   },
   "outputs": [],
   "source": [
    "# Eliminar valores nulos\n",
    "df_book_train = df_book_train.dropna()"
   ]
  },
  {
   "cell_type": "markdown",
   "metadata": {
    "application/vnd.databricks.v1+cell": {
     "inputWidgets": {},
     "nuid": "077c4596-7533-4412-97d6-29039afe3972",
     "showTitle": false,
     "title": ""
    }
   },
   "source": [
    "#### 3.2 Extracción de características\n",
    "La feature extraction resulta ser fundamental para generar datos de entrada que serían de gran utilidad para nuestro modelo predictivo. \n",
    "Sobre los datos del *book* y *trade*, podríamos derivar otras variables que capturarían las dinámicas de la volatilidad bajo los siguientes supuestos:\n",
    "- La falta de liquidez hace que el mercado fluctúe más de lo habitual.\n",
    "- Un elevado desequilibrio en los volúmenes de compra y venta puede indicar una volatilidad creciente.\n",
    "- Una mayor diferencia entre los precios de compra y de venta conduce a una mayor volatilidad debido a la falta de liquidez.\n",
    "- Una mayor profundidad de mercado (volúmenes de compra y venta) generalmente conduce a menores fluctuaciones de precios.\n",
    "\n",
    "En resumen, vamos a generar las variables denominadas `total_volume`, `ask_bid_spread` y `volume_imbalance` en los datos del *book*."
   ]
  },
  {
   "cell_type": "code",
   "execution_count": 0,
   "metadata": {
    "application/vnd.databricks.v1+cell": {
     "inputWidgets": {},
     "nuid": "bb2af268-ae8f-4c3e-95ab-22177ff0bcad",
     "showTitle": false,
     "title": ""
    }
   },
   "outputs": [
    {
     "data": {
      "text/html": [
       "<div>\n",
       "<style scoped>\n",
       "    .dataframe tbody tr th:only-of-type {\n",
       "        vertical-align: middle;\n",
       "    }\n",
       "\n",
       "    .dataframe tbody tr th {\n",
       "        vertical-align: top;\n",
       "    }\n",
       "\n",
       "    .dataframe thead th {\n",
       "        text-align: right;\n",
       "    }\n",
       "</style>\n",
       "<table border=\"1\" class=\"dataframe\">\n",
       "  <thead>\n",
       "    <tr style=\"text-align: right;\">\n",
       "      <th></th>\n",
       "      <th>time_id</th>\n",
       "      <th>seconds_in_bucket</th>\n",
       "      <th>bid_price1</th>\n",
       "      <th>ask_price1</th>\n",
       "      <th>bid_price2</th>\n",
       "      <th>ask_price2</th>\n",
       "      <th>bid_size1</th>\n",
       "      <th>ask_size1</th>\n",
       "      <th>bid_size2</th>\n",
       "      <th>ask_size2</th>\n",
       "      <th>stock_id</th>\n",
       "      <th>wap</th>\n",
       "      <th>log_return</th>\n",
       "      <th>realized_volatility</th>\n",
       "      <th>ask_bid_spread1</th>\n",
       "      <th>ask_bid_spread2</th>\n",
       "      <th>total_volume</th>\n",
       "      <th>volume_imbalance</th>\n",
       "    </tr>\n",
       "  </thead>\n",
       "  <tbody>\n",
       "    <tr>\n",
       "      <th>0</th>\n",
       "      <td>31</td>\n",
       "      <td>3</td>\n",
       "      <td>0.999815</td>\n",
       "      <td>1.000463</td>\n",
       "      <td>0.999769</td>\n",
       "      <td>1.000509</td>\n",
       "      <td>343</td>\n",
       "      <td>100</td>\n",
       "      <td>5</td>\n",
       "      <td>142</td>\n",
       "      <td>0</td>\n",
       "      <td>1.000316</td>\n",
       "      <td>0.000000</td>\n",
       "      <td>0.002574</td>\n",
       "      <td>0.000648</td>\n",
       "      <td>0.000740</td>\n",
       "      <td>590</td>\n",
       "      <td>106</td>\n",
       "    </tr>\n",
       "    <tr>\n",
       "      <th>1</th>\n",
       "      <td>31</td>\n",
       "      <td>11</td>\n",
       "      <td>0.999815</td>\n",
       "      <td>1.000509</td>\n",
       "      <td>0.999769</td>\n",
       "      <td>1.000601</td>\n",
       "      <td>343</td>\n",
       "      <td>142</td>\n",
       "      <td>5</td>\n",
       "      <td>100</td>\n",
       "      <td>0</td>\n",
       "      <td>1.000306</td>\n",
       "      <td>-0.000011</td>\n",
       "      <td>0.002574</td>\n",
       "      <td>0.000694</td>\n",
       "      <td>0.000833</td>\n",
       "      <td>590</td>\n",
       "      <td>106</td>\n",
       "    </tr>\n",
       "    <tr>\n",
       "      <th>2</th>\n",
       "      <td>31</td>\n",
       "      <td>27</td>\n",
       "      <td>0.999815</td>\n",
       "      <td>1.000509</td>\n",
       "      <td>0.999769</td>\n",
       "      <td>1.000601</td>\n",
       "      <td>243</td>\n",
       "      <td>142</td>\n",
       "      <td>5</td>\n",
       "      <td>100</td>\n",
       "      <td>0</td>\n",
       "      <td>1.000253</td>\n",
       "      <td>-0.000053</td>\n",
       "      <td>0.002574</td>\n",
       "      <td>0.000694</td>\n",
       "      <td>0.000833</td>\n",
       "      <td>490</td>\n",
       "      <td>6</td>\n",
       "    </tr>\n",
       "    <tr>\n",
       "      <th>3</th>\n",
       "      <td>31</td>\n",
       "      <td>31</td>\n",
       "      <td>0.999815</td>\n",
       "      <td>1.000509</td>\n",
       "      <td>0.999769</td>\n",
       "      <td>1.000601</td>\n",
       "      <td>243</td>\n",
       "      <td>142</td>\n",
       "      <td>5</td>\n",
       "      <td>125</td>\n",
       "      <td>0</td>\n",
       "      <td>1.000253</td>\n",
       "      <td>0.000000</td>\n",
       "      <td>0.002574</td>\n",
       "      <td>0.000694</td>\n",
       "      <td>0.000833</td>\n",
       "      <td>515</td>\n",
       "      <td>19</td>\n",
       "    </tr>\n",
       "    <tr>\n",
       "      <th>4</th>\n",
       "      <td>31</td>\n",
       "      <td>40</td>\n",
       "      <td>0.999815</td>\n",
       "      <td>1.000463</td>\n",
       "      <td>0.999769</td>\n",
       "      <td>1.000509</td>\n",
       "      <td>243</td>\n",
       "      <td>101</td>\n",
       "      <td>5</td>\n",
       "      <td>142</td>\n",
       "      <td>0</td>\n",
       "      <td>1.000273</td>\n",
       "      <td>0.000020</td>\n",
       "      <td>0.002574</td>\n",
       "      <td>0.000648</td>\n",
       "      <td>0.000740</td>\n",
       "      <td>491</td>\n",
       "      <td>5</td>\n",
       "    </tr>\n",
       "  </tbody>\n",
       "</table>\n",
       "</div>"
      ]
     },
     "metadata": {
      "application/vnd.databricks.v1+output": {
       "addedWidgets": {},
       "arguments": {},
       "data": "<div>\n<style scoped>\n    .dataframe tbody tr th:only-of-type {\n        vertical-align: middle;\n    }\n\n    .dataframe tbody tr th {\n        vertical-align: top;\n    }\n\n    .dataframe thead th {\n        text-align: right;\n    }\n</style>\n<table border=\"1\" class=\"dataframe\">\n  <thead>\n    <tr style=\"text-align: right;\">\n      <th></th>\n      <th>time_id</th>\n      <th>seconds_in_bucket</th>\n      <th>bid_price1</th>\n      <th>ask_price1</th>\n      <th>bid_price2</th>\n      <th>ask_price2</th>\n      <th>bid_size1</th>\n      <th>ask_size1</th>\n      <th>bid_size2</th>\n      <th>ask_size2</th>\n      <th>stock_id</th>\n      <th>wap</th>\n      <th>log_return</th>\n      <th>realized_volatility</th>\n      <th>ask_bid_spread1</th>\n      <th>ask_bid_spread2</th>\n      <th>total_volume</th>\n      <th>volume_imbalance</th>\n    </tr>\n  </thead>\n  <tbody>\n    <tr>\n      <th>0</th>\n      <td>31</td>\n      <td>3</td>\n      <td>0.999815</td>\n      <td>1.000463</td>\n      <td>0.999769</td>\n      <td>1.000509</td>\n      <td>343</td>\n      <td>100</td>\n      <td>5</td>\n      <td>142</td>\n      <td>0</td>\n      <td>1.000316</td>\n      <td>0.000000</td>\n      <td>0.002574</td>\n      <td>0.000648</td>\n      <td>0.000740</td>\n      <td>590</td>\n      <td>106</td>\n    </tr>\n    <tr>\n      <th>1</th>\n      <td>31</td>\n      <td>11</td>\n      <td>0.999815</td>\n      <td>1.000509</td>\n      <td>0.999769</td>\n      <td>1.000601</td>\n      <td>343</td>\n      <td>142</td>\n      <td>5</td>\n      <td>100</td>\n      <td>0</td>\n      <td>1.000306</td>\n      <td>-0.000011</td>\n      <td>0.002574</td>\n      <td>0.000694</td>\n      <td>0.000833</td>\n      <td>590</td>\n      <td>106</td>\n    </tr>\n    <tr>\n      <th>2</th>\n      <td>31</td>\n      <td>27</td>\n      <td>0.999815</td>\n      <td>1.000509</td>\n      <td>0.999769</td>\n      <td>1.000601</td>\n      <td>243</td>\n      <td>142</td>\n      <td>5</td>\n      <td>100</td>\n      <td>0</td>\n      <td>1.000253</td>\n      <td>-0.000053</td>\n      <td>0.002574</td>\n      <td>0.000694</td>\n      <td>0.000833</td>\n      <td>490</td>\n      <td>6</td>\n    </tr>\n    <tr>\n      <th>3</th>\n      <td>31</td>\n      <td>31</td>\n      <td>0.999815</td>\n      <td>1.000509</td>\n      <td>0.999769</td>\n      <td>1.000601</td>\n      <td>243</td>\n      <td>142</td>\n      <td>5</td>\n      <td>125</td>\n      <td>0</td>\n      <td>1.000253</td>\n      <td>0.000000</td>\n      <td>0.002574</td>\n      <td>0.000694</td>\n      <td>0.000833</td>\n      <td>515</td>\n      <td>19</td>\n    </tr>\n    <tr>\n      <th>4</th>\n      <td>31</td>\n      <td>40</td>\n      <td>0.999815</td>\n      <td>1.000463</td>\n      <td>0.999769</td>\n      <td>1.000509</td>\n      <td>243</td>\n      <td>101</td>\n      <td>5</td>\n      <td>142</td>\n      <td>0</td>\n      <td>1.000273</td>\n      <td>0.000020</td>\n      <td>0.002574</td>\n      <td>0.000648</td>\n      <td>0.000740</td>\n      <td>491</td>\n      <td>5</td>\n    </tr>\n  </tbody>\n</table>\n</div>",
       "datasetInfos": [],
       "metadata": {},
       "removedWidgets": [],
       "textData": null,
       "type": "htmlSandbox"
      }
     },
     "output_type": "display_data"
    }
   ],
   "source": [
    "# Calcular el price spread\n",
    "df_book_train = df_book_train \\\n",
    "    .withColumn(\"ask_bid_spread1\", f.col(\"ask_price1\") - f.col(\"bid_price1\")) \\\n",
    "    .withColumn(\"ask_bid_spread2\", f.col(\"ask_price2\") - f.col(\"bid_price2\"))\n",
    "\n",
    "# Calcular en volumen total\n",
    "df_book_train = df_book_train \\\n",
    "    .withColumn(\"total_volume\", f.col(\"ask_size1\") + f.col(\"ask_size2\") + f.col(\"bid_size1\") + f.col(\"bid_size2\"))\n",
    "\n",
    "# Calcular el desbalance en el volumen\n",
    "df_book_train = df_book_train \\\n",
    "    .withColumn(\"volume_imbalance\", f.abs((f.col(\"ask_size1\") + f.col(\"ask_size2\")) - (f.col(\"bid_size1\") + f.col(\"bid_size2\"))))\n",
    "\n",
    "df_book_train.limit(5).toPandas()"
   ]
  },
  {
   "cell_type": "markdown",
   "metadata": {
    "application/vnd.databricks.v1+cell": {
     "inputWidgets": {},
     "nuid": "f1794f9b-e74e-4cc5-9267-9bfc608a9ccc",
     "showTitle": false,
     "title": ""
    }
   },
   "source": [
    "#### 3.3. Agregaciones con groupBy\n",
    "\n",
    "Antes de unir las tablas del book y trade, es necesario realizar agregaciones a los datos mediante una columna denominada `row_id`, que representa cada registro único del `time_id` y `stock_id`, y que debe ser generado mediante la concatenación de los dos IDs."
   ]
  },
  {
   "cell_type": "code",
   "execution_count": 0,
   "metadata": {
    "application/vnd.databricks.v1+cell": {
     "inputWidgets": {},
     "nuid": "3516b31a-7e85-44cb-8afb-5640880c2aff",
     "showTitle": false,
     "title": ""
    }
   },
   "outputs": [],
   "source": [
    "# Crear la columna row_id para la tabla del book\n",
    "df_book_train = df_book_train.withColumn(\"stock_id_str\", df_book_train[\"stock_id\"].cast('string')) \\\n",
    "                 .withColumn(\"time_id_str\", df_book_train[\"time_id\"].cast('string')) \\\n",
    "                 .withColumn(\"row_id\", f.concat(\"stock_id_str\", f.lit(\"-\"), \"time_id_str\")) \\\n",
    "                 .drop(\"stock_id\", \"time_id\", \"stock_id_str\", \"time_id_str\")\n",
    "\n",
    "df_trade_train = df_trade_train.withColumn(\"stock_id_str\", df_trade_train[\"stock_id\"].cast('string')) \\\n",
    "                 .withColumn(\"time_id_str\", df_trade_train[\"time_id\"].cast('string')) \\\n",
    "                 .withColumn(\"row_id\", f.concat(\"stock_id_str\", f.lit(\"-\"), \"time_id_str\")) \\\n",
    "                 .drop(\"stock_id\", \"time_id\", \"stock_id_str\", \"time_id_str\")\n",
    "\n",
    "train = train.withColumn(\"stock_id_str\", train[\"stock_id\"].cast('string')) \\\n",
    "                 .withColumn(\"time_id_str\", train[\"time_id\"].cast('string')) \\\n",
    "                 .withColumn(\"row_id\", f.concat(\"stock_id_str\", f.lit(\"-\"), \"time_id_str\")) \\\n",
    "                 .drop(\"stock_id\", \"time_id\", \"stock_id_str\", \"time_id_str\")"
   ]
  },
  {
   "cell_type": "code",
   "execution_count": 0,
   "metadata": {
    "application/vnd.databricks.v1+cell": {
     "inputWidgets": {},
     "nuid": "d3ce8528-0504-41b8-b8b2-f362d01e8231",
     "showTitle": false,
     "title": ""
    }
   },
   "outputs": [],
   "source": [
    "# Alterar el nombre de la columna seconds_in_bucket en la tabla de trade\n",
    "df_trade_train = df_trade_train.withColumnRenamed(\"seconds_in_bucket\", \"seconds_in_bucket_trade\")"
   ]
  },
  {
   "cell_type": "code",
   "execution_count": 0,
   "metadata": {
    "application/vnd.databricks.v1+cell": {
     "inputWidgets": {},
     "nuid": "c52dafb7-bd92-471f-8bc6-0cd2d29b461f",
     "showTitle": false,
     "title": ""
    }
   },
   "outputs": [],
   "source": [
    "# Calcular el promedio en cada columna del book\n",
    "df_book_train = df_book_train.groupBy(\"row_id\").avg()\n",
    "\n",
    "# Calcular el promedio en cada columna del trade\n",
    "df_trade_train = df_trade_train.groupBy(\"row_id\").avg()"
   ]
  },
  {
   "cell_type": "code",
   "execution_count": 0,
   "metadata": {
    "application/vnd.databricks.v1+cell": {
     "inputWidgets": {},
     "nuid": "77a6dab9-b09a-4dc9-8815-16a9e81df938",
     "showTitle": false,
     "title": ""
    }
   },
   "outputs": [],
   "source": [
    "# Hacer un join entre las tablas (train y book)\n",
    "train = train.join(df_book_train, train[\"row_id\"] == df_book_train[\"row_id\"]).drop(df_book_train[\"row_id\"]) \\\n",
    "             .join(df_trade_train, train[\"row_id\"] == df_trade_train[\"row_id\"]).drop(df_trade_train[\"row_id\"])"
   ]
  },
  {
   "cell_type": "code",
   "execution_count": 0,
   "metadata": {
    "application/vnd.databricks.v1+cell": {
     "inputWidgets": {},
     "nuid": "0286f4b2-4e86-44c9-9514-102b5dacbf1d",
     "showTitle": false,
     "title": ""
    }
   },
   "outputs": [
    {
     "data": {
      "text/html": [
       "<div>\n",
       "<style scoped>\n",
       "    .dataframe tbody tr th:only-of-type {\n",
       "        vertical-align: middle;\n",
       "    }\n",
       "\n",
       "    .dataframe tbody tr th {\n",
       "        vertical-align: top;\n",
       "    }\n",
       "\n",
       "    .dataframe thead th {\n",
       "        text-align: right;\n",
       "    }\n",
       "</style>\n",
       "<table border=\"1\" class=\"dataframe\">\n",
       "  <thead>\n",
       "    <tr style=\"text-align: right;\">\n",
       "      <th></th>\n",
       "      <th>target</th>\n",
       "      <th>row_id</th>\n",
       "      <th>avg(seconds_in_bucket)</th>\n",
       "      <th>avg(bid_price1)</th>\n",
       "      <th>avg(ask_price1)</th>\n",
       "      <th>avg(bid_price2)</th>\n",
       "      <th>avg(ask_price2)</th>\n",
       "      <th>avg(bid_size1)</th>\n",
       "      <th>avg(ask_size1)</th>\n",
       "      <th>avg(bid_size2)</th>\n",
       "      <th>...</th>\n",
       "      <th>avg(log_return)</th>\n",
       "      <th>avg(realized_volatility)</th>\n",
       "      <th>avg(ask_bid_spread1)</th>\n",
       "      <th>avg(ask_bid_spread2)</th>\n",
       "      <th>avg(total_volume)</th>\n",
       "      <th>avg(volume_imbalance)</th>\n",
       "      <th>avg(seconds_in_bucket_trade)</th>\n",
       "      <th>avg(price)</th>\n",
       "      <th>avg(size)</th>\n",
       "      <th>avg(order_count)</th>\n",
       "    </tr>\n",
       "  </thead>\n",
       "  <tbody>\n",
       "    <tr>\n",
       "      <th>0</th>\n",
       "      <td>0.006113</td>\n",
       "      <td>0-1322</td>\n",
       "      <td>286.541833</td>\n",
       "      <td>0.998305</td>\n",
       "      <td>1.000744</td>\n",
       "      <td>0.998042</td>\n",
       "      <td>1.001419</td>\n",
       "      <td>79.689243</td>\n",
       "      <td>83.374502</td>\n",
       "      <td>61.872510</td>\n",
       "      <td>...</td>\n",
       "      <td>-6.871912e-07</td>\n",
       "      <td>0.011045</td>\n",
       "      <td>0.002439</td>\n",
       "      <td>0.003377</td>\n",
       "      <td>328.549801</td>\n",
       "      <td>110.023904</td>\n",
       "      <td>266.735294</td>\n",
       "      <td>0.998625</td>\n",
       "      <td>153.264706</td>\n",
       "      <td>4.970588</td>\n",
       "    </tr>\n",
       "    <tr>\n",
       "      <th>1</th>\n",
       "      <td>0.002329</td>\n",
       "      <td>2-4364</td>\n",
       "      <td>303.678284</td>\n",
       "      <td>0.998666</td>\n",
       "      <td>0.998882</td>\n",
       "      <td>0.998498</td>\n",
       "      <td>0.999071</td>\n",
       "      <td>123.053619</td>\n",
       "      <td>110.798928</td>\n",
       "      <td>143.351206</td>\n",
       "      <td>...</td>\n",
       "      <td>-1.197342e-06</td>\n",
       "      <td>0.006107</td>\n",
       "      <td>0.000215</td>\n",
       "      <td>0.000574</td>\n",
       "      <td>482.219839</td>\n",
       "      <td>129.581769</td>\n",
       "      <td>303.831461</td>\n",
       "      <td>0.998681</td>\n",
       "      <td>162.528090</td>\n",
       "      <td>2.505618</td>\n",
       "    </tr>\n",
       "    <tr>\n",
       "      <th>2</th>\n",
       "      <td>0.002268</td>\n",
       "      <td>0-6939</td>\n",
       "      <td>322.038732</td>\n",
       "      <td>0.999712</td>\n",
       "      <td>1.000274</td>\n",
       "      <td>0.999601</td>\n",
       "      <td>1.000475</td>\n",
       "      <td>97.841549</td>\n",
       "      <td>32.841549</td>\n",
       "      <td>85.200704</td>\n",
       "      <td>...</td>\n",
       "      <td>1.174528e-06</td>\n",
       "      <td>0.002258</td>\n",
       "      <td>0.000561</td>\n",
       "      <td>0.000874</td>\n",
       "      <td>241.827465</td>\n",
       "      <td>137.897887</td>\n",
       "      <td>307.407407</td>\n",
       "      <td>0.999971</td>\n",
       "      <td>39.481481</td>\n",
       "      <td>2.037037</td>\n",
       "    </tr>\n",
       "    <tr>\n",
       "      <th>3</th>\n",
       "      <td>0.001357</td>\n",
       "      <td>2-10708</td>\n",
       "      <td>295.911824</td>\n",
       "      <td>1.000412</td>\n",
       "      <td>1.000557</td>\n",
       "      <td>1.000327</td>\n",
       "      <td>1.000641</td>\n",
       "      <td>178.659319</td>\n",
       "      <td>255.989980</td>\n",
       "      <td>206.170341</td>\n",
       "      <td>...</td>\n",
       "      <td>-6.253809e-07</td>\n",
       "      <td>0.005487</td>\n",
       "      <td>0.000145</td>\n",
       "      <td>0.000314</td>\n",
       "      <td>847.807615</td>\n",
       "      <td>230.224449</td>\n",
       "      <td>275.463918</td>\n",
       "      <td>1.000550</td>\n",
       "      <td>232.288660</td>\n",
       "      <td>3.463918</td>\n",
       "    </tr>\n",
       "    <tr>\n",
       "      <th>4</th>\n",
       "      <td>0.001851</td>\n",
       "      <td>1-14423</td>\n",
       "      <td>286.300000</td>\n",
       "      <td>0.999754</td>\n",
       "      <td>0.999960</td>\n",
       "      <td>0.999652</td>\n",
       "      <td>1.000065</td>\n",
       "      <td>242.572917</td>\n",
       "      <td>140.479167</td>\n",
       "      <td>226.602083</td>\n",
       "      <td>...</td>\n",
       "      <td>3.683135e-07</td>\n",
       "      <td>0.002862</td>\n",
       "      <td>0.000206</td>\n",
       "      <td>0.000413</td>\n",
       "      <td>796.037500</td>\n",
       "      <td>240.504167</td>\n",
       "      <td>291.542056</td>\n",
       "      <td>0.999890</td>\n",
       "      <td>202.588785</td>\n",
       "      <td>3.317757</td>\n",
       "    </tr>\n",
       "    <tr>\n",
       "      <th>5</th>\n",
       "      <td>0.006997</td>\n",
       "      <td>1-15906</td>\n",
       "      <td>287.455764</td>\n",
       "      <td>1.001083</td>\n",
       "      <td>1.002435</td>\n",
       "      <td>1.000911</td>\n",
       "      <td>1.002583</td>\n",
       "      <td>89.576408</td>\n",
       "      <td>124.554960</td>\n",
       "      <td>72.042895</td>\n",
       "      <td>...</td>\n",
       "      <td>3.759951e-05</td>\n",
       "      <td>0.023199</td>\n",
       "      <td>0.001352</td>\n",
       "      <td>0.001672</td>\n",
       "      <td>382.324397</td>\n",
       "      <td>133.895442</td>\n",
       "      <td>278.800000</td>\n",
       "      <td>1.001279</td>\n",
       "      <td>267.254545</td>\n",
       "      <td>5.763636</td>\n",
       "    </tr>\n",
       "    <tr>\n",
       "      <th>6</th>\n",
       "      <td>0.005478</td>\n",
       "      <td>1-17008</td>\n",
       "      <td>302.023474</td>\n",
       "      <td>0.994690</td>\n",
       "      <td>0.995183</td>\n",
       "      <td>0.994459</td>\n",
       "      <td>0.995364</td>\n",
       "      <td>136.387324</td>\n",
       "      <td>139.215962</td>\n",
       "      <td>143.793427</td>\n",
       "      <td>...</td>\n",
       "      <td>-3.139935e-06</td>\n",
       "      <td>0.007223</td>\n",
       "      <td>0.000494</td>\n",
       "      <td>0.000905</td>\n",
       "      <td>572.593897</td>\n",
       "      <td>150.931925</td>\n",
       "      <td>324.585106</td>\n",
       "      <td>0.994755</td>\n",
       "      <td>147.170213</td>\n",
       "      <td>2.404255</td>\n",
       "    </tr>\n",
       "    <tr>\n",
       "      <th>7</th>\n",
       "      <td>0.002460</td>\n",
       "      <td>2-30134</td>\n",
       "      <td>303.588339</td>\n",
       "      <td>0.999852</td>\n",
       "      <td>0.999948</td>\n",
       "      <td>0.999778</td>\n",
       "      <td>1.000022</td>\n",
       "      <td>772.107774</td>\n",
       "      <td>372.222615</td>\n",
       "      <td>827.994700</td>\n",
       "      <td>...</td>\n",
       "      <td>1.416295e-06</td>\n",
       "      <td>0.003117</td>\n",
       "      <td>0.000097</td>\n",
       "      <td>0.000244</td>\n",
       "      <td>2379.220848</td>\n",
       "      <td>1027.860424</td>\n",
       "      <td>310.834783</td>\n",
       "      <td>0.999932</td>\n",
       "      <td>333.530435</td>\n",
       "      <td>3.643478</td>\n",
       "    </tr>\n",
       "    <tr>\n",
       "      <th>8</th>\n",
       "      <td>0.002067</td>\n",
       "      <td>0-30793</td>\n",
       "      <td>282.145455</td>\n",
       "      <td>1.000536</td>\n",
       "      <td>1.001513</td>\n",
       "      <td>1.000283</td>\n",
       "      <td>1.001659</td>\n",
       "      <td>195.921212</td>\n",
       "      <td>114.321212</td>\n",
       "      <td>107.909091</td>\n",
       "      <td>...</td>\n",
       "      <td>-4.076191e-06</td>\n",
       "      <td>0.002804</td>\n",
       "      <td>0.000977</td>\n",
       "      <td>0.001376</td>\n",
       "      <td>478.133333</td>\n",
       "      <td>187.018182</td>\n",
       "      <td>331.437500</td>\n",
       "      <td>1.001386</td>\n",
       "      <td>187.687500</td>\n",
       "      <td>5.250000</td>\n",
       "    </tr>\n",
       "    <tr>\n",
       "      <th>9</th>\n",
       "      <td>0.002476</td>\n",
       "      <td>2-1322</td>\n",
       "      <td>321.959335</td>\n",
       "      <td>0.999404</td>\n",
       "      <td>0.999819</td>\n",
       "      <td>0.999298</td>\n",
       "      <td>0.999913</td>\n",
       "      <td>182.234750</td>\n",
       "      <td>201.016636</td>\n",
       "      <td>172.086876</td>\n",
       "      <td>...</td>\n",
       "      <td>3.889499e-06</td>\n",
       "      <td>0.014938</td>\n",
       "      <td>0.000415</td>\n",
       "      <td>0.000616</td>\n",
       "      <td>746.822551</td>\n",
       "      <td>163.628466</td>\n",
       "      <td>318.993464</td>\n",
       "      <td>0.999532</td>\n",
       "      <td>231.130719</td>\n",
       "      <td>3.235294</td>\n",
       "    </tr>\n",
       "  </tbody>\n",
       "</table>\n",
       "<p>10 rows × 22 columns</p>\n",
       "</div>"
      ]
     },
     "metadata": {
      "application/vnd.databricks.v1+output": {
       "addedWidgets": {},
       "arguments": {},
       "data": "<div>\n<style scoped>\n    .dataframe tbody tr th:only-of-type {\n        vertical-align: middle;\n    }\n\n    .dataframe tbody tr th {\n        vertical-align: top;\n    }\n\n    .dataframe thead th {\n        text-align: right;\n    }\n</style>\n<table border=\"1\" class=\"dataframe\">\n  <thead>\n    <tr style=\"text-align: right;\">\n      <th></th>\n      <th>target</th>\n      <th>row_id</th>\n      <th>avg(seconds_in_bucket)</th>\n      <th>avg(bid_price1)</th>\n      <th>avg(ask_price1)</th>\n      <th>avg(bid_price2)</th>\n      <th>avg(ask_price2)</th>\n      <th>avg(bid_size1)</th>\n      <th>avg(ask_size1)</th>\n      <th>avg(bid_size2)</th>\n      <th>...</th>\n      <th>avg(log_return)</th>\n      <th>avg(realized_volatility)</th>\n      <th>avg(ask_bid_spread1)</th>\n      <th>avg(ask_bid_spread2)</th>\n      <th>avg(total_volume)</th>\n      <th>avg(volume_imbalance)</th>\n      <th>avg(seconds_in_bucket_trade)</th>\n      <th>avg(price)</th>\n      <th>avg(size)</th>\n      <th>avg(order_count)</th>\n    </tr>\n  </thead>\n  <tbody>\n    <tr>\n      <th>0</th>\n      <td>0.006113</td>\n      <td>0-1322</td>\n      <td>286.541833</td>\n      <td>0.998305</td>\n      <td>1.000744</td>\n      <td>0.998042</td>\n      <td>1.001419</td>\n      <td>79.689243</td>\n      <td>83.374502</td>\n      <td>61.872510</td>\n      <td>...</td>\n      <td>-6.871912e-07</td>\n      <td>0.011045</td>\n      <td>0.002439</td>\n      <td>0.003377</td>\n      <td>328.549801</td>\n      <td>110.023904</td>\n      <td>266.735294</td>\n      <td>0.998625</td>\n      <td>153.264706</td>\n      <td>4.970588</td>\n    </tr>\n    <tr>\n      <th>1</th>\n      <td>0.002329</td>\n      <td>2-4364</td>\n      <td>303.678284</td>\n      <td>0.998666</td>\n      <td>0.998882</td>\n      <td>0.998498</td>\n      <td>0.999071</td>\n      <td>123.053619</td>\n      <td>110.798928</td>\n      <td>143.351206</td>\n      <td>...</td>\n      <td>-1.197342e-06</td>\n      <td>0.006107</td>\n      <td>0.000215</td>\n      <td>0.000574</td>\n      <td>482.219839</td>\n      <td>129.581769</td>\n      <td>303.831461</td>\n      <td>0.998681</td>\n      <td>162.528090</td>\n      <td>2.505618</td>\n    </tr>\n    <tr>\n      <th>2</th>\n      <td>0.002268</td>\n      <td>0-6939</td>\n      <td>322.038732</td>\n      <td>0.999712</td>\n      <td>1.000274</td>\n      <td>0.999601</td>\n      <td>1.000475</td>\n      <td>97.841549</td>\n      <td>32.841549</td>\n      <td>85.200704</td>\n      <td>...</td>\n      <td>1.174528e-06</td>\n      <td>0.002258</td>\n      <td>0.000561</td>\n      <td>0.000874</td>\n      <td>241.827465</td>\n      <td>137.897887</td>\n      <td>307.407407</td>\n      <td>0.999971</td>\n      <td>39.481481</td>\n      <td>2.037037</td>\n    </tr>\n    <tr>\n      <th>3</th>\n      <td>0.001357</td>\n      <td>2-10708</td>\n      <td>295.911824</td>\n      <td>1.000412</td>\n      <td>1.000557</td>\n      <td>1.000327</td>\n      <td>1.000641</td>\n      <td>178.659319</td>\n      <td>255.989980</td>\n      <td>206.170341</td>\n      <td>...</td>\n      <td>-6.253809e-07</td>\n      <td>0.005487</td>\n      <td>0.000145</td>\n      <td>0.000314</td>\n      <td>847.807615</td>\n      <td>230.224449</td>\n      <td>275.463918</td>\n      <td>1.000550</td>\n      <td>232.288660</td>\n      <td>3.463918</td>\n    </tr>\n    <tr>\n      <th>4</th>\n      <td>0.001851</td>\n      <td>1-14423</td>\n      <td>286.300000</td>\n      <td>0.999754</td>\n      <td>0.999960</td>\n      <td>0.999652</td>\n      <td>1.000065</td>\n      <td>242.572917</td>\n      <td>140.479167</td>\n      <td>226.602083</td>\n      <td>...</td>\n      <td>3.683135e-07</td>\n      <td>0.002862</td>\n      <td>0.000206</td>\n      <td>0.000413</td>\n      <td>796.037500</td>\n      <td>240.504167</td>\n      <td>291.542056</td>\n      <td>0.999890</td>\n      <td>202.588785</td>\n      <td>3.317757</td>\n    </tr>\n    <tr>\n      <th>5</th>\n      <td>0.006997</td>\n      <td>1-15906</td>\n      <td>287.455764</td>\n      <td>1.001083</td>\n      <td>1.002435</td>\n      <td>1.000911</td>\n      <td>1.002583</td>\n      <td>89.576408</td>\n      <td>124.554960</td>\n      <td>72.042895</td>\n      <td>...</td>\n      <td>3.759951e-05</td>\n      <td>0.023199</td>\n      <td>0.001352</td>\n      <td>0.001672</td>\n      <td>382.324397</td>\n      <td>133.895442</td>\n      <td>278.800000</td>\n      <td>1.001279</td>\n      <td>267.254545</td>\n      <td>5.763636</td>\n    </tr>\n    <tr>\n      <th>6</th>\n      <td>0.005478</td>\n      <td>1-17008</td>\n      <td>302.023474</td>\n      <td>0.994690</td>\n      <td>0.995183</td>\n      <td>0.994459</td>\n      <td>0.995364</td>\n      <td>136.387324</td>\n      <td>139.215962</td>\n      <td>143.793427</td>\n      <td>...</td>\n      <td>-3.139935e-06</td>\n      <td>0.007223</td>\n      <td>0.000494</td>\n      <td>0.000905</td>\n      <td>572.593897</td>\n      <td>150.931925</td>\n      <td>324.585106</td>\n      <td>0.994755</td>\n      <td>147.170213</td>\n      <td>2.404255</td>\n    </tr>\n    <tr>\n      <th>7</th>\n      <td>0.002460</td>\n      <td>2-30134</td>\n      <td>303.588339</td>\n      <td>0.999852</td>\n      <td>0.999948</td>\n      <td>0.999778</td>\n      <td>1.000022</td>\n      <td>772.107774</td>\n      <td>372.222615</td>\n      <td>827.994700</td>\n      <td>...</td>\n      <td>1.416295e-06</td>\n      <td>0.003117</td>\n      <td>0.000097</td>\n      <td>0.000244</td>\n      <td>2379.220848</td>\n      <td>1027.860424</td>\n      <td>310.834783</td>\n      <td>0.999932</td>\n      <td>333.530435</td>\n      <td>3.643478</td>\n    </tr>\n    <tr>\n      <th>8</th>\n      <td>0.002067</td>\n      <td>0-30793</td>\n      <td>282.145455</td>\n      <td>1.000536</td>\n      <td>1.001513</td>\n      <td>1.000283</td>\n      <td>1.001659</td>\n      <td>195.921212</td>\n      <td>114.321212</td>\n      <td>107.909091</td>\n      <td>...</td>\n      <td>-4.076191e-06</td>\n      <td>0.002804</td>\n      <td>0.000977</td>\n      <td>0.001376</td>\n      <td>478.133333</td>\n      <td>187.018182</td>\n      <td>331.437500</td>\n      <td>1.001386</td>\n      <td>187.687500</td>\n      <td>5.250000</td>\n    </tr>\n    <tr>\n      <th>9</th>\n      <td>0.002476</td>\n      <td>2-1322</td>\n      <td>321.959335</td>\n      <td>0.999404</td>\n      <td>0.999819</td>\n      <td>0.999298</td>\n      <td>0.999913</td>\n      <td>182.234750</td>\n      <td>201.016636</td>\n      <td>172.086876</td>\n      <td>...</td>\n      <td>3.889499e-06</td>\n      <td>0.014938</td>\n      <td>0.000415</td>\n      <td>0.000616</td>\n      <td>746.822551</td>\n      <td>163.628466</td>\n      <td>318.993464</td>\n      <td>0.999532</td>\n      <td>231.130719</td>\n      <td>3.235294</td>\n    </tr>\n  </tbody>\n</table>\n<p>10 rows × 22 columns</p>\n</div>",
       "datasetInfos": [],
       "metadata": {},
       "removedWidgets": [],
       "textData": null,
       "type": "htmlSandbox"
      }
     },
     "output_type": "display_data"
    }
   ],
   "source": [
    "train.limit(10).toPandas()"
   ]
  },
  {
   "cell_type": "markdown",
   "metadata": {
    "application/vnd.databricks.v1+cell": {
     "inputWidgets": {},
     "nuid": "f4bff39e-cc3f-40fc-8366-dd93f29eb5ee",
     "showTitle": false,
     "title": ""
    }
   },
   "source": [
    "#### 3.4. Vectorización con VectorAssembler"
   ]
  },
  {
   "cell_type": "markdown",
   "metadata": {
    "application/vnd.databricks.v1+cell": {
     "inputWidgets": {},
     "nuid": "93aa362c-04c6-4b32-9224-90b02ad02b08",
     "showTitle": false,
     "title": ""
    }
   },
   "source": [
    "Vamos a agregar los datos de acuerdo a la media y desviación de todas las features que hemos generado, por stock_id y time_id"
   ]
  },
  {
   "cell_type": "code",
   "execution_count": 0,
   "metadata": {
    "application/vnd.databricks.v1+cell": {
     "inputWidgets": {},
     "nuid": "8b7a9b22-74fe-48ff-adc5-f37c6c8ba180",
     "showTitle": false,
     "title": ""
    }
   },
   "outputs": [
    {
     "data": {
      "text/plain": [
       "+------------------------------------------------------------------------------------------------------------------------------------------------------------------------------------------------------------------------------------------------------------------------------------------------------------------------------------------------------------------------------------------------------+\n",
       "|features_raw                                                                                                                                                                                                                                                                                                                                                                                          |\n",
       "+------------------------------------------------------------------------------------------------------------------------------------------------------------------------------------------------------------------------------------------------------------------------------------------------------------------------------------------------------------------------------------------------------+\n",
       "|[286.54183266932273,0.9983047375166084,1.0007440459680748,0.9980418990807705,1.0014192309987497,79.68924302788845,83.37450199203187,61.87250996015936,103.61354581673307,0.9994403200575684,-6.871912110542666E-7,0.011045181894009984,0.0024393084514663516,0.003377331917979328,328.54980079681275,110.02390438247012,266.7352941176471,0.9986248945488649,153.26470588235293,4.970588235294118]    |\n",
       "|[303.6782841823056,0.9986664750301166,0.9988817705226009,0.9984976575777295,0.9990712484150086,123.05361930294906,110.79892761394102,143.35120643431637,105.01608579088472,0.9987875425061986,-1.1973418688425193E-6,0.006106655784148524,2.1529549248416687E-4,5.735908372792098E-4,482.21983914209113,129.58176943699732,303.8314606741573,0.9986805373363281,162.52808988764045,2.50561797752809]  |\n",
       "|[322.0387323943662,0.9997123397991691,1.0002737708494698,0.9996013532222157,1.0004752563758634,97.84154929577464,32.84154929577465,85.20070422535211,25.943661971830984,1.000148570717463,1.1745280173869967E-6,0.002257739810408153,5.614310503005981E-4,8.739031536478392E-4,241.82746478873239,137.89788732394365,307.4074074074074,0.9999710586335924,39.48148148148148,2.037037037037037]        |\n",
       "|[295.91182364729457,1.0004117682367146,1.0005565378852264,1.0003274791465255,1.0006411398102144,178.65931863727454,255.98997995991985,206.17034068136272,206.98797595190382,1.0004779411005724,-6.253809284749545E-7,0.0054866190569571646,1.4476964851180632E-4,3.1366066368882786E-4,847.8076152304609,230.22444889779558,275.4639175257732,1.0005496697327525,232.28865979381445,3.463917525773196]|\n",
       "|[286.3,0.9997539728879928,0.999959758669138,0.9996517417331536,1.0000652006516855,242.57291666666666,140.47916666666666,226.60208333333333,186.38333333333333,0.9998784538647525,3.6831353104941806E-7,0.0028617874698123142,2.0578578114509581E-4,4.1345891853173576E-4,796.0375,240.50416666666666,291.5420560747664,0.9998897063397916,202.58878504672896,3.317757009345794]                       |\n",
       "+------------------------------------------------------------------------------------------------------------------------------------------------------------------------------------------------------------------------------------------------------------------------------------------------------------------------------------------------------------------------------------------------------+\n",
       "only showing top 5 rows\n",
       "\n"
      ]
     },
     "metadata": {
      "application/vnd.databricks.v1+output": {
       "addedWidgets": {},
       "arguments": {},
       "data": "+------------------------------------------------------------------------------------------------------------------------------------------------------------------------------------------------------------------------------------------------------------------------------------------------------------------------------------------------------------------------------------------------------+\n|features_raw                                                                                                                                                                                                                                                                                                                                                                                          |\n+------------------------------------------------------------------------------------------------------------------------------------------------------------------------------------------------------------------------------------------------------------------------------------------------------------------------------------------------------------------------------------------------------+\n|[286.54183266932273,0.9983047375166084,1.0007440459680748,0.9980418990807705,1.0014192309987497,79.68924302788845,83.37450199203187,61.87250996015936,103.61354581673307,0.9994403200575684,-6.871912110542666E-7,0.011045181894009984,0.0024393084514663516,0.003377331917979328,328.54980079681275,110.02390438247012,266.7352941176471,0.9986248945488649,153.26470588235293,4.970588235294118]    |\n|[303.6782841823056,0.9986664750301166,0.9988817705226009,0.9984976575777295,0.9990712484150086,123.05361930294906,110.79892761394102,143.35120643431637,105.01608579088472,0.9987875425061986,-1.1973418688425193E-6,0.006106655784148524,2.1529549248416687E-4,5.735908372792098E-4,482.21983914209113,129.58176943699732,303.8314606741573,0.9986805373363281,162.52808988764045,2.50561797752809]  |\n|[322.0387323943662,0.9997123397991691,1.0002737708494698,0.9996013532222157,1.0004752563758634,97.84154929577464,32.84154929577465,85.20070422535211,25.943661971830984,1.000148570717463,1.1745280173869967E-6,0.002257739810408153,5.614310503005981E-4,8.739031536478392E-4,241.82746478873239,137.89788732394365,307.4074074074074,0.9999710586335924,39.48148148148148,2.037037037037037]        |\n|[295.91182364729457,1.0004117682367146,1.0005565378852264,1.0003274791465255,1.0006411398102144,178.65931863727454,255.98997995991985,206.17034068136272,206.98797595190382,1.0004779411005724,-6.253809284749545E-7,0.0054866190569571646,1.4476964851180632E-4,3.1366066368882786E-4,847.8076152304609,230.22444889779558,275.4639175257732,1.0005496697327525,232.28865979381445,3.463917525773196]|\n|[286.3,0.9997539728879928,0.999959758669138,0.9996517417331536,1.0000652006516855,242.57291666666666,140.47916666666666,226.60208333333333,186.38333333333333,0.9998784538647525,3.6831353104941806E-7,0.0028617874698123142,2.0578578114509581E-4,4.1345891853173576E-4,796.0375,240.50416666666666,291.5420560747664,0.9998897063397916,202.58878504672896,3.317757009345794]                       |\n+------------------------------------------------------------------------------------------------------------------------------------------------------------------------------------------------------------------------------------------------------------------------------------------------------------------------------------------------------------------------------------------------------+\nonly showing top 5 rows\n\n",
       "datasetInfos": [],
       "metadata": {},
       "removedWidgets": [],
       "type": "ansi"
      }
     },
     "output_type": "display_data"
    }
   ],
   "source": [
    "# Definir las variables de entrada y de salida\n",
    "inputcols = train.drop(\"target\", \"row_id\").columns\n",
    "outputcol = \"features_raw\"\n",
    "\n",
    "# Aplicar el VectorAssembler\n",
    "assembler = VectorAssembler(inputCols = inputcols, outputCol=outputcol)\n",
    "train = assembler.transform(train)\n",
    "\n",
    "# Eliminar las otras columnas\n",
    "for column in inputcols:\n",
    "    train = train.drop(column)\n",
    "    \n",
    "# Visualizar el resultado\n",
    "train.select(\"features_raw\").show(5, False)"
   ]
  },
  {
   "cell_type": "markdown",
   "metadata": {
    "application/vnd.databricks.v1+cell": {
     "inputWidgets": {},
     "nuid": "8f50f8fd-3e4e-418b-ba5f-fdf7ff73b21f",
     "showTitle": false,
     "title": ""
    }
   },
   "source": [
    "#### 3.5. Estandarización con StandardScaler"
   ]
  },
  {
   "cell_type": "code",
   "execution_count": 0,
   "metadata": {
    "application/vnd.databricks.v1+cell": {
     "inputWidgets": {},
     "nuid": "2c28d342-54b0-43f6-acde-3e49b0f8b48f",
     "showTitle": false,
     "title": ""
    }
   },
   "outputs": [
    {
     "data": {
      "text/plain": [
       "+------------------------------------------------------------------------------------------------------------------------------------------------------------------------------------------------------------------------------------------------------------------------------------------------------------------------------------------------------------------------------------------+\n",
       "|features                                                                                                                                                                                                                                                                                                                                                                                  |\n",
       "+------------------------------------------------------------------------------------------------------------------------------------------------------------------------------------------------------------------------------------------------------------------------------------------------------------------------------------------------------------------------------------------+\n",
       "|[19.227794251738167,308.62249425623,307.3058852710125,307.9691769390052,305.8754662908012,0.8386264976994485,0.9551897465046582,0.6431465932605807,0.7888949119912998,308.7288500042499,-0.05203983511923037,1.83264838340654,3.3299538908369697,3.680852256464351,0.9953210435134923,0.5454934593775692,8.883637197206864,305.08010316927806,2.1154621688100965,5.6821463093377425]      |\n",
       "|[20.377700221233273,308.734324170974,306.73402255876806,308.1098118856148,305.1582938565069,1.294980625542627,1.2693808904629247,1.4900937446596412,0.7995735992300291,308.5272058853381,-0.09067268677712376,1.01323391124136,0.2939046361465052,0.6251393641373744,1.4608547998927006,0.6424604551092125,10.119127559235386,305.09710205187406,2.2433216019752806,2.864306450196048]    |\n",
       "|[21.609739945773608,309.05764968626966,307.1614744076893,308.45038299744556,305.5871368189834,1.0296561078725257,0.3762530557561742,0.8856363302736852,0.19753037854915634,308.94762986269257,0.08894503216064721,0.3746106902903078,0.7664219378493603,0.9524407056089802,0.7326011582414522,0.683691385243926,10.23822470953871,305.4913565639142,0.5449498627998688,2.3286464164938807]|\n",
       "|[19.856548025617318,309.27387559488955,307.2483057754089,308.6744461389527,305.63780458255474,1.880158889421407,2.9327791857637378,2.143080219728817,1.5759692401672798,309.0493729458583,-0.04735904633387085,0.910355632128893,0.19762824748432184,0.3418493028644615,2.568380069759135,1.1414422326441476,9.174344596260845,305.6681223693635,3.206203732349272,3.9597901200435777]    |\n",
       "|[19.211566572987845,309.07052041324664,307.06504836203703,308.46593155132393,305.4618885893154,2.5527670713312474,1.6094160251816916,2.3554621917783303,1.4190891952169769,308.8641902979376,0.02789176450407143,0.47483601723652064,0.2809227189743493,0.45061641265730196,2.411545748176749,1.1924086007133394,9.709828099290196,305.46650342203753,2.796266160067721,3.792706185572446]|\n",
       "+------------------------------------------------------------------------------------------------------------------------------------------------------------------------------------------------------------------------------------------------------------------------------------------------------------------------------------------------------------------------------------------+\n",
       "only showing top 5 rows\n",
       "\n"
      ]
     },
     "metadata": {
      "application/vnd.databricks.v1+output": {
       "addedWidgets": {},
       "arguments": {},
       "data": "+------------------------------------------------------------------------------------------------------------------------------------------------------------------------------------------------------------------------------------------------------------------------------------------------------------------------------------------------------------------------------------------+\n|features                                                                                                                                                                                                                                                                                                                                                                                  |\n+------------------------------------------------------------------------------------------------------------------------------------------------------------------------------------------------------------------------------------------------------------------------------------------------------------------------------------------------------------------------------------------+\n|[19.227794251738167,308.62249425623,307.3058852710125,307.9691769390052,305.8754662908012,0.8386264976994485,0.9551897465046582,0.6431465932605807,0.7888949119912998,308.7288500042499,-0.05203983511923037,1.83264838340654,3.3299538908369697,3.680852256464351,0.9953210435134923,0.5454934593775692,8.883637197206864,305.08010316927806,2.1154621688100965,5.6821463093377425]      |\n|[20.377700221233273,308.734324170974,306.73402255876806,308.1098118856148,305.1582938565069,1.294980625542627,1.2693808904629247,1.4900937446596412,0.7995735992300291,308.5272058853381,-0.09067268677712376,1.01323391124136,0.2939046361465052,0.6251393641373744,1.4608547998927006,0.6424604551092125,10.119127559235386,305.09710205187406,2.2433216019752806,2.864306450196048]    |\n|[21.609739945773608,309.05764968626966,307.1614744076893,308.45038299744556,305.5871368189834,1.0296561078725257,0.3762530557561742,0.8856363302736852,0.19753037854915634,308.94762986269257,0.08894503216064721,0.3746106902903078,0.7664219378493603,0.9524407056089802,0.7326011582414522,0.683691385243926,10.23822470953871,305.4913565639142,0.5449498627998688,2.3286464164938807]|\n|[19.856548025617318,309.27387559488955,307.2483057754089,308.6744461389527,305.63780458255474,1.880158889421407,2.9327791857637378,2.143080219728817,1.5759692401672798,309.0493729458583,-0.04735904633387085,0.910355632128893,0.19762824748432184,0.3418493028644615,2.568380069759135,1.1414422326441476,9.174344596260845,305.6681223693635,3.206203732349272,3.9597901200435777]    |\n|[19.211566572987845,309.07052041324664,307.06504836203703,308.46593155132393,305.4618885893154,2.5527670713312474,1.6094160251816916,2.3554621917783303,1.4190891952169769,308.8641902979376,0.02789176450407143,0.47483601723652064,0.2809227189743493,0.45061641265730196,2.411545748176749,1.1924086007133394,9.709828099290196,305.46650342203753,2.796266160067721,3.792706185572446]|\n+------------------------------------------------------------------------------------------------------------------------------------------------------------------------------------------------------------------------------------------------------------------------------------------------------------------------------------------------------------------------------------------+\nonly showing top 5 rows\n\n",
       "datasetInfos": [],
       "metadata": {},
       "removedWidgets": [],
       "type": "ansi"
      }
     },
     "output_type": "display_data"
    }
   ],
   "source": [
    "from pyspark.ml.feature import StandardScaler\n",
    "\n",
    "# Definir las variables de entrada y salida\n",
    "inputcol = \"features_raw\"\n",
    "output = \"features\"\n",
    "\n",
    "# Definir el MinMaxScaler\n",
    "standardscaler = StandardScaler(inputCol=inputcol, outputCol=output)\n",
    "\n",
    "# Aplicar el MinMaxScaler\n",
    "train = standardscaler.fit(train).transform(train).drop(\"features_raw\")\n",
    "\n",
    "# Visualizar el resultado\n",
    "train.select(\"features\").show(5, False)"
   ]
  },
  {
   "cell_type": "code",
   "execution_count": 0,
   "metadata": {
    "application/vnd.databricks.v1+cell": {
     "inputWidgets": {},
     "nuid": "23f59212-3a81-48d3-a692-281e9624542c",
     "showTitle": false,
     "title": ""
    }
   },
   "outputs": [
    {
     "data": {
      "text/html": [
       "<div>\n",
       "<style scoped>\n",
       "    .dataframe tbody tr th:only-of-type {\n",
       "        vertical-align: middle;\n",
       "    }\n",
       "\n",
       "    .dataframe tbody tr th {\n",
       "        vertical-align: top;\n",
       "    }\n",
       "\n",
       "    .dataframe thead th {\n",
       "        text-align: right;\n",
       "    }\n",
       "</style>\n",
       "<table border=\"1\" class=\"dataframe\">\n",
       "  <thead>\n",
       "    <tr style=\"text-align: right;\">\n",
       "      <th></th>\n",
       "      <th>label</th>\n",
       "      <th>features</th>\n",
       "    </tr>\n",
       "  </thead>\n",
       "  <tbody>\n",
       "    <tr>\n",
       "      <th>0</th>\n",
       "      <td>0.006113</td>\n",
       "      <td>[19.227794251738167, 308.62249425623, 307.3058...</td>\n",
       "    </tr>\n",
       "    <tr>\n",
       "      <th>1</th>\n",
       "      <td>0.002329</td>\n",
       "      <td>[20.377700221233273, 308.734324170974, 306.734...</td>\n",
       "    </tr>\n",
       "    <tr>\n",
       "      <th>2</th>\n",
       "      <td>0.002268</td>\n",
       "      <td>[21.609739945773608, 309.05764968626966, 307.1...</td>\n",
       "    </tr>\n",
       "    <tr>\n",
       "      <th>3</th>\n",
       "      <td>0.001357</td>\n",
       "      <td>[19.856548025617318, 309.27387559488955, 307.2...</td>\n",
       "    </tr>\n",
       "    <tr>\n",
       "      <th>4</th>\n",
       "      <td>0.001851</td>\n",
       "      <td>[19.211566572987845, 309.07052041324664, 307.0...</td>\n",
       "    </tr>\n",
       "    <tr>\n",
       "      <th>5</th>\n",
       "      <td>0.006997</td>\n",
       "      <td>[19.289121719585182, 309.48133433764383, 307.8...</td>\n",
       "    </tr>\n",
       "    <tr>\n",
       "      <th>6</th>\n",
       "      <td>0.005478</td>\n",
       "      <td>[20.266657634591265, 307.5049067175754, 305.59...</td>\n",
       "    </tr>\n",
       "    <tr>\n",
       "      <th>7</th>\n",
       "      <td>0.002460</td>\n",
       "      <td>[20.371664651617472, 309.10074181122116, 307.0...</td>\n",
       "    </tr>\n",
       "    <tr>\n",
       "      <th>8</th>\n",
       "      <td>0.002067</td>\n",
       "      <td>[18.932784433342352, 309.31220637498575, 307.5...</td>\n",
       "    </tr>\n",
       "    <tr>\n",
       "      <th>9</th>\n",
       "      <td>0.002476</td>\n",
       "      <td>[21.60441211946301, 308.9622072398843, 307.021...</td>\n",
       "    </tr>\n",
       "  </tbody>\n",
       "</table>\n",
       "</div>"
      ]
     },
     "metadata": {
      "application/vnd.databricks.v1+output": {
       "addedWidgets": {},
       "arguments": {},
       "data": "<div>\n<style scoped>\n    .dataframe tbody tr th:only-of-type {\n        vertical-align: middle;\n    }\n\n    .dataframe tbody tr th {\n        vertical-align: top;\n    }\n\n    .dataframe thead th {\n        text-align: right;\n    }\n</style>\n<table border=\"1\" class=\"dataframe\">\n  <thead>\n    <tr style=\"text-align: right;\">\n      <th></th>\n      <th>label</th>\n      <th>features</th>\n    </tr>\n  </thead>\n  <tbody>\n    <tr>\n      <th>0</th>\n      <td>0.006113</td>\n      <td>[19.227794251738167, 308.62249425623, 307.3058...</td>\n    </tr>\n    <tr>\n      <th>1</th>\n      <td>0.002329</td>\n      <td>[20.377700221233273, 308.734324170974, 306.734...</td>\n    </tr>\n    <tr>\n      <th>2</th>\n      <td>0.002268</td>\n      <td>[21.609739945773608, 309.05764968626966, 307.1...</td>\n    </tr>\n    <tr>\n      <th>3</th>\n      <td>0.001357</td>\n      <td>[19.856548025617318, 309.27387559488955, 307.2...</td>\n    </tr>\n    <tr>\n      <th>4</th>\n      <td>0.001851</td>\n      <td>[19.211566572987845, 309.07052041324664, 307.0...</td>\n    </tr>\n    <tr>\n      <th>5</th>\n      <td>0.006997</td>\n      <td>[19.289121719585182, 309.48133433764383, 307.8...</td>\n    </tr>\n    <tr>\n      <th>6</th>\n      <td>0.005478</td>\n      <td>[20.266657634591265, 307.5049067175754, 305.59...</td>\n    </tr>\n    <tr>\n      <th>7</th>\n      <td>0.002460</td>\n      <td>[20.371664651617472, 309.10074181122116, 307.0...</td>\n    </tr>\n    <tr>\n      <th>8</th>\n      <td>0.002067</td>\n      <td>[18.932784433342352, 309.31220637498575, 307.5...</td>\n    </tr>\n    <tr>\n      <th>9</th>\n      <td>0.002476</td>\n      <td>[21.60441211946301, 308.9622072398843, 307.021...</td>\n    </tr>\n  </tbody>\n</table>\n</div>",
       "datasetInfos": [],
       "metadata": {},
       "removedWidgets": [],
       "textData": null,
       "type": "htmlSandbox"
      }
     },
     "output_type": "display_data"
    }
   ],
   "source": [
    "spark.conf.set(\"spark.sql.execution.arrow.pyspark.enabled\", False) # Ocultar el mensaje de warning del pyarrow\n",
    "train = train.withColumnRenamed(\"target\", \"label\").drop(\"row_id\")\n",
    "train.limit(10).toPandas()"
   ]
  },
  {
   "cell_type": "markdown",
   "metadata": {
    "application/vnd.databricks.v1+cell": {
     "inputWidgets": {},
     "nuid": "1769094e-e4c1-431a-97ce-de39575b0ba0",
     "showTitle": false,
     "title": ""
    }
   },
   "source": [
    "### Conclusiones\n",
    "Con este notebook, hemos logrado el objetivo de explorar las herramientas más comúnes de preprocesamiento e ingeniería de características continuas y categóricas con Spark ML mediante ejemplos de casos reales. Hemos visto las maneras de normalizar o estandarizar los datos continuos con **StandardScaler** y **MaxMinScaler** y de indexar los datos categóricos no numéricos con **String Indexer**. También hemos visto cómo aprovechar las funciones del Spark SQL para la extracción de características."
   ]
  }
 ],
 "metadata": {
  "application/vnd.databricks.v1+notebook": {
   "dashboards": [],
   "language": "python",
   "notebookMetadata": {
    "pythonIndentUnit": 4
   },
   "notebookName": "Trabajando con variables continuas y categóricas",
   "notebookOrigID": 4220441181283651,
   "widgets": {}
  },
  "kernelspec": {
   "display_name": "Python 3 (ipykernel)",
   "language": "python",
   "name": "python3"
  },
  "language_info": {
   "codemirror_mode": {
    "name": "ipython",
    "version": 3
   },
   "file_extension": ".py",
   "mimetype": "text/x-python",
   "name": "python",
   "nbconvert_exporter": "python",
   "pygments_lexer": "ipython3",
   "version": "3.10.2"
  }
 },
 "nbformat": 4,
 "nbformat_minor": 1
}
