{
 "cells": [
  {
   "cell_type": "markdown",
   "id": "e444cd22",
   "metadata": {},
   "source": [
    "# Predicción de reservas de hoteles"
   ]
  },
  {
   "cell_type": "markdown",
   "id": "ad51ee32",
   "metadata": {},
   "source": [
    "En este notebook, exploraremos los modelos de clasificación del Spark MLlib. Clasificación es una tarea de predecir una clase, categoría o variable discreta dado un conjunto de variables de entrada. Se diferencia de la regresión en la que la variable de salida posee un número finito de valores posible.\n",
    "\n",
    "## 1. Descripción del problema\n",
    "Un gerente del banco está molesto porque cada vez más clientes abandonan sus servicios de tarjeta de crédito. Realmente apreciaría si se pudieran predecir quién está a punto de darse por perdido para que puedan acudir de manera proactiva al cliente para brindarle mejores servicios y cambiar su decisión a la dirección opuesta."
   ]
  },
  {
   "cell_type": "code",
   "execution_count": 1,
   "id": "2644b8b1",
   "metadata": {},
   "outputs": [
    {
     "name": "stderr",
     "output_type": "stream",
     "text": [
      "WARNING: An illegal reflective access operation has occurred\n",
      "WARNING: Illegal reflective access by org.apache.spark.unsafe.Platform (file:/usr/local/spark-3.2.1-bin-hadoop3.2/jars/spark-unsafe_2.12-3.2.1.jar) to constructor java.nio.DirectByteBuffer(long,int)\n",
      "WARNING: Please consider reporting this to the maintainers of org.apache.spark.unsafe.Platform\n",
      "WARNING: Use --illegal-access=warn to enable warnings of further illegal reflective access operations\n",
      "WARNING: All illegal access operations will be denied in a future release\n",
      "Using Spark's default log4j profile: org/apache/spark/log4j-defaults.properties\n",
      "Setting default log level to \"WARN\".\n",
      "To adjust logging level use sc.setLogLevel(newLevel). For SparkR, use setLogLevel(newLevel).\n",
      "22/05/11 10:13:20 WARN NativeCodeLoader: Unable to load native-hadoop library for your platform... using builtin-java classes where applicable\n"
     ]
    }
   ],
   "source": [
    "# Filtrar los warning\n",
    "import warnings\n",
    "warnings.filterwarnings(\"ignore\")\n",
    "\n",
    "# Importar las librerías\n",
    "import findspark\n",
    "findspark.init('/usr/local/spark/') # Replazar la ruta al Apache Spark\n",
    "from itertools import chain\n",
    "import pyspark.sql.functions as f\n",
    "import pyspark.sql.types as t\n",
    "import pandas as pd\n",
    "from pyspark.sql import SparkSession\n",
    "\n",
    "# Evitar el truncamiento de columnas de un Dataframe\n",
    "pd.set_option('display.max_columns', None)\n",
    "pd.set_option('display.max_colwidth', None)\n",
    "\n",
    "# Iniciar SparkSession\n",
    "spark = SparkSession \\\n",
    "        .builder \\\n",
    "        .getOrCreate()"
   ]
  },
  {
   "cell_type": "markdown",
   "id": "c310d26b",
   "metadata": {},
   "source": [
    "## 2. Sobre el conjunto de datos\n",
    "El conjunto de datos consta de 10.000 clientes que mencionan su edad, salario, estado civil, límite de tarjeta de crédito, categoría de tarjeta de crédito, etc. Hay casi 18 características."
   ]
  },
  {
   "cell_type": "code",
   "execution_count": 2,
   "id": "e3dc02ab",
   "metadata": {},
   "outputs": [
    {
     "name": "stderr",
     "output_type": "stream",
     "text": [
      "                                                                                \r"
     ]
    },
    {
     "data": {
      "text/html": [
       "<div>\n",
       "<style scoped>\n",
       "    .dataframe tbody tr th:only-of-type {\n",
       "        vertical-align: middle;\n",
       "    }\n",
       "\n",
       "    .dataframe tbody tr th {\n",
       "        vertical-align: top;\n",
       "    }\n",
       "\n",
       "    .dataframe thead th {\n",
       "        text-align: right;\n",
       "    }\n",
       "</style>\n",
       "<table border=\"1\" class=\"dataframe\">\n",
       "  <thead>\n",
       "    <tr style=\"text-align: right;\">\n",
       "      <th></th>\n",
       "      <th>Attrition_Flag</th>\n",
       "      <th>Customer_Age</th>\n",
       "      <th>Gender</th>\n",
       "      <th>Dependent_count</th>\n",
       "      <th>Education_Level</th>\n",
       "      <th>Marital_Status</th>\n",
       "      <th>Income_Category</th>\n",
       "      <th>Card_Category</th>\n",
       "      <th>Months_on_book</th>\n",
       "      <th>Total_Relationship_Count</th>\n",
       "      <th>Months_Inactive_12_mon</th>\n",
       "      <th>Contacts_Count_12_mon</th>\n",
       "      <th>Credit_Limit</th>\n",
       "      <th>Total_Revolving_Bal</th>\n",
       "      <th>Avg_Open_To_Buy</th>\n",
       "      <th>Total_Amt_Chng_Q4_Q1</th>\n",
       "      <th>Total_Trans_Amt</th>\n",
       "      <th>Total_Trans_Ct</th>\n",
       "      <th>Total_Ct_Chng_Q4_Q1</th>\n",
       "      <th>Avg_Utilization_Ratio</th>\n",
       "    </tr>\n",
       "  </thead>\n",
       "  <tbody>\n",
       "    <tr>\n",
       "      <th>0</th>\n",
       "      <td>Existing Customer</td>\n",
       "      <td>45</td>\n",
       "      <td>M</td>\n",
       "      <td>3</td>\n",
       "      <td>High School</td>\n",
       "      <td>Married</td>\n",
       "      <td>$60K - $80K</td>\n",
       "      <td>Blue</td>\n",
       "      <td>39</td>\n",
       "      <td>5</td>\n",
       "      <td>1</td>\n",
       "      <td>3</td>\n",
       "      <td>12691.0</td>\n",
       "      <td>777</td>\n",
       "      <td>11914.0</td>\n",
       "      <td>1.335</td>\n",
       "      <td>1144</td>\n",
       "      <td>42</td>\n",
       "      <td>1.625</td>\n",
       "      <td>0.061</td>\n",
       "    </tr>\n",
       "    <tr>\n",
       "      <th>1</th>\n",
       "      <td>Existing Customer</td>\n",
       "      <td>49</td>\n",
       "      <td>F</td>\n",
       "      <td>5</td>\n",
       "      <td>Graduate</td>\n",
       "      <td>Single</td>\n",
       "      <td>Less than $40K</td>\n",
       "      <td>Blue</td>\n",
       "      <td>44</td>\n",
       "      <td>6</td>\n",
       "      <td>1</td>\n",
       "      <td>2</td>\n",
       "      <td>8256.0</td>\n",
       "      <td>864</td>\n",
       "      <td>7392.0</td>\n",
       "      <td>1.541</td>\n",
       "      <td>1291</td>\n",
       "      <td>33</td>\n",
       "      <td>3.714</td>\n",
       "      <td>0.105</td>\n",
       "    </tr>\n",
       "    <tr>\n",
       "      <th>2</th>\n",
       "      <td>Existing Customer</td>\n",
       "      <td>51</td>\n",
       "      <td>M</td>\n",
       "      <td>3</td>\n",
       "      <td>Graduate</td>\n",
       "      <td>Married</td>\n",
       "      <td>$80K - $120K</td>\n",
       "      <td>Blue</td>\n",
       "      <td>36</td>\n",
       "      <td>4</td>\n",
       "      <td>1</td>\n",
       "      <td>0</td>\n",
       "      <td>3418.0</td>\n",
       "      <td>0</td>\n",
       "      <td>3418.0</td>\n",
       "      <td>2.594</td>\n",
       "      <td>1887</td>\n",
       "      <td>20</td>\n",
       "      <td>2.333</td>\n",
       "      <td>0.000</td>\n",
       "    </tr>\n",
       "    <tr>\n",
       "      <th>3</th>\n",
       "      <td>Existing Customer</td>\n",
       "      <td>40</td>\n",
       "      <td>F</td>\n",
       "      <td>4</td>\n",
       "      <td>High School</td>\n",
       "      <td>Unknown</td>\n",
       "      <td>Less than $40K</td>\n",
       "      <td>Blue</td>\n",
       "      <td>34</td>\n",
       "      <td>3</td>\n",
       "      <td>4</td>\n",
       "      <td>1</td>\n",
       "      <td>3313.0</td>\n",
       "      <td>2517</td>\n",
       "      <td>796.0</td>\n",
       "      <td>1.405</td>\n",
       "      <td>1171</td>\n",
       "      <td>20</td>\n",
       "      <td>2.333</td>\n",
       "      <td>0.760</td>\n",
       "    </tr>\n",
       "    <tr>\n",
       "      <th>4</th>\n",
       "      <td>Existing Customer</td>\n",
       "      <td>40</td>\n",
       "      <td>M</td>\n",
       "      <td>3</td>\n",
       "      <td>Uneducated</td>\n",
       "      <td>Married</td>\n",
       "      <td>$60K - $80K</td>\n",
       "      <td>Blue</td>\n",
       "      <td>21</td>\n",
       "      <td>5</td>\n",
       "      <td>1</td>\n",
       "      <td>0</td>\n",
       "      <td>4716.0</td>\n",
       "      <td>0</td>\n",
       "      <td>4716.0</td>\n",
       "      <td>2.175</td>\n",
       "      <td>816</td>\n",
       "      <td>28</td>\n",
       "      <td>2.500</td>\n",
       "      <td>0.000</td>\n",
       "    </tr>\n",
       "    <tr>\n",
       "      <th>5</th>\n",
       "      <td>Existing Customer</td>\n",
       "      <td>44</td>\n",
       "      <td>M</td>\n",
       "      <td>2</td>\n",
       "      <td>Graduate</td>\n",
       "      <td>Married</td>\n",
       "      <td>$40K - $60K</td>\n",
       "      <td>Blue</td>\n",
       "      <td>36</td>\n",
       "      <td>3</td>\n",
       "      <td>1</td>\n",
       "      <td>2</td>\n",
       "      <td>4010.0</td>\n",
       "      <td>1247</td>\n",
       "      <td>2763.0</td>\n",
       "      <td>1.376</td>\n",
       "      <td>1088</td>\n",
       "      <td>24</td>\n",
       "      <td>0.846</td>\n",
       "      <td>0.311</td>\n",
       "    </tr>\n",
       "    <tr>\n",
       "      <th>6</th>\n",
       "      <td>Existing Customer</td>\n",
       "      <td>51</td>\n",
       "      <td>M</td>\n",
       "      <td>4</td>\n",
       "      <td>Unknown</td>\n",
       "      <td>Married</td>\n",
       "      <td>$120K +</td>\n",
       "      <td>Gold</td>\n",
       "      <td>46</td>\n",
       "      <td>6</td>\n",
       "      <td>1</td>\n",
       "      <td>3</td>\n",
       "      <td>34516.0</td>\n",
       "      <td>2264</td>\n",
       "      <td>32252.0</td>\n",
       "      <td>1.975</td>\n",
       "      <td>1330</td>\n",
       "      <td>31</td>\n",
       "      <td>0.722</td>\n",
       "      <td>0.066</td>\n",
       "    </tr>\n",
       "    <tr>\n",
       "      <th>7</th>\n",
       "      <td>Existing Customer</td>\n",
       "      <td>32</td>\n",
       "      <td>M</td>\n",
       "      <td>0</td>\n",
       "      <td>High School</td>\n",
       "      <td>Unknown</td>\n",
       "      <td>$60K - $80K</td>\n",
       "      <td>Silver</td>\n",
       "      <td>27</td>\n",
       "      <td>2</td>\n",
       "      <td>2</td>\n",
       "      <td>2</td>\n",
       "      <td>29081.0</td>\n",
       "      <td>1396</td>\n",
       "      <td>27685.0</td>\n",
       "      <td>2.204</td>\n",
       "      <td>1538</td>\n",
       "      <td>36</td>\n",
       "      <td>0.714</td>\n",
       "      <td>0.048</td>\n",
       "    </tr>\n",
       "    <tr>\n",
       "      <th>8</th>\n",
       "      <td>Existing Customer</td>\n",
       "      <td>37</td>\n",
       "      <td>M</td>\n",
       "      <td>3</td>\n",
       "      <td>Uneducated</td>\n",
       "      <td>Single</td>\n",
       "      <td>$60K - $80K</td>\n",
       "      <td>Blue</td>\n",
       "      <td>36</td>\n",
       "      <td>5</td>\n",
       "      <td>2</td>\n",
       "      <td>0</td>\n",
       "      <td>22352.0</td>\n",
       "      <td>2517</td>\n",
       "      <td>19835.0</td>\n",
       "      <td>3.355</td>\n",
       "      <td>1350</td>\n",
       "      <td>24</td>\n",
       "      <td>1.182</td>\n",
       "      <td>0.113</td>\n",
       "    </tr>\n",
       "    <tr>\n",
       "      <th>9</th>\n",
       "      <td>Existing Customer</td>\n",
       "      <td>48</td>\n",
       "      <td>M</td>\n",
       "      <td>2</td>\n",
       "      <td>Graduate</td>\n",
       "      <td>Single</td>\n",
       "      <td>$80K - $120K</td>\n",
       "      <td>Blue</td>\n",
       "      <td>36</td>\n",
       "      <td>6</td>\n",
       "      <td>3</td>\n",
       "      <td>3</td>\n",
       "      <td>11656.0</td>\n",
       "      <td>1677</td>\n",
       "      <td>9979.0</td>\n",
       "      <td>1.524</td>\n",
       "      <td>1441</td>\n",
       "      <td>32</td>\n",
       "      <td>0.882</td>\n",
       "      <td>0.144</td>\n",
       "    </tr>\n",
       "  </tbody>\n",
       "</table>\n",
       "</div>"
      ],
      "text/plain": [
       "      Attrition_Flag  Customer_Age Gender  Dependent_count Education_Level  \\\n",
       "0  Existing Customer            45      M                3     High School   \n",
       "1  Existing Customer            49      F                5        Graduate   \n",
       "2  Existing Customer            51      M                3        Graduate   \n",
       "3  Existing Customer            40      F                4     High School   \n",
       "4  Existing Customer            40      M                3      Uneducated   \n",
       "5  Existing Customer            44      M                2        Graduate   \n",
       "6  Existing Customer            51      M                4         Unknown   \n",
       "7  Existing Customer            32      M                0     High School   \n",
       "8  Existing Customer            37      M                3      Uneducated   \n",
       "9  Existing Customer            48      M                2        Graduate   \n",
       "\n",
       "  Marital_Status Income_Category Card_Category  Months_on_book  \\\n",
       "0        Married     $60K - $80K          Blue              39   \n",
       "1         Single  Less than $40K          Blue              44   \n",
       "2        Married    $80K - $120K          Blue              36   \n",
       "3        Unknown  Less than $40K          Blue              34   \n",
       "4        Married     $60K - $80K          Blue              21   \n",
       "5        Married     $40K - $60K          Blue              36   \n",
       "6        Married         $120K +          Gold              46   \n",
       "7        Unknown     $60K - $80K        Silver              27   \n",
       "8         Single     $60K - $80K          Blue              36   \n",
       "9         Single    $80K - $120K          Blue              36   \n",
       "\n",
       "   Total_Relationship_Count  Months_Inactive_12_mon  Contacts_Count_12_mon  \\\n",
       "0                         5                       1                      3   \n",
       "1                         6                       1                      2   \n",
       "2                         4                       1                      0   \n",
       "3                         3                       4                      1   \n",
       "4                         5                       1                      0   \n",
       "5                         3                       1                      2   \n",
       "6                         6                       1                      3   \n",
       "7                         2                       2                      2   \n",
       "8                         5                       2                      0   \n",
       "9                         6                       3                      3   \n",
       "\n",
       "   Credit_Limit  Total_Revolving_Bal  Avg_Open_To_Buy  Total_Amt_Chng_Q4_Q1  \\\n",
       "0       12691.0                  777          11914.0                 1.335   \n",
       "1        8256.0                  864           7392.0                 1.541   \n",
       "2        3418.0                    0           3418.0                 2.594   \n",
       "3        3313.0                 2517            796.0                 1.405   \n",
       "4        4716.0                    0           4716.0                 2.175   \n",
       "5        4010.0                 1247           2763.0                 1.376   \n",
       "6       34516.0                 2264          32252.0                 1.975   \n",
       "7       29081.0                 1396          27685.0                 2.204   \n",
       "8       22352.0                 2517          19835.0                 3.355   \n",
       "9       11656.0                 1677           9979.0                 1.524   \n",
       "\n",
       "   Total_Trans_Amt  Total_Trans_Ct  Total_Ct_Chng_Q4_Q1  Avg_Utilization_Ratio  \n",
       "0             1144              42                1.625                  0.061  \n",
       "1             1291              33                3.714                  0.105  \n",
       "2             1887              20                2.333                  0.000  \n",
       "3             1171              20                2.333                  0.760  \n",
       "4              816              28                2.500                  0.000  \n",
       "5             1088              24                0.846                  0.311  \n",
       "6             1330              31                0.722                  0.066  \n",
       "7             1538              36                0.714                  0.048  \n",
       "8             1350              24                1.182                  0.113  \n",
       "9             1441              32                0.882                  0.144  "
      ]
     },
     "execution_count": 2,
     "metadata": {},
     "output_type": "execute_result"
    }
   ],
   "source": [
    "# Cargar el conjunto de datos\n",
    "transactions = spark \\\n",
    "     .read \\\n",
    "     .option(\"header\", \"true\") \\\n",
    "     .option(\"inferSchema\", \"true\") \\\n",
    "     .csv(\"BankChurners.csv\")\n",
    "\n",
    "# Eliminar CLIENTNUM y las dos últimas columnas\n",
    "transactions = transactions.drop(\"CLIENTNUM\", transactions.columns[-1], transactions.columns[-2])\n",
    "\n",
    "# Visualizar el conjunto de los datos\n",
    "transactions.limit(10).toPandas()"
   ]
  },
  {
   "cell_type": "markdown",
   "id": "a9d3ba9a",
   "metadata": {},
   "source": [
    "## 3. Transformación de los datos\n",
    "\n",
    "Un aspecto fundamental del conjunto de datos es que aproximadamente un 16,07% del total de clientes ha abandonado el servicio de tarjeta. Por lo tanto, es necesario llevar en cuenta la falta de balance de los datos a la hora de evaluar la precisión de los modelos.\n",
    "\n",
    "Para facilitar esta tarea, crearemos una nueva columna y asignaremos un peso a cada valor de la variable de salida, de tal manera que la clase minoritaria sea sobrerepresentada y tenga un peso mayor."
   ]
  },
  {
   "cell_type": "code",
   "execution_count": 3,
   "id": "950040bc",
   "metadata": {},
   "outputs": [
    {
     "name": "stderr",
     "output_type": "stream",
     "text": [
      "                                                                                \r"
     ]
    }
   ],
   "source": [
    "import numpy as np\n",
    "from itertools import chain\n",
    "\n",
    "# Computar los pesos\n",
    "y_collect = transactions.select(\"Attrition_Flag\").groupBy(\"Attrition_Flag\").count().collect()\n",
    "unique_y = [x[\"Attrition_Flag\"] for x in y_collect]\n",
    "total_y = sum([x[\"count\"] for x in y_collect])\n",
    "unique_y_count = len(y_collect)\n",
    "bin_count = [x[\"count\"] for x in y_collect]\n",
    "class_weights_spark = {i: ii for i, ii in zip(unique_y, total_y / (unique_y_count * np.array(bin_count)))}\n",
    "\n",
    "# Crear la nueva columna de pesos\n",
    "mapping_expr = f.create_map([f.lit(x) for x in chain(*class_weights_spark.items())])\n",
    "transactions = transactions.withColumn(\"weight\", mapping_expr[f.col(\"Attrition_Flag\")])"
   ]
  },
  {
   "cell_type": "markdown",
   "id": "a7313b9f",
   "metadata": {},
   "source": [
    "## 4. Definición de las etapas de procesamiento\n",
    "\n",
    "El preprocesamiento de datos es el proceso de hacer que los datos crudos sean adecuados para un modelo de aprendizaje automático. Es el primer paso crucial al crear un modelo de aprendizaje.\n",
    "\n",
    "Los pasos de preprocesamiento aplicados a nuestro conjunto de datos incluyeron:\n",
    "* Codificación de las variables independientes categóricas ordinales mediante StringIndexer,\n",
    "* Codificación de las variables independientes categóricas nominales mediante OneHotEncoder,\n",
    "* Codificación de la variable dependiente mediante StringIndexer,\n",
    "* Conversión de los datos de entrada a vectores densos mediante VectorAssembler, y\n",
    "* Estandarización mediante el MinMaxScaler"
   ]
  },
  {
   "cell_type": "code",
   "execution_count": 4,
   "id": "6ffb6d8a",
   "metadata": {},
   "outputs": [],
   "source": [
    "from pyspark.ml.feature import StringIndexer\n",
    "from pyspark.ml.feature import OneHotEncoder\n",
    "from pyspark.ml.feature import VectorAssembler\n",
    "from pyspark.ml.feature import MinMaxScaler\n",
    "\n",
    "# Definir las columnas de entrada y de salida\n",
    "indexerInputCols = ['Education_Level', 'Income_Category', 'Card_Category']\n",
    "indexerOutputCols=['Education_Level_cod', 'Income_Category_cod', 'Card_Category_cod']\n",
    "indexerOneHotInputCols = ['Gender', 'Marital_Status']\n",
    "oneHotInputCols = ['Gender_idx', 'Marital_Status_idx']\n",
    "oneHotOutputCols = ['Gender_cod', 'Marital_Status_cod']\n",
    "labelIndexerInputCol = \"Attrition_Flag\"\n",
    "labelIndexerOutputCol = \"label\"\n",
    "assemblerInputCols = ['Customer_Age','Gender_cod','Dependent_count','Education_Level_cod',\n",
    "                      'Marital_Status_cod','Income_Category_cod','Card_Category_cod',\n",
    "                      'Months_on_book','Total_Relationship_Count','Months_Inactive_12_mon',\n",
    "                      'Contacts_Count_12_mon','Credit_Limit','Total_Revolving_Bal',\n",
    "                      'Avg_Open_To_Buy','Total_Amt_Chng_Q4_Q1','Total_Trans_Amt',\n",
    "                      'Total_Trans_Ct']\n",
    "assemblerOutputCol = \"features_raw\"\n",
    "minmaxScalerInputCol = \"features_raw\"\n",
    "minmaxScalerOutputCol = \"features\"\n",
    "\n",
    "# Aplicar el StringIndexer a las variables categóricas ordinales\n",
    "indexer = StringIndexer(inputCols=indexerInputCols, outputCols=indexerOutputCols, handleInvalid='keep', stringOrderType='frequencyDesc')\n",
    "\n",
    "# Aplicar el OneHotEncoder a las variables categóricas nominales\n",
    "indexerOneHot = StringIndexer(inputCols=indexerOneHotInputCols, outputCols=oneHotInputCols, handleInvalid='keep', stringOrderType='frequencyDesc')\n",
    "onehot = OneHotEncoder(inputCols=oneHotInputCols, outputCols = oneHotOutputCols)\n",
    "\n",
    "# Codificar variable de salida\n",
    "labelIndexer = StringIndexer(inputCol=labelIndexerInputCol, outputCol=labelIndexerOutputCol, handleInvalid='error', stringOrderType='frequencyDesc')\n",
    "\n",
    "# Aplicar el VectorAssembler\n",
    "assembler = VectorAssembler(inputCols = assemblerInputCols, outputCol=assemblerOutputCol)\n",
    "\n",
    "# Aplicar el MinMaxScaler para estandarizar los datos\n",
    "minmaxscaler = MinMaxScaler(min=0.0, max=1.0, inputCol=minmaxScalerInputCol, outputCol=minmaxScalerOutputCol)"
   ]
  },
  {
   "cell_type": "markdown",
   "id": "785be7ff",
   "metadata": {},
   "source": [
    "## 5. Evaluación dividida de train-test\n",
    "\n",
    "Para evaluar nuestros modelos de aprendizaje automático, es necesario aplicar una técnica denominada evaluación dividida de **train-test**. Esta técnica consiste en separar el conjunto de datos en dos subconjuntos para que sean utilizados para diferentes propósitos:\n",
    "* Uno de los subconjunto sería utilizado para entrenar el modelo, y\n",
    "* El otro subconjunto sería utilizado para la evaluación del modelo.\n",
    "\n",
    "El objetivo es estimar la performance del modelo de aprendizaje automático sobre datos nuevos (datos que no fueron utilizados para entrenar el modelo). Esta técnica es aplicable si tenemos un conjunto de datos lo suficientemente grande."
   ]
  },
  {
   "cell_type": "code",
   "execution_count": 5,
   "id": "05242495",
   "metadata": {},
   "outputs": [],
   "source": [
    "train, test = transactions.randomSplit([0.7, 0.3], seed=50)"
   ]
  },
  {
   "cell_type": "markdown",
   "id": "1b8af66e",
   "metadata": {},
   "source": [
    "## 6. Modelos de clasificación"
   ]
  },
  {
   "cell_type": "markdown",
   "id": "62d7a9f0",
   "metadata": {},
   "source": [
    "### 6.1. Regresión logística"
   ]
  },
  {
   "cell_type": "code",
   "execution_count": 7,
   "id": "67cd59ee",
   "metadata": {},
   "outputs": [
    {
     "name": "stderr",
     "output_type": "stream",
     "text": [
      "                                                                                \r"
     ]
    },
    {
     "name": "stdout",
     "output_type": "stream",
     "text": [
      "La precisión del modelo es del 91.37%\n"
     ]
    }
   ],
   "source": [
    "from pyspark.ml import Pipeline\n",
    "from pyspark.ml.classification import LogisticRegression\n",
    "from pyspark.ml.evaluation import BinaryClassificationEvaluator\n",
    "\n",
    "# Logistic Regression\n",
    "lr = LogisticRegression(maxIter=100, regParam=0.0, elasticNetParam=0.0, threshold=0.5, \n",
    "                        family = \"auto\", weightCol=\"weight\")\n",
    "\n",
    "# Aplicar la pipeline de preprocesamiento\n",
    "pipeline = Pipeline(stages=[indexer, indexerOneHot, onehot, labelIndexer, \n",
    "                            assembler, minmaxscaler, lr])\n",
    "pipeline_fit = pipeline.fit(train)\n",
    "predictions = pipeline_fit.transform(test).select(\"label\", \"features\", \"rawPrediction\", \"prediction\", \"weight\")\n",
    "\n",
    "# Visualizar el resultado de la transformación\n",
    "evaluator = BinaryClassificationEvaluator(rawPredictionCol=\"rawPrediction\", labelCol=\"label\", metricName=\"areaUnderROC\", weightCol=\"weight\")\n",
    "print(\"La precisión del modelo es del {:0.2f}%\".format(evaluator.evaluate(predictions)*100))"
   ]
  },
  {
   "cell_type": "markdown",
   "id": "76f4367a",
   "metadata": {},
   "source": [
    "### 6.2. Árboles de decisión"
   ]
  },
  {
   "cell_type": "code",
   "execution_count": 8,
   "id": "fac0dd39",
   "metadata": {},
   "outputs": [
    {
     "name": "stderr",
     "output_type": "stream",
     "text": [
      "                                                                                \r"
     ]
    },
    {
     "name": "stdout",
     "output_type": "stream",
     "text": [
      "La precisión del modelo es del 91.13%\n"
     ]
    }
   ],
   "source": [
    "from pyspark.ml.classification import DecisionTreeClassifier\n",
    "\n",
    "# Árboles de decisión\n",
    "dt = DecisionTreeClassifier(maxDepth=5, maxBins=32, minInstancesPerNode=1, minInfoGain=0.0, \n",
    "                            maxMemoryInMB=256, checkpointInterval=10, weightCol=\"weight\")\n",
    "\n",
    "# Aplicar la pipeline de preprocesamiento\n",
    "pipeline = Pipeline(stages=[indexer, indexerOneHot, onehot, labelIndexer, \n",
    "                            assembler, minmaxscaler, dt])\n",
    "pipeline_fit = pipeline.fit(train)\n",
    "predictions = pipeline_fit.transform(test).select(\"label\", \"features\", \"rawPrediction\", \"prediction\", \"weight\")\n",
    "\n",
    "# Visualizar el resultado de la transformación\n",
    "evaluator = BinaryClassificationEvaluator(rawPredictionCol=\"rawPrediction\", labelCol=\"label\", metricName=\"areaUnderROC\", weightCol=\"weight\")\n",
    "print(\"La precisión del modelo es del {:0.2f}%\".format(evaluator.evaluate(predictions)*100))"
   ]
  },
  {
   "cell_type": "markdown",
   "id": "99091a62",
   "metadata": {},
   "source": [
    "### 6.3. Random forest"
   ]
  },
  {
   "cell_type": "code",
   "execution_count": 9,
   "id": "d5f30f17",
   "metadata": {},
   "outputs": [
    {
     "name": "stderr",
     "output_type": "stream",
     "text": [
      "\r",
      "[Stage 138:>                                                        (0 + 1) / 1]\r",
      "\r",
      "                                                                                \r"
     ]
    },
    {
     "name": "stdout",
     "output_type": "stream",
     "text": [
      "La precisión del modelo es del 96.28%\n"
     ]
    }
   ],
   "source": [
    "from pyspark.ml.classification import RandomForestClassifier\n",
    "\n",
    "# Random forest\n",
    "rf = RandomForestClassifier(weightCol=\"weight\")\n",
    "\n",
    "# Aplicar la pipeline de preprocesamiento\n",
    "pipeline = Pipeline(stages=[indexer, indexerOneHot, onehot, labelIndexer, \n",
    "                            assembler, minmaxscaler, rf])\n",
    "pipeline_fit = pipeline.fit(train)\n",
    "predictions = pipeline_fit.transform(test).select(\"label\", \"features\", \"rawPrediction\", \"prediction\", \"weight\")\n",
    "\n",
    "# Visualizar el resultado de la transformación\n",
    "evaluator = BinaryClassificationEvaluator(rawPredictionCol=\"rawPrediction\", labelCol=\"label\", metricName=\"areaUnderROC\", weightCol=\"weight\")\n",
    "print(\"La precisión del modelo es del {:0.2f}%\".format(evaluator.evaluate(predictions)*100))"
   ]
  },
  {
   "cell_type": "markdown",
   "id": "2f153c13",
   "metadata": {},
   "source": [
    "### 6.4. Gradient-Boosted Decision Trees"
   ]
  },
  {
   "cell_type": "code",
   "execution_count": 10,
   "id": "e513c6c5",
   "metadata": {},
   "outputs": [
    {
     "name": "stdout",
     "output_type": "stream",
     "text": [
      "La precisión del modelo es del 97.55%\n"
     ]
    }
   ],
   "source": [
    "from pyspark.ml.classification import GBTClassifier\n",
    "\n",
    "# Gradient-boosted trees\n",
    "gbt = GBTClassifier(stepSize=0.1, maxDepth=5, subsamplingRate=1.0, weightCol=\"weight\")\n",
    "\n",
    "# Aplicar la pipeline de preprocesamiento\n",
    "pipeline = Pipeline(stages=[indexer, indexerOneHot, onehot, labelIndexer, \n",
    "                            assembler, minmaxscaler, gbt])\n",
    "pipeline_fit = pipeline.fit(train)\n",
    "predictions = pipeline_fit.transform(test).select(\"label\", \"features\", \"rawPrediction\", \"prediction\", \"weight\")\n",
    "\n",
    "# Visualizar el resultado de la transformación\n",
    "evaluator = BinaryClassificationEvaluator(rawPredictionCol=\"rawPrediction\", labelCol=\"label\", metricName=\"areaUnderROC\", weightCol=\"weight\")\n",
    "print(\"La precisión del modelo es del {:0.2f}%\".format(evaluator.evaluate(predictions)*100))"
   ]
  },
  {
   "cell_type": "markdown",
   "id": "85798e22",
   "metadata": {},
   "source": [
    "## 7. Optimización de modelos"
   ]
  },
  {
   "cell_type": "markdown",
   "id": "80157e6d",
   "metadata": {},
   "source": [
    "### 7.1. Ajuste de hiperparámetros\n",
    "\n",
    "Mientras que un algoritmo de aprendizaje automático intentar ajustar los **parámetros** para lograr aprender de los datos, los **hiperparámetros** son parámetros que no pueden ser ajustados por el modelo durante el entrenamiento. No obstante, estos hiperparámetros suelen estar relacionados a propiedades importantes de cada modelo y deben ser manualmente o automaticamente ajustados para obtener un modelo más preciso.\n",
    "\n",
    "La mayoría de los hiperparámetros están relacionados:\n",
    "- A los mecanismos de penalidad para prevenir sobreajuste o **overfitting** (por ejemplo, regularización L1 o L2),\n",
    "- A la tasa de aprendizaje o learning rate, y\n",
    "- Al tamaño del árbol en caso de modelos basados en árboles de decisión."
   ]
  },
  {
   "cell_type": "markdown",
   "id": "6f06c979",
   "metadata": {},
   "source": [
    "### 7.2. Validación cruzada (cross validation)\n",
    "La validación cruzada es una técnica utilizada para evaluar los resultados de un análisis estadístico y garantizar que son independientes de la partición entre datos de entrenamiento y prueba. Consiste en calcular la media artimética obtenidas de las medidas de evaluación sobre diferentes particiones. \n",
    "\n",
    "La **validación cruzada de K iteracciones (K-fold cross-validation)** es la técnica más utilizada. Esta técnica divide un conjunto de datos en K subconjuntos. Uno de los subconjuntos se utiliza como datos de prueba y el resto (K-1) como datos de entrenamiento. El proceso de validación cruzada es repetido durante k iteracciones, con cada uno de los posibles subconjuntos de datos de prueba. Finalmente se realiza la media aritmética de los resultados de cada iteración para obtener un único resultado.\n",
    "\n",
    "![k-fold](assets/3.jpg)"
   ]
  },
  {
   "cell_type": "markdown",
   "id": "9a1f1ebc",
   "metadata": {},
   "source": [
    "### 7.3. La curva ROC (Receiver Operating Characteristic)\n",
    "La curva ROC es una representación gráfica de la sensibilidad frente a la especificidad para un sistema clasificador binario  según se varía el umbral de discriminación. En otras palabras, mide la proporción de la razón de verdaderos positivos (VPR) frente a la razón de falsos positivos (FPR) según varía el valor a partir del cual decidimos que un caso es positivo).\n",
    "\n",
    "![ROC space](assets/1.png)\n",
    "\n",
    "De la curva ROC se deriva el **Area Under the ROC Curve** o **AUC**. El AUC mide todo el área por debajo de la curva ROC, utilizando el cálculo integral. El valor de esta área puede variar del 0 al 1, y provee una medida de performance del modelo de clasificación.\n",
    "\n",
    "![AUC space](assets/2.png)"
   ]
  },
  {
   "cell_type": "markdown",
   "id": "02d68a9e",
   "metadata": {},
   "source": [
    "### 7.4. Ejemplo de optimización\n",
    "\n",
    "#### 7.4.1. Definir el modelo base"
   ]
  },
  {
   "cell_type": "code",
   "execution_count": 11,
   "id": "cc0d5743",
   "metadata": {},
   "outputs": [],
   "source": [
    "# Gradient-boosted trees\n",
    "gbt = GBTClassifier(stepSize=0.1, maxDepth=5, maxBins=32, weightCol=\"weight\")"
   ]
  },
  {
   "cell_type": "markdown",
   "id": "8c16618b",
   "metadata": {},
   "source": [
    "#### 7.4.2. Definir el espacio de búsqueda con ParamGridBuilder"
   ]
  },
  {
   "cell_type": "code",
   "execution_count": 12,
   "id": "b2020508",
   "metadata": {},
   "outputs": [],
   "source": [
    "from pyspark.ml.tuning import ParamGridBuilder\n",
    "paramGrid = ParamGridBuilder() \\\n",
    "    .addGrid(gbt.stepSize, [0.05, 0.1, 0.5, 1]) \\\n",
    "    .addGrid(gbt.maxBins, [2, 16, 32, 64, 128]) \\\n",
    ".build()"
   ]
  },
  {
   "cell_type": "markdown",
   "id": "aa5afa34",
   "metadata": {},
   "source": [
    "#### 7.4.3. Definir la pipeline"
   ]
  },
  {
   "cell_type": "code",
   "execution_count": 13,
   "id": "7bfa4b2d",
   "metadata": {},
   "outputs": [],
   "source": [
    "pipeline = Pipeline(stages=[indexer, indexerOneHot, onehot, labelIndexer, \n",
    "                            assembler, minmaxscaler, gbt])"
   ]
  },
  {
   "cell_type": "markdown",
   "id": "b3f9a72e",
   "metadata": {},
   "source": [
    "#### 7.4.4. Definir el evaluador"
   ]
  },
  {
   "cell_type": "code",
   "execution_count": 14,
   "id": "977b573f",
   "metadata": {},
   "outputs": [],
   "source": [
    "evaluator = BinaryClassificationEvaluator(rawPredictionCol=\"rawPrediction\", labelCol=\"label\", metricName=\"areaUnderROC\", weightCol=\"weight\")"
   ]
  },
  {
   "cell_type": "markdown",
   "id": "67b3ae43",
   "metadata": {},
   "source": [
    "#### 7.4.5. Definir nuestra validación cruzada"
   ]
  },
  {
   "cell_type": "code",
   "execution_count": 15,
   "id": "df2df586",
   "metadata": {},
   "outputs": [],
   "source": [
    "from pyspark.ml.tuning import CrossValidator\n",
    "crossval = CrossValidator(estimator=pipeline,\n",
    "                          estimatorParamMaps=paramGrid,\n",
    "                          evaluator=evaluator,\n",
    "                          numFolds=3)  # utilizar 3 o más folds en la práctica"
   ]
  },
  {
   "cell_type": "markdown",
   "id": "26e020bf",
   "metadata": {},
   "source": [
    "#### 7.4.6. Entrenar el modelo"
   ]
  },
  {
   "cell_type": "code",
   "execution_count": 16,
   "id": "bdc88546",
   "metadata": {},
   "outputs": [
    {
     "name": "stderr",
     "output_type": "stream",
     "text": [
      "\r",
      "[Stage 382:>                                                        (0 + 1) / 1]\r",
      "\r",
      "                                                                                \r"
     ]
    },
    {
     "name": "stdout",
     "output_type": "stream",
     "text": [
      "CPU times: user 14.3 s, sys: 4.87 s, total: 19.1 s\n",
      "Wall time: 10min 22s\n"
     ]
    }
   ],
   "source": [
    "%%time\n",
    "cvModel = crossval.fit(train)"
   ]
  },
  {
   "cell_type": "markdown",
   "id": "f21dff6c",
   "metadata": {},
   "source": [
    "#### 7.4.7. Ver los hiperparámetros de los 5 modelos con mejor precisión"
   ]
  },
  {
   "cell_type": "code",
   "execution_count": 17,
   "id": "ed811fa4",
   "metadata": {},
   "outputs": [
    {
     "name": "stdout",
     "output_type": "stream",
     "text": [
      "Se evaluó un total de 20 modelos\n"
     ]
    },
    {
     "data": {
      "text/html": [
       "<div>\n",
       "<style scoped>\n",
       "    .dataframe tbody tr th:only-of-type {\n",
       "        vertical-align: middle;\n",
       "    }\n",
       "\n",
       "    .dataframe tbody tr th {\n",
       "        vertical-align: top;\n",
       "    }\n",
       "\n",
       "    .dataframe thead th {\n",
       "        text-align: right;\n",
       "    }\n",
       "</style>\n",
       "<table border=\"1\" class=\"dataframe\">\n",
       "  <thead>\n",
       "    <tr style=\"text-align: right;\">\n",
       "      <th></th>\n",
       "      <th>areaUnderROC</th>\n",
       "      <th>params</th>\n",
       "    </tr>\n",
       "  </thead>\n",
       "  <tbody>\n",
       "    <tr>\n",
       "      <th>14</th>\n",
       "      <td>0.984021</td>\n",
       "      <td>{GBTClassifier_291444183a98__stepSize: 0.5, GBTClassifier_291444183a98__maxBins: 128}</td>\n",
       "    </tr>\n",
       "    <tr>\n",
       "      <th>12</th>\n",
       "      <td>0.981101</td>\n",
       "      <td>{GBTClassifier_291444183a98__stepSize: 0.5, GBTClassifier_291444183a98__maxBins: 32}</td>\n",
       "    </tr>\n",
       "    <tr>\n",
       "      <th>13</th>\n",
       "      <td>0.980768</td>\n",
       "      <td>{GBTClassifier_291444183a98__stepSize: 0.5, GBTClassifier_291444183a98__maxBins: 64}</td>\n",
       "    </tr>\n",
       "    <tr>\n",
       "      <th>11</th>\n",
       "      <td>0.979083</td>\n",
       "      <td>{GBTClassifier_291444183a98__stepSize: 0.5, GBTClassifier_291444183a98__maxBins: 16}</td>\n",
       "    </tr>\n",
       "    <tr>\n",
       "      <th>8</th>\n",
       "      <td>0.978947</td>\n",
       "      <td>{GBTClassifier_291444183a98__stepSize: 0.1, GBTClassifier_291444183a98__maxBins: 64}</td>\n",
       "    </tr>\n",
       "  </tbody>\n",
       "</table>\n",
       "</div>"
      ],
      "text/plain": [
       "    areaUnderROC  \\\n",
       "14      0.984021   \n",
       "12      0.981101   \n",
       "13      0.980768   \n",
       "11      0.979083   \n",
       "8       0.978947   \n",
       "\n",
       "                                                                                   params  \n",
       "14  {GBTClassifier_291444183a98__stepSize: 0.5, GBTClassifier_291444183a98__maxBins: 128}  \n",
       "12   {GBTClassifier_291444183a98__stepSize: 0.5, GBTClassifier_291444183a98__maxBins: 32}  \n",
       "13   {GBTClassifier_291444183a98__stepSize: 0.5, GBTClassifier_291444183a98__maxBins: 64}  \n",
       "11   {GBTClassifier_291444183a98__stepSize: 0.5, GBTClassifier_291444183a98__maxBins: 16}  \n",
       "8    {GBTClassifier_291444183a98__stepSize: 0.1, GBTClassifier_291444183a98__maxBins: 64}  "
      ]
     },
     "execution_count": 17,
     "metadata": {},
     "output_type": "execute_result"
    }
   ],
   "source": [
    "model_params = pd.DataFrame([[i, z] for i, z in zip(cvModel.avgMetrics, paramGrid)], \n",
    "                            columns=[\"areaUnderROC\", \"params\"]) \\\n",
    "                            .sort_values(by=\"areaUnderROC\", ascending=False)\n",
    "print(f\"Se evaluó un total de {model_params.shape[0]} modelos\")\n",
    "model_params.head(5)"
   ]
  },
  {
   "cell_type": "markdown",
   "id": "3afb46ca",
   "metadata": {},
   "source": [
    "#### 7.4.8. Evaluar el mejor modelo sobre los datos de prueba"
   ]
  },
  {
   "cell_type": "code",
   "execution_count": 18,
   "id": "2df607a2",
   "metadata": {
    "scrolled": true
   },
   "outputs": [
    {
     "name": "stdout",
     "output_type": "stream",
     "text": [
      "La precisión del modelo es del 98.06%\n"
     ]
    }
   ],
   "source": [
    "predictions = cvModel.transform(test)\n",
    "print(\"La precisión del modelo es del {:0.2f}%\".format(evaluator.evaluate(predictions)*100))"
   ]
  },
  {
   "cell_type": "markdown",
   "id": "0139f187",
   "metadata": {},
   "source": [
    "#### 7.4.9. Evaluar el mejor modelo mediante una matriz de confusión\n",
    "\n",
    "La matriz de confusión es una técnica muy útil para evaluar el desempeño de un modelo de aprendizaje automático en un problema de clasificación binaria. Cada columna de la matriz representa el número de predicciones de cada clase, mientras que cada fila representa a las instancias en la clase real.\n",
    "\n",
    "Se le denomina **matriz de confusión** porque nos permite ver si el modelo está confundiendo las dos clases de la variable dependiente."
   ]
  },
  {
   "cell_type": "code",
   "execution_count": 19,
   "id": "385b08a1",
   "metadata": {},
   "outputs": [
    {
     "name": "stderr",
     "output_type": "stream",
     "text": [
      "                                                                                \r"
     ]
    },
    {
     "data": {
      "image/png": "[encoded data removed]",
      "text/plain": [
       "<Figure size 432x288 with 2 Axes>"
      ]
     },
     "metadata": {
      "needs_background": "light"
     },
     "output_type": "display_data"
    }
   ],
   "source": [
    "import matplotlib.pyplot as plt\n",
    "import seaborn as sns\n",
    "from pyspark.mllib.evaluation import MulticlassMetrics\n",
    "from pyspark.sql.types import FloatType\n",
    "\n",
    "# Generar matriz de confusión\n",
    "preds_and_labels = predictions.select(['prediction','label']) \\\n",
    "                              .withColumn('label1', f.col('label')\\\n",
    "                              .cast(FloatType())) \\\n",
    "                              .orderBy('prediction') \\\n",
    "                              .select(['prediction','label'])\n",
    "metrics = MulticlassMetrics(preds_and_labels.rdd.map(tuple))\n",
    "\n",
    "# Generar gráfico\n",
    "ax = sns.heatmap(metrics.confusionMatrix().toArray().astype('int64'), annot=True, cmap='Blues', fmt=\"d\")\n",
    "ax.set_title('Matriz de confusión\\n\\n');\n",
    "ax.set_xlabel('\\nValores predecidos')\n",
    "ax.set_ylabel('Valores actuales');\n",
    "ax.xaxis.set_ticklabels(['Clientes existentes','Clientes perdidos'])\n",
    "ax.yaxis.set_ticklabels(['Clientes existentes','Clientes perdidos'])\n",
    "\n",
    "## Mostrar el gráfico\n",
    "plt.show()"
   ]
  },
  {
   "cell_type": "code",
   "execution_count": null,
   "id": "e3944755",
   "metadata": {},
   "outputs": [],
   "source": []
  }
 ],
 "metadata": {
  "kernelspec": {
   "display_name": "Python 3 (ipykernel)",
   "language": "python",
   "name": "python3"
  },
  "language_info": {
   "codemirror_mode": {
    "name": "ipython",
    "version": 3
   },
   "file_extension": ".py",
   "mimetype": "text/x-python",
   "name": "python",
   "nbconvert_exporter": "python",
   "pygments_lexer": "ipython3",
   "version": "3.10.4"
  }
 },
 "nbformat": 4,
 "nbformat_minor": 5
}
